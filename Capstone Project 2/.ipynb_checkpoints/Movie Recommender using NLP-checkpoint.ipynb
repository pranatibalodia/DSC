{
 "cells": [
  {
   "cell_type": "markdown",
   "metadata": {},
   "source": [
    "# Movie Recommendation"
   ]
  },
  {
   "cell_type": "code",
   "execution_count": 1,
   "metadata": {},
   "outputs": [],
   "source": [
    "# Import neccessary libraries\n",
    "import pandas as pd\n",
    "import numpy as np\n",
    "import matplotlib.pyplot as plt\n",
    "import seaborn as sns\n",
    "from pandas.tools.plotting import table"
   ]
  },
  {
   "cell_type": "code",
   "execution_count": 2,
   "metadata": {},
   "outputs": [],
   "source": [
    "# Import movies table and set the index\n",
    "movies = pd.read_csv('data/movies0.csv')\n",
    "#movies.set_index('tconst', inplace=True)"
   ]
  },
  {
   "cell_type": "code",
   "execution_count": 3,
   "metadata": {},
   "outputs": [
    {
     "data": {
      "text/html": [
       "<div>\n",
       "<style scoped>\n",
       "    .dataframe tbody tr th:only-of-type {\n",
       "        vertical-align: middle;\n",
       "    }\n",
       "\n",
       "    .dataframe tbody tr th {\n",
       "        vertical-align: top;\n",
       "    }\n",
       "\n",
       "    .dataframe thead th {\n",
       "        text-align: right;\n",
       "    }\n",
       "</style>\n",
       "<table border=\"1\" class=\"dataframe\">\n",
       "  <thead>\n",
       "    <tr style=\"text-align: right;\">\n",
       "      <th></th>\n",
       "      <th>tconst</th>\n",
       "      <th>primaryTitle</th>\n",
       "      <th>startYear</th>\n",
       "      <th>runtimeMinutes</th>\n",
       "      <th>genres</th>\n",
       "      <th>directors</th>\n",
       "      <th>writers</th>\n",
       "      <th>averageRating</th>\n",
       "      <th>numVotes</th>\n",
       "      <th>plot</th>\n",
       "      <th>plot outlines</th>\n",
       "      <th>keywords</th>\n",
       "      <th>synopsis</th>\n",
       "    </tr>\n",
       "  </thead>\n",
       "  <tbody>\n",
       "    <tr>\n",
       "      <th>0</th>\n",
       "      <td>tt0111161</td>\n",
       "      <td>The Shawshank Redemption</td>\n",
       "      <td>1994</td>\n",
       "      <td>142</td>\n",
       "      <td>Drama</td>\n",
       "      <td>nm0001104</td>\n",
       "      <td>nm0000175,nm0001104</td>\n",
       "      <td>9.3</td>\n",
       "      <td>2057323</td>\n",
       "      <td>Two imprisoned men bond over a number of years...</td>\n",
       "      <td>Chronicles the experiences of a formerly succe...</td>\n",
       "      <td>wrongful-imprisonment,escape-from-prison,based...</td>\n",
       "      <td>In 1947, Andy Dufresne (Tim Robbins), a banker...</td>\n",
       "    </tr>\n",
       "    <tr>\n",
       "      <th>1</th>\n",
       "      <td>tt0468569</td>\n",
       "      <td>The Dark Knight</td>\n",
       "      <td>2008</td>\n",
       "      <td>152</td>\n",
       "      <td>Action,Crime,Drama</td>\n",
       "      <td>nm0634240</td>\n",
       "      <td>nm0634300,nm0634240,nm0333060,nm0004170</td>\n",
       "      <td>9.0</td>\n",
       "      <td>2023734</td>\n",
       "      <td>When the menace known as the Joker emerges fro...</td>\n",
       "      <td>Set within a year after the events of Batman B...</td>\n",
       "      <td>dc-comics,moral-dilemma,psychopath,clown,scarr...</td>\n",
       "      <td>The movie begins with a gang of men with clown...</td>\n",
       "    </tr>\n",
       "    <tr>\n",
       "      <th>2</th>\n",
       "      <td>tt1375666</td>\n",
       "      <td>Inception</td>\n",
       "      <td>2010</td>\n",
       "      <td>148</td>\n",
       "      <td>Action,Adventure,Sci-Fi</td>\n",
       "      <td>nm0634240</td>\n",
       "      <td>nm0634240</td>\n",
       "      <td>8.8</td>\n",
       "      <td>1802989</td>\n",
       "      <td>A thief who steals corporate secrets through t...</td>\n",
       "      <td>Dom Cobb is a skilled thief, the absolute best...</td>\n",
       "      <td>dream,subconscious,ambiguous-ending,thief,psyc...</td>\n",
       "      <td>A young man, exhausted and delirious, washes u...</td>\n",
       "    </tr>\n",
       "  </tbody>\n",
       "</table>\n",
       "</div>"
      ],
      "text/plain": [
       "      tconst              primaryTitle  startYear  runtimeMinutes  \\\n",
       "0  tt0111161  The Shawshank Redemption       1994             142   \n",
       "1  tt0468569           The Dark Knight       2008             152   \n",
       "2  tt1375666                 Inception       2010             148   \n",
       "\n",
       "                    genres  directors  \\\n",
       "0                    Drama  nm0001104   \n",
       "1       Action,Crime,Drama  nm0634240   \n",
       "2  Action,Adventure,Sci-Fi  nm0634240   \n",
       "\n",
       "                                   writers  averageRating  numVotes  \\\n",
       "0                      nm0000175,nm0001104            9.3   2057323   \n",
       "1  nm0634300,nm0634240,nm0333060,nm0004170            9.0   2023734   \n",
       "2                                nm0634240            8.8   1802989   \n",
       "\n",
       "                                                plot  \\\n",
       "0  Two imprisoned men bond over a number of years...   \n",
       "1  When the menace known as the Joker emerges fro...   \n",
       "2  A thief who steals corporate secrets through t...   \n",
       "\n",
       "                                       plot outlines  \\\n",
       "0  Chronicles the experiences of a formerly succe...   \n",
       "1  Set within a year after the events of Batman B...   \n",
       "2  Dom Cobb is a skilled thief, the absolute best...   \n",
       "\n",
       "                                            keywords  \\\n",
       "0  wrongful-imprisonment,escape-from-prison,based...   \n",
       "1  dc-comics,moral-dilemma,psychopath,clown,scarr...   \n",
       "2  dream,subconscious,ambiguous-ending,thief,psyc...   \n",
       "\n",
       "                                            synopsis  \n",
       "0  In 1947, Andy Dufresne (Tim Robbins), a banker...  \n",
       "1  The movie begins with a gang of men with clown...  \n",
       "2  A young man, exhausted and delirious, washes u...  "
      ]
     },
     "execution_count": 3,
     "metadata": {},
     "output_type": "execute_result"
    }
   ],
   "source": [
    "movies.head(3)"
   ]
  },
  {
   "cell_type": "markdown",
   "metadata": {},
   "source": [
    "We don't need directors or writers, so we drop them and save the resulting file in a CSV. It's already been done, so the code in the next cell is commented out."
   ]
  },
  {
   "cell_type": "code",
   "execution_count": 4,
   "metadata": {},
   "outputs": [],
   "source": [
    "# movies.drop(labels=['directors', 'writers'], axis='columns', inplace=True) \n",
    "# Save our dataframe \n",
    "# movies.to_csv(path_or_buf='movies0.csv')"
   ]
  },
  {
   "cell_type": "code",
   "execution_count": 5,
   "metadata": {},
   "outputs": [],
   "source": [
    "# Import movies table and set the index\n",
    "movies = pd.read_csv('movies0.csv')\n",
    "#movies.set_index('tconst', inplace=True)"
   ]
  },
  {
   "cell_type": "code",
   "execution_count": 6,
   "metadata": {},
   "outputs": [
    {
     "data": {
      "text/html": [
       "<div>\n",
       "<style scoped>\n",
       "    .dataframe tbody tr th:only-of-type {\n",
       "        vertical-align: middle;\n",
       "    }\n",
       "\n",
       "    .dataframe tbody tr th {\n",
       "        vertical-align: top;\n",
       "    }\n",
       "\n",
       "    .dataframe thead th {\n",
       "        text-align: right;\n",
       "    }\n",
       "</style>\n",
       "<table border=\"1\" class=\"dataframe\">\n",
       "  <thead>\n",
       "    <tr style=\"text-align: right;\">\n",
       "      <th></th>\n",
       "      <th>tconst</th>\n",
       "      <th>primaryTitle</th>\n",
       "      <th>startYear</th>\n",
       "      <th>runtimeMinutes</th>\n",
       "      <th>genres</th>\n",
       "      <th>averageRating</th>\n",
       "      <th>numVotes</th>\n",
       "      <th>plot</th>\n",
       "      <th>plot outlines</th>\n",
       "      <th>keywords</th>\n",
       "      <th>synopsis</th>\n",
       "    </tr>\n",
       "  </thead>\n",
       "  <tbody>\n",
       "    <tr>\n",
       "      <th>0</th>\n",
       "      <td>tt0111161</td>\n",
       "      <td>The Shawshank Redemption</td>\n",
       "      <td>1994</td>\n",
       "      <td>142</td>\n",
       "      <td>Drama</td>\n",
       "      <td>9.3</td>\n",
       "      <td>2057323</td>\n",
       "      <td>Two imprisoned men bond over a number of years...</td>\n",
       "      <td>Chronicles the experiences of a formerly succe...</td>\n",
       "      <td>wrongful-imprisonment,escape-from-prison,based...</td>\n",
       "      <td>In 1947, Andy Dufresne (Tim Robbins), a banker...</td>\n",
       "    </tr>\n",
       "    <tr>\n",
       "      <th>1</th>\n",
       "      <td>tt0468569</td>\n",
       "      <td>The Dark Knight</td>\n",
       "      <td>2008</td>\n",
       "      <td>152</td>\n",
       "      <td>Action,Crime,Drama</td>\n",
       "      <td>9.0</td>\n",
       "      <td>2023734</td>\n",
       "      <td>When the menace known as the Joker emerges fro...</td>\n",
       "      <td>Set within a year after the events of Batman B...</td>\n",
       "      <td>dc-comics,moral-dilemma,psychopath,clown,scarr...</td>\n",
       "      <td>The movie begins with a gang of men with clown...</td>\n",
       "    </tr>\n",
       "    <tr>\n",
       "      <th>2</th>\n",
       "      <td>tt1375666</td>\n",
       "      <td>Inception</td>\n",
       "      <td>2010</td>\n",
       "      <td>148</td>\n",
       "      <td>Action,Adventure,Sci-Fi</td>\n",
       "      <td>8.8</td>\n",
       "      <td>1802989</td>\n",
       "      <td>A thief who steals corporate secrets through t...</td>\n",
       "      <td>Dom Cobb is a skilled thief, the absolute best...</td>\n",
       "      <td>dream,subconscious,ambiguous-ending,thief,psyc...</td>\n",
       "      <td>A young man, exhausted and delirious, washes u...</td>\n",
       "    </tr>\n",
       "  </tbody>\n",
       "</table>\n",
       "</div>"
      ],
      "text/plain": [
       "      tconst              primaryTitle  startYear  runtimeMinutes  \\\n",
       "0  tt0111161  The Shawshank Redemption       1994             142   \n",
       "1  tt0468569           The Dark Knight       2008             152   \n",
       "2  tt1375666                 Inception       2010             148   \n",
       "\n",
       "                    genres  averageRating  numVotes  \\\n",
       "0                    Drama            9.3   2057323   \n",
       "1       Action,Crime,Drama            9.0   2023734   \n",
       "2  Action,Adventure,Sci-Fi            8.8   1802989   \n",
       "\n",
       "                                                plot  \\\n",
       "0  Two imprisoned men bond over a number of years...   \n",
       "1  When the menace known as the Joker emerges fro...   \n",
       "2  A thief who steals corporate secrets through t...   \n",
       "\n",
       "                                       plot outlines  \\\n",
       "0  Chronicles the experiences of a formerly succe...   \n",
       "1  Set within a year after the events of Batman B...   \n",
       "2  Dom Cobb is a skilled thief, the absolute best...   \n",
       "\n",
       "                                            keywords  \\\n",
       "0  wrongful-imprisonment,escape-from-prison,based...   \n",
       "1  dc-comics,moral-dilemma,psychopath,clown,scarr...   \n",
       "2  dream,subconscious,ambiguous-ending,thief,psyc...   \n",
       "\n",
       "                                            synopsis  \n",
       "0  In 1947, Andy Dufresne (Tim Robbins), a banker...  \n",
       "1  The movie begins with a gang of men with clown...  \n",
       "2  A young man, exhausted and delirious, washes u...  "
      ]
     },
     "execution_count": 6,
     "metadata": {},
     "output_type": "execute_result"
    }
   ],
   "source": [
    "movies.head(3)"
   ]
  },
  {
   "cell_type": "markdown",
   "metadata": {},
   "source": [
    "For the time being, let's drop the plot, plot outlines, and synopsis columns so we can focus on building a model that only uses keywords."
   ]
  },
  {
   "cell_type": "code",
   "execution_count": 7,
   "metadata": {},
   "outputs": [],
   "source": [
    "movies.drop(labels=['plot', 'plot outlines', 'synopsis'], axis='columns', inplace=True) "
   ]
  },
  {
   "cell_type": "code",
   "execution_count": 8,
   "metadata": {},
   "outputs": [
    {
     "data": {
      "text/html": [
       "<div>\n",
       "<style scoped>\n",
       "    .dataframe tbody tr th:only-of-type {\n",
       "        vertical-align: middle;\n",
       "    }\n",
       "\n",
       "    .dataframe tbody tr th {\n",
       "        vertical-align: top;\n",
       "    }\n",
       "\n",
       "    .dataframe thead th {\n",
       "        text-align: right;\n",
       "    }\n",
       "</style>\n",
       "<table border=\"1\" class=\"dataframe\">\n",
       "  <thead>\n",
       "    <tr style=\"text-align: right;\">\n",
       "      <th></th>\n",
       "      <th>tconst</th>\n",
       "      <th>primaryTitle</th>\n",
       "      <th>startYear</th>\n",
       "      <th>runtimeMinutes</th>\n",
       "      <th>genres</th>\n",
       "      <th>averageRating</th>\n",
       "      <th>numVotes</th>\n",
       "      <th>keywords</th>\n",
       "    </tr>\n",
       "  </thead>\n",
       "  <tbody>\n",
       "    <tr>\n",
       "      <th>0</th>\n",
       "      <td>tt0111161</td>\n",
       "      <td>The Shawshank Redemption</td>\n",
       "      <td>1994</td>\n",
       "      <td>142</td>\n",
       "      <td>Drama</td>\n",
       "      <td>9.3</td>\n",
       "      <td>2057323</td>\n",
       "      <td>wrongful-imprisonment,escape-from-prison,based...</td>\n",
       "    </tr>\n",
       "    <tr>\n",
       "      <th>1</th>\n",
       "      <td>tt0468569</td>\n",
       "      <td>The Dark Knight</td>\n",
       "      <td>2008</td>\n",
       "      <td>152</td>\n",
       "      <td>Action,Crime,Drama</td>\n",
       "      <td>9.0</td>\n",
       "      <td>2023734</td>\n",
       "      <td>dc-comics,moral-dilemma,psychopath,clown,scarr...</td>\n",
       "    </tr>\n",
       "    <tr>\n",
       "      <th>2</th>\n",
       "      <td>tt1375666</td>\n",
       "      <td>Inception</td>\n",
       "      <td>2010</td>\n",
       "      <td>148</td>\n",
       "      <td>Action,Adventure,Sci-Fi</td>\n",
       "      <td>8.8</td>\n",
       "      <td>1802989</td>\n",
       "      <td>dream,subconscious,ambiguous-ending,thief,psyc...</td>\n",
       "    </tr>\n",
       "  </tbody>\n",
       "</table>\n",
       "</div>"
      ],
      "text/plain": [
       "      tconst              primaryTitle  startYear  runtimeMinutes  \\\n",
       "0  tt0111161  The Shawshank Redemption       1994             142   \n",
       "1  tt0468569           The Dark Knight       2008             152   \n",
       "2  tt1375666                 Inception       2010             148   \n",
       "\n",
       "                    genres  averageRating  numVotes  \\\n",
       "0                    Drama            9.3   2057323   \n",
       "1       Action,Crime,Drama            9.0   2023734   \n",
       "2  Action,Adventure,Sci-Fi            8.8   1802989   \n",
       "\n",
       "                                            keywords  \n",
       "0  wrongful-imprisonment,escape-from-prison,based...  \n",
       "1  dc-comics,moral-dilemma,psychopath,clown,scarr...  \n",
       "2  dream,subconscious,ambiguous-ending,thief,psyc...  "
      ]
     },
     "execution_count": 8,
     "metadata": {},
     "output_type": "execute_result"
    }
   ],
   "source": [
    "movies.head(3)"
   ]
  },
  {
   "cell_type": "markdown",
   "metadata": {},
   "source": [
    "Done."
   ]
  },
  {
   "cell_type": "markdown",
   "metadata": {},
   "source": [
    "Let's temporarly get rid of null keyword movies; otherwise CountVectorizer won't work."
   ]
  },
  {
   "cell_type": "code",
   "execution_count": 9,
   "metadata": {},
   "outputs": [],
   "source": [
    "movies = movies[movies.keywords.notnull()]"
   ]
  },
  {
   "cell_type": "code",
   "execution_count": 10,
   "metadata": {},
   "outputs": [
    {
     "data": {
      "text/plain": [
       "(9877, 8)"
      ]
     },
     "execution_count": 10,
     "metadata": {},
     "output_type": "execute_result"
    }
   ],
   "source": [
    "movies.shape"
   ]
  },
  {
   "cell_type": "markdown",
   "metadata": {},
   "source": [
    "###### 1st Model: Recommending with Gensim Similarity (Cosine similarity) and Tfidf Model"
   ]
  },
  {
   "cell_type": "markdown",
   "metadata": {},
   "source": [
    "A few points before we use gensim similarity.\n",
    "First, it's often helpful to count words in a document to see what words are mentioned more and hence more important. In our case, since we are using keywords where each keyword is mentioned at most once per movie, that doesn't make sense, so we won't do that."
   ]
  },
  {
   "cell_type": "markdown",
   "metadata": {},
   "source": [
    "Second, the normal preprocessing steps for text are as follows:\n",
    "1. Lowercase the words\n",
    "2. Take .isalpha() words\n",
    "3. Remove Stop Words\n",
    "4. Lemmatize"
   ]
  },
  {
   "cell_type": "markdown",
   "metadata": {},
   "source": [
    "In our case, we will lowercase the words although it's not really necessary since they look all lowercase. It will be done for certainty.  \n",
    "We will not take only alpha words because most of the keywords are compound words created with dashes (\"-\") and taking only alpha words would thus result in us discarding most of the words.  \n",
    "We will remove stop words for completeness and safety although these are keywords so none should be stopwords.  \n",
    "We will not lemmatize since doing do changes the meaning of certain keywords. For example, \"woods\" which indicates the forest, becomes \"wood\" the material. Or \"avengers\" becomes \"avenger\". In both cases, the first words have a meaning that is more than just the plural of the second words. So we will not take this step.\n",
    "\n",
    "Thus we see that we don't really have to apply any of these steps to our data."
   ]
  },
  {
   "cell_type": "code",
   "execution_count": 11,
   "metadata": {},
   "outputs": [
    {
     "name": "stderr",
     "output_type": "stream",
     "text": [
      "C:\\Users\\gideo\\Anaconda3\\lib\\site-packages\\gensim\\utils.py:1197: UserWarning: detected Windows; aliasing chunkize to chunkize_serial\n",
      "  warnings.warn(\"detected Windows; aliasing chunkize to chunkize_serial\")\n"
     ]
    }
   ],
   "source": [
    "from collections import Counter\n",
    "from nltk.tokenize import word_tokenize\n",
    "from nltk.corpus import stopwords\n",
    "from gensim.corpora.dictionary import Dictionary"
   ]
  },
  {
   "cell_type": "code",
   "execution_count": 12,
   "metadata": {},
   "outputs": [],
   "source": [
    "docs = movies['keywords'].tolist()"
   ]
  },
  {
   "cell_type": "code",
   "execution_count": 13,
   "metadata": {},
   "outputs": [],
   "source": [
    "# Create functions for making alpha, removing stop words, and lemmatizing\n",
    "def make_alpha(doc):\n",
    "    # Retain alphabetic words: alpha_only\n",
    "    alpha_only = [t for t in doc if t.isalpha()]    \n",
    "    return(alpha_only)\n",
    "def remove_stops(doc):\n",
    "    no_stops = [t for t in doc if t not in stopwords.words('english')]\n",
    "    return(no_stops)\n",
    "def lemmatize(doc):\n",
    "    wordnet_lemmatizer = WordNetLemmatizer()\n",
    "    lemmatized = [wordnet_lemmatizer.lemmatize(t) for t in doc]\n",
    "    return(lemmatized)\n",
    "def no_commas(doc):\n",
    "    no_commas = [t for t in doc if t!=',']\n",
    "    return(no_commas)"
   ]
  },
  {
   "cell_type": "code",
   "execution_count": 18,
   "metadata": {},
   "outputs": [],
   "source": [
    "import csv\n",
    "with open('processed_docs.csv', 'r') as f:\n",
    "    reader = csv.reader(f)\n",
    "    processed_docs = list(reader)\n",
    "processed_docs = processed_docs[0::2] # get rid of empty lists"
   ]
  },
  {
   "cell_type": "markdown",
   "metadata": {},
   "source": [
    "At this point, I have processed doc, so I don't need the other files"
   ]
  },
  {
   "cell_type": "code",
   "execution_count": 19,
   "metadata": {},
   "outputs": [],
   "source": [
    "dictionary = Dictionary(processed_docs) # create a dictionary of words from our keywords\n",
    "\n",
    "#dictionary.token2id # see the words (tokens) and their IDs\n",
    "#len(dictionary) #Number of words and compound words in dictionary\n",
    "\n",
    "# Print out first 10 words:\n",
    "# for i in range(len(dictionary))[0:10]:\n",
    "#     print(i, dictionary[i])"
   ]
  },
  {
   "cell_type": "code",
   "execution_count": 20,
   "metadata": {},
   "outputs": [],
   "source": [
    "corpus = [dictionary.doc2bow(doc) for doc in processed_docs] #create corpus where the corpus is a bag of words for each document\n",
    "# len(corpus) get the length, which is the number of words"
   ]
  },
  {
   "cell_type": "markdown",
   "metadata": {},
   "source": [
    "This next cell could probably be considered EDA."
   ]
  },
  {
   "cell_type": "code",
   "execution_count": 21,
   "metadata": {},
   "outputs": [
    {
     "name": "stdout",
     "output_type": "stream",
     "text": [
      "murder 3455\n",
      "death 3156\n",
      "blood 2825\n",
      "husband-wife-relationship 2724\n",
      "violence 2678\n",
      "father-son-relationship 2472\n",
      "flashback 2442\n",
      "bare-chested-male 2359\n",
      "title-spoken-by-character 2242\n",
      "friendship 2166\n",
      "mother-son-relationship 2121\n",
      "kiss 2093\n",
      "father-daughter-relationship 2072\n",
      "cigarette-smoking 2038\n",
      "dog 1882\n",
      "photograph 1861\n",
      "female-nudity 1859\n",
      "pistol 1839\n",
      "fight 1813\n",
      "chase 1808\n"
     ]
    }
   ],
   "source": [
    "# Create the defaultdict: total_word_count\n",
    "# This dictionary contains every word ID and its corresponding number of times it appears in the corpus\n",
    "from collections import defaultdict\n",
    "import itertools\n",
    "total_word_count = defaultdict(int)\n",
    "for word_id, word_count in itertools.chain.from_iterable(corpus):\n",
    "    total_word_count[word_id] += word_count\n",
    "\n",
    "# Create a sorted list from the defaultdict: sorted_word_count\n",
    "sorted_word_count = sorted(total_word_count.items(), key=lambda w: w[1], reverse=True)\n",
    "\n",
    "# Print the top 20 words across all documents alongside the count\n",
    "for word_id, word_count in sorted_word_count[:20]:\n",
    "    print(dictionary.get(word_id), word_count)"
   ]
  },
  {
   "cell_type": "markdown",
   "metadata": {},
   "source": [
    "Clearly a lot of violence and relationships in these keywords."
   ]
  },
  {
   "cell_type": "markdown",
   "metadata": {},
   "source": [
    "Tf-idf Time."
   ]
  },
  {
   "cell_type": "code",
   "execution_count": 22,
   "metadata": {},
   "outputs": [],
   "source": [
    "from gensim.models.tfidfmodel import TfidfModel\n",
    "tfidf = TfidfModel(corpus) #create tfidf model of the corpus"
   ]
  },
  {
   "cell_type": "markdown",
   "metadata": {},
   "source": [
    "number of docs is the number of movies, num_nnz is the number of words in our corpus"
   ]
  },
  {
   "cell_type": "code",
   "execution_count": 23,
   "metadata": {},
   "outputs": [
    {
     "name": "stdout",
     "output_type": "stream",
     "text": [
      "boom-shot 0.09165174419616995\n",
      "fresh-fish 0.09165174419616995\n",
      "killed-by-prison-guard 0.09165174419616995\n",
      "library-cart 0.09165174419616995\n",
      "missing-prisoner 0.09165174419616995\n"
     ]
    }
   ],
   "source": [
    "#Get the words with the highest tf-idf values for a given movie\n",
    "sorted_tfidf_weights = sorted(tfidf[corpus[0]], key=lambda w: w[1], reverse=True)\n",
    "for term_id, weight in sorted_tfidf_weights[:5]:\n",
    "    print(dictionary.get(term_id), weight)"
   ]
  },
  {
   "cell_type": "markdown",
   "metadata": {},
   "source": [
    "A slight issue with tf-idf for keywords is that since there are no word-repeats among our keywords, tf-idf can't take advantage of that to find the more important words for a movie. Still, it can look to see how often a given keyword is used for other movies, so it is still a great model to use."
   ]
  },
  {
   "cell_type": "code",
   "execution_count": 24,
   "metadata": {},
   "outputs": [
    {
     "name": "stdout",
     "output_type": "stream",
     "text": [
      "MatrixSimilarity<9877 docs, 112380 features>\n"
     ]
    }
   ],
   "source": [
    "import gensim\n",
    "from gensim.similarities import Similarity\n",
    "from gensim.similarities import MatrixSimilarity\n",
    "\n",
    "# Create the similarity data structure. This is the most important part where we get the similarities between the movies.\n",
    "sims = MatrixSimilarity(tfidf[corpus], num_features=len(dictionary))\n",
    "print(sims)"
   ]
  },
  {
   "cell_type": "code",
   "execution_count": 25,
   "metadata": {},
   "outputs": [
    {
     "data": {
      "text/plain": [
       "gensim.similarities.docsim.MatrixSimilarity"
      ]
     },
     "execution_count": 25,
     "metadata": {},
     "output_type": "execute_result"
    }
   ],
   "source": [
    "type(sims)"
   ]
  },
  {
   "cell_type": "markdown",
   "metadata": {},
   "source": [
    "Now create a query doc and convert it to tf-idf"
   ]
  },
  {
   "cell_type": "markdown",
   "metadata": {},
   "source": [
    "Choose between movie and keywords:"
   ]
  },
  {
   "cell_type": "code",
   "execution_count": 26,
   "metadata": {},
   "outputs": [],
   "source": [
    "def movie_recommendation(movie_title, number_of_hits=5):\n",
    "    movie = movies.loc[movies.primaryTitle==movie_title] # get the movie row\n",
    "    keywords = movie['keywords'].iloc[0].split(',') #get the keywords as a Series (movie['keywords']),\n",
    "    # get just the keywords string ([0]), and then convert to a list of keywords (.split(',') )\n",
    "    query_doc = keywords #set the query_doc to the list of keywords\n",
    "    \n",
    "    query_doc_bow = dictionary.doc2bow(query_doc) # get a bag of words from the query_doc\n",
    "    query_doc_tfidf = tfidf[query_doc_bow] #convert the regular bag of words model to a tf-idf model where we have tuples\n",
    "    # of the movie ID and it's tf-idf value for the movie\n",
    "\n",
    "    similarity_array = sims[query_doc_tfidf] # get the array of similarity values between our movie and every other movie. \n",
    "    #So the length is the number of movies we have. To do this, we pass our list of tf-idf tuples to sims.\n",
    "\n",
    "    similarity_series = pd.Series(similarity_array.tolist(), index=movies.primaryTitle.values) #Convert to a Series\n",
    "    top_hits = similarity_series.sort_values(ascending=False)[1:number_of_hits+1] \n",
    "    #get the top matching results, i.e. most similar movies; start from index 1 because every movie is most similar to itself\n",
    "\n",
    "    #print the words with the highest tf-idf values for the provided movie:\n",
    "    sorted_tfidf_weights = sorted(tfidf[corpus[movie.index.values.tolist()[0]]], key=lambda w: w[1], reverse=True)\n",
    "    print('The top 5 words associated with this movie by tf-idf are: ')\n",
    "    for term_id, weight in sorted_tfidf_weights[:5]:\n",
    "        print(\" '%s' with a tf-idf score of %.3f\" %(dictionary.get(term_id), weight))\n",
    "    \n",
    "    # Print the top matching movies\n",
    "    print(\"Our top %s most similar movies for movie %s are:\" %(number_of_hits, movie_title))\n",
    "    for idx, (movie,score) in enumerate(zip(top_hits.index, top_hits)):\n",
    "        print(\"%d %s with a similarity score of %.3f\" %(idx+1, movie, score))"
   ]
  },
  {
   "cell_type": "code",
   "execution_count": 27,
   "metadata": {},
   "outputs": [
    {
     "name": "stdout",
     "output_type": "stream",
     "text": [
      "The top 5 words associated with this movie by tf-idf are: \n",
      " 'black-eye-patch' with a tf-idf score of 0.101\n",
      " 'imax,3-dimensional' with a tf-idf score of 0.101\n",
      " 'superhero-team,2010s' with a tf-idf score of 0.101\n",
      " 'flying-fortress' with a tf-idf score of 0.093\n",
      " 'marvel-comic' with a tf-idf score of 0.093\n",
      "Our top 5 most similar movies for movie The Avengers are:\n",
      "1 Avengers: Age of Ultron with a similarity score of 0.399\n",
      "2 Avengers: Infinity War with a similarity score of 0.286\n",
      "3 Iron Man 2 with a similarity score of 0.274\n",
      "4 Captain America: Civil War with a similarity score of 0.251\n",
      "5 Captain America: The Winter Soldier with a similarity score of 0.250\n"
     ]
    }
   ],
   "source": [
    "movie_recommendation('The Avengers', 5)"
   ]
  },
  {
   "cell_type": "code",
   "execution_count": 28,
   "metadata": {},
   "outputs": [],
   "source": [
    "def keywords_recommendation(keywords, number_of_hits):\n",
    "    query_doc_bow = dictionary.doc2bow(keywords) # get a bag of words from the query_doc\n",
    "    query_doc_tfidf = tfidf[query_doc_bow] #convert the regular bag of words model to a tf-idf model where we have tuples\n",
    "    # of the movie ID and it's tf-idf value for the movie\n",
    "\n",
    "    similarity_array = sims[query_doc_tfidf] # get the array of similarity values between our movie and every other movie. \n",
    "    #So the length is the number of movies we have. To do this, we pass our list of tf-idf tuples to sims.\n",
    "\n",
    "    similarity_series = pd.Series(similarity_array.tolist(), index=movies.primaryTitle.values) #Convert to a Series\n",
    "    top_hits = similarity_series.sort_values(ascending=False)[:number_of_hits] #get the top matching results, i.e. most similar movies\n",
    "\n",
    "    # Print the top matching movies\n",
    "    print(\"Our top %s most similar movies for the keywords %s are:\" %(number_of_hits, keywords))\n",
    "    for idx, (movie,score) in enumerate(zip(top_hits.index, top_hits)):\n",
    "        print(\"%d '%s' with a similarity score of %.3f\" %(idx+1, movie, score))"
   ]
  },
  {
   "cell_type": "code",
   "execution_count": 29,
   "metadata": {},
   "outputs": [
    {
     "name": "stdout",
     "output_type": "stream",
     "text": [
      "Our top 5 most similar movies for the keywords ['wrongful-imprisonment', 'escape-from-prison', 'based-on-the-works-of-stephen-king', 'prison', 'voice-over-narration', 'caged-bird', 'reference-to-fort-hancock-texas', 'aria'] are:\n",
      "1 'The Shawshank Redemption' with a similarity score of 0.164\n",
      "2 'Down by Law' with a similarity score of 0.150\n",
      "3 'Old Men in New Cars: In China They Eat Dogs II' with a similarity score of 0.093\n",
      "4 'Diva' with a similarity score of 0.093\n",
      "5 'I Am a Fugitive from a Chain Gang' with a similarity score of 0.088\n"
     ]
    }
   ],
   "source": [
    "keywords_recommendation(['wrongful-imprisonment','escape-from-prison','based-on-the-works-of-stephen-king',\n",
    "                         'prison', 'voice-over-narration', 'caged-bird','reference-to-fort-hancock-texas','aria'], 5)"
   ]
  },
  {
   "cell_type": "markdown",
   "metadata": {},
   "source": [
    "##### 2nd Model: Jaccard Similarity Based on Word Counts"
   ]
  },
  {
   "cell_type": "code",
   "execution_count": 30,
   "metadata": {},
   "outputs": [],
   "source": [
    "def get_jaccard_sim(str1, str2):\n",
    "    a = set(str1.split(','))\n",
    "    b = set(str2.split(','))\n",
    "    c = a.intersection(b)\n",
    "    return(float(len(c)) / (len(a) + len(b) - len(c)))\n",
    "\n",
    "def keyword_string(movie):\n",
    "    movie = movies[movies.primaryTitle==movie]\n",
    "    keyword_string = movie.keywords.iloc[0]\n",
    "    \n",
    "    return(keyword_string)\n",
    "\n",
    "def get_jaccard_sim2(movie1, movie2):\n",
    "    keywords1 = keyword_string(movie1)\n",
    "    keywords2 = keyword_string(movie2)\n",
    "    \n",
    "    return(get_jaccard_sim(keywords1, keywords2))"
   ]
  },
  {
   "cell_type": "code",
   "execution_count": 31,
   "metadata": {},
   "outputs": [],
   "source": [
    "def jaccard_recommender(movie_title, number_of_hits=5):\n",
    "    movie = movies[movies.primaryTitle==movie_title]\n",
    "    keyword_string = movie.keywords.iloc[0]\n",
    "\n",
    "    jaccards = []\n",
    "    for movie in movies['keywords']:\n",
    "        jaccards.append(get_jaccard_sim(keyword_string, movie))\n",
    "    jaccards = pd.Series(jaccards)\n",
    "    jaccards_index = jaccards.nlargest(number_of_hits+1).index\n",
    "    matches = movies.loc[jaccards_index]\n",
    "    for match,score in zip(matches['primaryTitle'][1:],jaccards[jaccards_index][1:]) :\n",
    "        print(match,score )"
   ]
  },
  {
   "cell_type": "markdown",
   "metadata": {},
   "source": [
    "##### 3rd Model: Cosine Similarity Based on Word Counts"
   ]
  },
  {
   "cell_type": "code",
   "execution_count": 32,
   "metadata": {},
   "outputs": [],
   "source": [
    "from collections import Counter\n",
    "from sklearn.feature_extraction.text import CountVectorizer\n",
    "from sklearn.metrics.pairwise import cosine_similarity\n",
    "\n",
    "def get_cosine_sim(*strs):\n",
    "    vectors = [t for t in get_vectors1(*strs)]\n",
    "    return(cosine_similarity(vectors))\n",
    "\n",
    "def get_vectors1(*strs):\n",
    "    text = [t for t in strs]\n",
    "    vectorizer = CountVectorizer(text)\n",
    "    vectorizer.fit(text)\n",
    "    return(vectorizer.transform(text).toarray())\n",
    "\n",
    "def get_vectors2(text):\n",
    "    vectorizer = CountVectorizer(text)\n",
    "    X = vectorizer.fit_transform(text)\n",
    "    return(X.toarray())"
   ]
  },
  {
   "cell_type": "code",
   "execution_count": 33,
   "metadata": {},
   "outputs": [],
   "source": [
    "vectors = get_vectors2(movies.keywords.tolist())"
   ]
  },
  {
   "cell_type": "code",
   "execution_count": 34,
   "metadata": {},
   "outputs": [],
   "source": [
    "def cosine_recommender(movie_title, number_of_hits=5):\n",
    "    movie_index = movies[movies.primaryTitle == movie_title].index.values[0]\n",
    "\n",
    "    cosines = []\n",
    "    for i in range(len(vectors)):\n",
    "        vector_list = [vectors[movie_index], vectors[i]]\n",
    "        cosines.append(cosine_similarity(vector_list)[0,1])\n",
    "\n",
    "    cosines = pd.Series(cosines)\n",
    "    index = cosines.nlargest(number_of_hits+1).index\n",
    "\n",
    "    matches = movies.loc[index]\n",
    "    for match,score in zip(matches['primaryTitle'][1:],cosines[index][1:]):\n",
    "        print(match,score )"
   ]
  },
  {
   "cell_type": "markdown",
   "metadata": {},
   "source": [
    "Let's do a quick comparison for a film:"
   ]
  },
  {
   "cell_type": "code",
   "execution_count": 35,
   "metadata": {},
   "outputs": [
    {
     "name": "stdout",
     "output_type": "stream",
     "text": [
      "Avengers: Infinity War 0.8044695892203602\n",
      "Avengers: Age of Ultron 0.7913277135173737\n",
      "Captain America: Civil War 0.7509793475917405\n",
      "Iron Man 2 0.7470155795225362\n",
      "Justice League 0.7091790018343553\n"
     ]
    }
   ],
   "source": [
    "cosine_recommender('The Avengers')"
   ]
  },
  {
   "cell_type": "code",
   "execution_count": 36,
   "metadata": {},
   "outputs": [
    {
     "name": "stdout",
     "output_type": "stream",
     "text": [
      "Avengers: Age of Ultron 0.27450980392156865\n",
      "Avengers: Infinity War 0.2370266479663394\n",
      "Captain America: The Winter Soldier 0.23141891891891891\n",
      "Captain America: Civil War 0.21246458923512748\n",
      "Thor: The Dark World 0.20722433460076045\n"
     ]
    }
   ],
   "source": [
    "jaccard_recommender('The Avengers')"
   ]
  },
  {
   "cell_type": "code",
   "execution_count": 37,
   "metadata": {},
   "outputs": [
    {
     "name": "stdout",
     "output_type": "stream",
     "text": [
      "The top 5 words associated with this movie by tf-idf are: \n",
      " 'black-eye-patch' with a tf-idf score of 0.101\n",
      " 'imax,3-dimensional' with a tf-idf score of 0.101\n",
      " 'superhero-team,2010s' with a tf-idf score of 0.101\n",
      " 'flying-fortress' with a tf-idf score of 0.093\n",
      " 'marvel-comic' with a tf-idf score of 0.093\n",
      "Our top 5 most similar movies for movie The Avengers are:\n",
      "1 Avengers: Age of Ultron with a similarity score of 0.399\n",
      "2 Avengers: Infinity War with a similarity score of 0.286\n",
      "3 Iron Man 2 with a similarity score of 0.274\n",
      "4 Captain America: Civil War with a similarity score of 0.251\n",
      "5 Captain America: The Winter Soldier with a similarity score of 0.250\n"
     ]
    }
   ],
   "source": [
    "movie_recommendation('The Avengers')"
   ]
  },
  {
   "cell_type": "markdown",
   "metadata": {},
   "source": [
    "Looks good. They all recommend similar appropriate movies for the same movie, with slight differences in recommendation."
   ]
  }
 ],
 "metadata": {
  "kernelspec": {
   "display_name": "Python 3",
   "language": "python",
   "name": "python3"
  },
  "language_info": {
   "codemirror_mode": {
    "name": "ipython",
    "version": 3
   },
   "file_extension": ".py",
   "mimetype": "text/x-python",
   "name": "python",
   "nbconvert_exporter": "python",
   "pygments_lexer": "ipython3",
   "version": "3.7.6"
  }
 },
 "nbformat": 4,
 "nbformat_minor": 4
}
