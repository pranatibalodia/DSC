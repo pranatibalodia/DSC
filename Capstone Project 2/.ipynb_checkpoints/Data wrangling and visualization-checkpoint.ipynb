{
 "cells": [
  {
   "cell_type": "code",
   "execution_count": 1,
   "metadata": {},
   "outputs": [],
   "source": [
    "# Import neccessary libraries\n",
    "import pandas as pd\n",
    "import numpy as np\n",
    "import matplotlib.pyplot as plt\n",
    "import seaborn as sns\n",
    "from pandas.tools.plotting import table"
   ]
  },
  {
   "cell_type": "code",
   "execution_count": 2,
   "metadata": {},
   "outputs": [],
   "source": [
    "# Import movies table and set the index\n",
    "movies = pd.read_csv('data/movies0.csv')\n",
    "movies.set_index('tconst', inplace=True)"
   ]
  },
  {
   "cell_type": "markdown",
   "metadata": {},
   "source": [
    "Let's take a first look at out movies table:"
   ]
  },
  {
   "cell_type": "code",
   "execution_count": 3,
   "metadata": {},
   "outputs": [
    {
     "data": {
      "text/html": [
       "<div>\n",
       "<style scoped>\n",
       "    .dataframe tbody tr th:only-of-type {\n",
       "        vertical-align: middle;\n",
       "    }\n",
       "\n",
       "    .dataframe tbody tr th {\n",
       "        vertical-align: top;\n",
       "    }\n",
       "\n",
       "    .dataframe thead th {\n",
       "        text-align: right;\n",
       "    }\n",
       "</style>\n",
       "<table border=\"1\" class=\"dataframe\">\n",
       "  <thead>\n",
       "    <tr style=\"text-align: right;\">\n",
       "      <th></th>\n",
       "      <th>primaryTitle</th>\n",
       "      <th>startYear</th>\n",
       "      <th>runtimeMinutes</th>\n",
       "      <th>genres</th>\n",
       "      <th>directors</th>\n",
       "      <th>writers</th>\n",
       "      <th>averageRating</th>\n",
       "      <th>numVotes</th>\n",
       "      <th>plot</th>\n",
       "      <th>plot outlines</th>\n",
       "      <th>keywords</th>\n",
       "      <th>synopsis</th>\n",
       "    </tr>\n",
       "    <tr>\n",
       "      <th>tconst</th>\n",
       "      <th></th>\n",
       "      <th></th>\n",
       "      <th></th>\n",
       "      <th></th>\n",
       "      <th></th>\n",
       "      <th></th>\n",
       "      <th></th>\n",
       "      <th></th>\n",
       "      <th></th>\n",
       "      <th></th>\n",
       "      <th></th>\n",
       "      <th></th>\n",
       "    </tr>\n",
       "  </thead>\n",
       "  <tbody>\n",
       "    <tr>\n",
       "      <th>tt0111161</th>\n",
       "      <td>The Shawshank Redemption</td>\n",
       "      <td>1994</td>\n",
       "      <td>142</td>\n",
       "      <td>Drama</td>\n",
       "      <td>nm0001104</td>\n",
       "      <td>nm0000175,nm0001104</td>\n",
       "      <td>9.3</td>\n",
       "      <td>2057323</td>\n",
       "      <td>Two imprisoned men bond over a number of years...</td>\n",
       "      <td>Chronicles the experiences of a formerly succe...</td>\n",
       "      <td>wrongful-imprisonment,escape-from-prison,based...</td>\n",
       "      <td>In 1947, Andy Dufresne (Tim Robbins), a banker...</td>\n",
       "    </tr>\n",
       "    <tr>\n",
       "      <th>tt0468569</th>\n",
       "      <td>The Dark Knight</td>\n",
       "      <td>2008</td>\n",
       "      <td>152</td>\n",
       "      <td>Action,Crime,Drama</td>\n",
       "      <td>nm0634240</td>\n",
       "      <td>nm0634300,nm0634240,nm0333060,nm0004170</td>\n",
       "      <td>9.0</td>\n",
       "      <td>2023734</td>\n",
       "      <td>When the menace known as the Joker emerges fro...</td>\n",
       "      <td>Set within a year after the events of Batman B...</td>\n",
       "      <td>dc-comics,moral-dilemma,psychopath,clown,scarr...</td>\n",
       "      <td>The movie begins with a gang of men with clown...</td>\n",
       "    </tr>\n",
       "    <tr>\n",
       "      <th>tt1375666</th>\n",
       "      <td>Inception</td>\n",
       "      <td>2010</td>\n",
       "      <td>148</td>\n",
       "      <td>Action,Adventure,Sci-Fi</td>\n",
       "      <td>nm0634240</td>\n",
       "      <td>nm0634240</td>\n",
       "      <td>8.8</td>\n",
       "      <td>1802989</td>\n",
       "      <td>A thief who steals corporate secrets through t...</td>\n",
       "      <td>Dom Cobb is a skilled thief, the absolute best...</td>\n",
       "      <td>dream,subconscious,ambiguous-ending,thief,psyc...</td>\n",
       "      <td>A young man, exhausted and delirious, washes u...</td>\n",
       "    </tr>\n",
       "  </tbody>\n",
       "</table>\n",
       "</div>"
      ],
      "text/plain": [
       "                       primaryTitle  startYear  runtimeMinutes  \\\n",
       "tconst                                                           \n",
       "tt0111161  The Shawshank Redemption       1994             142   \n",
       "tt0468569           The Dark Knight       2008             152   \n",
       "tt1375666                 Inception       2010             148   \n",
       "\n",
       "                            genres  directors  \\\n",
       "tconst                                          \n",
       "tt0111161                    Drama  nm0001104   \n",
       "tt0468569       Action,Crime,Drama  nm0634240   \n",
       "tt1375666  Action,Adventure,Sci-Fi  nm0634240   \n",
       "\n",
       "                                           writers  averageRating  numVotes  \\\n",
       "tconst                                                                        \n",
       "tt0111161                      nm0000175,nm0001104            9.3   2057323   \n",
       "tt0468569  nm0634300,nm0634240,nm0333060,nm0004170            9.0   2023734   \n",
       "tt1375666                                nm0634240            8.8   1802989   \n",
       "\n",
       "                                                        plot  \\\n",
       "tconst                                                         \n",
       "tt0111161  Two imprisoned men bond over a number of years...   \n",
       "tt0468569  When the menace known as the Joker emerges fro...   \n",
       "tt1375666  A thief who steals corporate secrets through t...   \n",
       "\n",
       "                                               plot outlines  \\\n",
       "tconst                                                         \n",
       "tt0111161  Chronicles the experiences of a formerly succe...   \n",
       "tt0468569  Set within a year after the events of Batman B...   \n",
       "tt1375666  Dom Cobb is a skilled thief, the absolute best...   \n",
       "\n",
       "                                                    keywords  \\\n",
       "tconst                                                         \n",
       "tt0111161  wrongful-imprisonment,escape-from-prison,based...   \n",
       "tt0468569  dc-comics,moral-dilemma,psychopath,clown,scarr...   \n",
       "tt1375666  dream,subconscious,ambiguous-ending,thief,psyc...   \n",
       "\n",
       "                                                    synopsis  \n",
       "tconst                                                        \n",
       "tt0111161  In 1947, Andy Dufresne (Tim Robbins), a banker...  \n",
       "tt0468569  The movie begins with a gang of men with clown...  \n",
       "tt1375666  A young man, exhausted and delirious, washes u...  "
      ]
     },
     "execution_count": 3,
     "metadata": {},
     "output_type": "execute_result"
    }
   ],
   "source": [
    "movies.head(3)"
   ]
  },
  {
   "cell_type": "markdown",
   "metadata": {},
   "source": [
    "We see that numVotes has large numbers, but it's hard to tell if the numVotes is in the millions, hundreds of thousands, etc. Let's format that column better."
   ]
  },
  {
   "cell_type": "code",
   "execution_count": 4,
   "metadata": {},
   "outputs": [],
   "source": [
    "movies['numVotes'] = movies.apply(lambda x: \"{:,}\".format(x['numVotes']), axis=1)"
   ]
  },
  {
   "cell_type": "markdown",
   "metadata": {},
   "source": [
    "We don't need the directors or writers columns, so let's get rid of them. Including them in our model would increase the dimensionality of our feature set massively, and we want to avoid that."
   ]
  },
  {
   "cell_type": "code",
   "execution_count": 5,
   "metadata": {},
   "outputs": [],
   "source": [
    "movies.drop(labels=['directors', 'writers'], axis='columns', inplace=True) "
   ]
  },
  {
   "cell_type": "code",
   "execution_count": 6,
   "metadata": {},
   "outputs": [
    {
     "data": {
      "text/html": [
       "<div>\n",
       "<style scoped>\n",
       "    .dataframe tbody tr th:only-of-type {\n",
       "        vertical-align: middle;\n",
       "    }\n",
       "\n",
       "    .dataframe tbody tr th {\n",
       "        vertical-align: top;\n",
       "    }\n",
       "\n",
       "    .dataframe thead th {\n",
       "        text-align: right;\n",
       "    }\n",
       "</style>\n",
       "<table border=\"1\" class=\"dataframe\">\n",
       "  <thead>\n",
       "    <tr style=\"text-align: right;\">\n",
       "      <th></th>\n",
       "      <th>primaryTitle</th>\n",
       "      <th>startYear</th>\n",
       "      <th>runtimeMinutes</th>\n",
       "      <th>genres</th>\n",
       "      <th>averageRating</th>\n",
       "      <th>numVotes</th>\n",
       "      <th>plot</th>\n",
       "      <th>plot outlines</th>\n",
       "      <th>keywords</th>\n",
       "      <th>synopsis</th>\n",
       "    </tr>\n",
       "    <tr>\n",
       "      <th>tconst</th>\n",
       "      <th></th>\n",
       "      <th></th>\n",
       "      <th></th>\n",
       "      <th></th>\n",
       "      <th></th>\n",
       "      <th></th>\n",
       "      <th></th>\n",
       "      <th></th>\n",
       "      <th></th>\n",
       "      <th></th>\n",
       "    </tr>\n",
       "  </thead>\n",
       "  <tbody>\n",
       "    <tr>\n",
       "      <th>tt0111161</th>\n",
       "      <td>The Shawshank Redemption</td>\n",
       "      <td>1994</td>\n",
       "      <td>142</td>\n",
       "      <td>Drama</td>\n",
       "      <td>9.3</td>\n",
       "      <td>2,057,323</td>\n",
       "      <td>Two imprisoned men bond over a number of years...</td>\n",
       "      <td>Chronicles the experiences of a formerly succe...</td>\n",
       "      <td>wrongful-imprisonment,escape-from-prison,based...</td>\n",
       "      <td>In 1947, Andy Dufresne (Tim Robbins), a banker...</td>\n",
       "    </tr>\n",
       "    <tr>\n",
       "      <th>tt0468569</th>\n",
       "      <td>The Dark Knight</td>\n",
       "      <td>2008</td>\n",
       "      <td>152</td>\n",
       "      <td>Action,Crime,Drama</td>\n",
       "      <td>9.0</td>\n",
       "      <td>2,023,734</td>\n",
       "      <td>When the menace known as the Joker emerges fro...</td>\n",
       "      <td>Set within a year after the events of Batman B...</td>\n",
       "      <td>dc-comics,moral-dilemma,psychopath,clown,scarr...</td>\n",
       "      <td>The movie begins with a gang of men with clown...</td>\n",
       "    </tr>\n",
       "    <tr>\n",
       "      <th>tt1375666</th>\n",
       "      <td>Inception</td>\n",
       "      <td>2010</td>\n",
       "      <td>148</td>\n",
       "      <td>Action,Adventure,Sci-Fi</td>\n",
       "      <td>8.8</td>\n",
       "      <td>1,802,989</td>\n",
       "      <td>A thief who steals corporate secrets through t...</td>\n",
       "      <td>Dom Cobb is a skilled thief, the absolute best...</td>\n",
       "      <td>dream,subconscious,ambiguous-ending,thief,psyc...</td>\n",
       "      <td>A young man, exhausted and delirious, washes u...</td>\n",
       "    </tr>\n",
       "  </tbody>\n",
       "</table>\n",
       "</div>"
      ],
      "text/plain": [
       "                       primaryTitle  startYear  runtimeMinutes  \\\n",
       "tconst                                                           \n",
       "tt0111161  The Shawshank Redemption       1994             142   \n",
       "tt0468569           The Dark Knight       2008             152   \n",
       "tt1375666                 Inception       2010             148   \n",
       "\n",
       "                            genres  averageRating   numVotes  \\\n",
       "tconst                                                         \n",
       "tt0111161                    Drama            9.3  2,057,323   \n",
       "tt0468569       Action,Crime,Drama            9.0  2,023,734   \n",
       "tt1375666  Action,Adventure,Sci-Fi            8.8  1,802,989   \n",
       "\n",
       "                                                        plot  \\\n",
       "tconst                                                         \n",
       "tt0111161  Two imprisoned men bond over a number of years...   \n",
       "tt0468569  When the menace known as the Joker emerges fro...   \n",
       "tt1375666  A thief who steals corporate secrets through t...   \n",
       "\n",
       "                                               plot outlines  \\\n",
       "tconst                                                         \n",
       "tt0111161  Chronicles the experiences of a formerly succe...   \n",
       "tt0468569  Set within a year after the events of Batman B...   \n",
       "tt1375666  Dom Cobb is a skilled thief, the absolute best...   \n",
       "\n",
       "                                                    keywords  \\\n",
       "tconst                                                         \n",
       "tt0111161  wrongful-imprisonment,escape-from-prison,based...   \n",
       "tt0468569  dc-comics,moral-dilemma,psychopath,clown,scarr...   \n",
       "tt1375666  dream,subconscious,ambiguous-ending,thief,psyc...   \n",
       "\n",
       "                                                    synopsis  \n",
       "tconst                                                        \n",
       "tt0111161  In 1947, Andy Dufresne (Tim Robbins), a banker...  \n",
       "tt0468569  The movie begins with a gang of men with clown...  \n",
       "tt1375666  A young man, exhausted and delirious, washes u...  "
      ]
     },
     "execution_count": 6,
     "metadata": {},
     "output_type": "execute_result"
    }
   ],
   "source": [
    "movies.head(3)"
   ]
  },
  {
   "cell_type": "markdown",
   "metadata": {},
   "source": [
    "Great stuff. "
   ]
  },
  {
   "cell_type": "markdown",
   "metadata": {},
   "source": [
    "Let's look at all the column types"
   ]
  },
  {
   "cell_type": "code",
   "execution_count": 7,
   "metadata": {},
   "outputs": [
    {
     "name": "stdout",
     "output_type": "stream",
     "text": [
      "<class 'pandas.core.frame.DataFrame'>\n",
      "Index: 10000 entries, tt0111161 to tt0110365\n",
      "Data columns (total 10 columns):\n",
      "primaryTitle      10000 non-null object\n",
      "startYear         10000 non-null int64\n",
      "runtimeMinutes    10000 non-null int64\n",
      "genres            10000 non-null object\n",
      "averageRating     10000 non-null float64\n",
      "numVotes          10000 non-null object\n",
      "plot              10000 non-null object\n",
      "plot outlines     9427 non-null object\n",
      "keywords          9877 non-null object\n",
      "synopsis          6059 non-null object\n",
      "dtypes: float64(1), int64(2), object(7)\n",
      "memory usage: 859.4+ KB\n"
     ]
    }
   ],
   "source": [
    "movies.info()"
   ]
  },
  {
   "cell_type": "markdown",
   "metadata": {},
   "source": [
    "We see we are missing some plot outlines and plot keywords and a **lot** of plot synopses. What we can do for the plot outlines is fill the missing values with the values from plot. For keywords, it's not clear how best to handle that scenario, so we'll just leave it blank for now. Ditto for synopsis."
   ]
  },
  {
   "cell_type": "code",
   "execution_count": 8,
   "metadata": {},
   "outputs": [],
   "source": [
    "movies.loc[movies['plot outlines'].isnull(),'plot outlines'] = movies.loc[movies['plot outlines'].isnull(),'plot']"
   ]
  },
  {
   "cell_type": "code",
   "execution_count": 9,
   "metadata": {},
   "outputs": [
    {
     "name": "stdout",
     "output_type": "stream",
     "text": [
      "<class 'pandas.core.frame.DataFrame'>\n",
      "Index: 10000 entries, tt0111161 to tt0110365\n",
      "Data columns (total 10 columns):\n",
      "primaryTitle      10000 non-null object\n",
      "startYear         10000 non-null int64\n",
      "runtimeMinutes    10000 non-null int64\n",
      "genres            10000 non-null object\n",
      "averageRating     10000 non-null float64\n",
      "numVotes          10000 non-null object\n",
      "plot              10000 non-null object\n",
      "plot outlines     10000 non-null object\n",
      "keywords          9877 non-null object\n",
      "synopsis          6059 non-null object\n",
      "dtypes: float64(1), int64(2), object(7)\n",
      "memory usage: 1.2+ MB\n"
     ]
    }
   ],
   "source": [
    "movies.info()"
   ]
  },
  {
   "cell_type": "markdown",
   "metadata": {},
   "source": [
    "Great, it worked. We can't do the same for the keywords column, so we'll leave it alone for now. Let's get some numerical statistics."
   ]
  },
  {
   "cell_type": "markdown",
   "metadata": {},
   "source": [
    "## Examining Features"
   ]
  },
  {
   "cell_type": "markdown",
   "metadata": {},
   "source": [
    "### Numeric Features: startYear, runtimeMinutes, averageRating, and numVotes"
   ]
  },
  {
   "cell_type": "markdown",
   "metadata": {},
   "source": [
    "#### Individually"
   ]
  },
  {
   "cell_type": "code",
   "execution_count": 10,
   "metadata": {},
   "outputs": [
    {
     "data": {
      "text/html": [
       "<div>\n",
       "<style scoped>\n",
       "    .dataframe tbody tr th:only-of-type {\n",
       "        vertical-align: middle;\n",
       "    }\n",
       "\n",
       "    .dataframe tbody tr th {\n",
       "        vertical-align: top;\n",
       "    }\n",
       "\n",
       "    .dataframe thead th {\n",
       "        text-align: right;\n",
       "    }\n",
       "</style>\n",
       "<table border=\"1\" class=\"dataframe\">\n",
       "  <thead>\n",
       "    <tr style=\"text-align: right;\">\n",
       "      <th></th>\n",
       "      <th>startYear</th>\n",
       "      <th>runtimeMinutes</th>\n",
       "      <th>averageRating</th>\n",
       "    </tr>\n",
       "  </thead>\n",
       "  <tbody>\n",
       "    <tr>\n",
       "      <th>count</th>\n",
       "      <td>10000.00000</td>\n",
       "      <td>10000.000000</td>\n",
       "      <td>10000.000000</td>\n",
       "    </tr>\n",
       "    <tr>\n",
       "      <th>mean</th>\n",
       "      <td>1998.73320</td>\n",
       "      <td>108.832700</td>\n",
       "      <td>6.655770</td>\n",
       "    </tr>\n",
       "    <tr>\n",
       "      <th>std</th>\n",
       "      <td>18.01907</td>\n",
       "      <td>22.337511</td>\n",
       "      <td>1.043811</td>\n",
       "    </tr>\n",
       "    <tr>\n",
       "      <th>min</th>\n",
       "      <td>1915.00000</td>\n",
       "      <td>45.000000</td>\n",
       "      <td>1.300000</td>\n",
       "    </tr>\n",
       "    <tr>\n",
       "      <th>25%</th>\n",
       "      <td>1992.00000</td>\n",
       "      <td>94.000000</td>\n",
       "      <td>6.100000</td>\n",
       "    </tr>\n",
       "    <tr>\n",
       "      <th>50%</th>\n",
       "      <td>2004.00000</td>\n",
       "      <td>105.000000</td>\n",
       "      <td>6.800000</td>\n",
       "    </tr>\n",
       "    <tr>\n",
       "      <th>75%</th>\n",
       "      <td>2012.00000</td>\n",
       "      <td>118.000000</td>\n",
       "      <td>7.400000</td>\n",
       "    </tr>\n",
       "    <tr>\n",
       "      <th>max</th>\n",
       "      <td>2019.00000</td>\n",
       "      <td>566.000000</td>\n",
       "      <td>9.700000</td>\n",
       "    </tr>\n",
       "  </tbody>\n",
       "</table>\n",
       "</div>"
      ],
      "text/plain": [
       "         startYear  runtimeMinutes  averageRating\n",
       "count  10000.00000    10000.000000   10000.000000\n",
       "mean    1998.73320      108.832700       6.655770\n",
       "std       18.01907       22.337511       1.043811\n",
       "min     1915.00000       45.000000       1.300000\n",
       "25%     1992.00000       94.000000       6.100000\n",
       "50%     2004.00000      105.000000       6.800000\n",
       "75%     2012.00000      118.000000       7.400000\n",
       "max     2019.00000      566.000000       9.700000"
      ]
     },
     "execution_count": 10,
     "metadata": {},
     "output_type": "execute_result"
    }
   ],
   "source": [
    "movies.describe()"
   ]
  },
  {
   "cell_type": "markdown",
   "metadata": {},
   "source": [
    "We see that pandas thinks startYear is a float, which is fine. We see that the earliest movie in our set is from 1915, the latest is from 2019 and about half the movies are before and after 2004. The mean, though, is about 1999 indicating that the movies before 2004 are more spread out which makes sense."
   ]
  },
  {
   "cell_type": "markdown",
   "metadata": {},
   "source": [
    "In terms of runtime, not much to say. The median is 105 minutes or an hour and 45 minutes, and the mean is very close."
   ]
  },
  {
   "cell_type": "markdown",
   "metadata": {},
   "source": [
    "The mean movie rating is about 6.7 stars. The meadian is 6.8 so about that same. The ratings range from 1.3 to 9.7 stars."
   ]
  },
  {
   "cell_type": "markdown",
   "metadata": {},
   "source": [
    "Why isn't numVotes here? Looking above, we see because it's an object. Let's deal with that."
   ]
  },
  {
   "cell_type": "code",
   "execution_count": 11,
   "metadata": {},
   "outputs": [],
   "source": [
    "movies['numVotes'] = movies.apply(lambda x: int((x['numVotes']).replace(',', '')), axis=1)"
   ]
  },
  {
   "cell_type": "code",
   "execution_count": 12,
   "metadata": {},
   "outputs": [
    {
     "data": {
      "text/html": [
       "<div>\n",
       "<style scoped>\n",
       "    .dataframe tbody tr th:only-of-type {\n",
       "        vertical-align: middle;\n",
       "    }\n",
       "\n",
       "    .dataframe tbody tr th {\n",
       "        vertical-align: top;\n",
       "    }\n",
       "\n",
       "    .dataframe thead th {\n",
       "        text-align: right;\n",
       "    }\n",
       "</style>\n",
       "<table border=\"1\" class=\"dataframe\">\n",
       "  <thead>\n",
       "    <tr style=\"text-align: right;\">\n",
       "      <th></th>\n",
       "      <th>startYear</th>\n",
       "      <th>runtimeMinutes</th>\n",
       "      <th>averageRating</th>\n",
       "      <th>numVotes</th>\n",
       "    </tr>\n",
       "  </thead>\n",
       "  <tbody>\n",
       "    <tr>\n",
       "      <th>count</th>\n",
       "      <td>10000.00000</td>\n",
       "      <td>10000.000000</td>\n",
       "      <td>10000.000000</td>\n",
       "      <td>1.000000e+04</td>\n",
       "    </tr>\n",
       "    <tr>\n",
       "      <th>mean</th>\n",
       "      <td>1998.73320</td>\n",
       "      <td>108.832700</td>\n",
       "      <td>6.655770</td>\n",
       "      <td>6.658774e+04</td>\n",
       "    </tr>\n",
       "    <tr>\n",
       "      <th>std</th>\n",
       "      <td>18.01907</td>\n",
       "      <td>22.337511</td>\n",
       "      <td>1.043811</td>\n",
       "      <td>1.277254e+05</td>\n",
       "    </tr>\n",
       "    <tr>\n",
       "      <th>min</th>\n",
       "      <td>1915.00000</td>\n",
       "      <td>45.000000</td>\n",
       "      <td>1.300000</td>\n",
       "      <td>6.554000e+03</td>\n",
       "    </tr>\n",
       "    <tr>\n",
       "      <th>25%</th>\n",
       "      <td>1992.00000</td>\n",
       "      <td>94.000000</td>\n",
       "      <td>6.100000</td>\n",
       "      <td>1.103175e+04</td>\n",
       "    </tr>\n",
       "    <tr>\n",
       "      <th>50%</th>\n",
       "      <td>2004.00000</td>\n",
       "      <td>105.000000</td>\n",
       "      <td>6.800000</td>\n",
       "      <td>2.238150e+04</td>\n",
       "    </tr>\n",
       "    <tr>\n",
       "      <th>75%</th>\n",
       "      <td>2012.00000</td>\n",
       "      <td>118.000000</td>\n",
       "      <td>7.400000</td>\n",
       "      <td>6.455650e+04</td>\n",
       "    </tr>\n",
       "    <tr>\n",
       "      <th>max</th>\n",
       "      <td>2019.00000</td>\n",
       "      <td>566.000000</td>\n",
       "      <td>9.700000</td>\n",
       "      <td>2.057323e+06</td>\n",
       "    </tr>\n",
       "  </tbody>\n",
       "</table>\n",
       "</div>"
      ],
      "text/plain": [
       "         startYear  runtimeMinutes  averageRating      numVotes\n",
       "count  10000.00000    10000.000000   10000.000000  1.000000e+04\n",
       "mean    1998.73320      108.832700       6.655770  6.658774e+04\n",
       "std       18.01907       22.337511       1.043811  1.277254e+05\n",
       "min     1915.00000       45.000000       1.300000  6.554000e+03\n",
       "25%     1992.00000       94.000000       6.100000  1.103175e+04\n",
       "50%     2004.00000      105.000000       6.800000  2.238150e+04\n",
       "75%     2012.00000      118.000000       7.400000  6.455650e+04\n",
       "max     2019.00000      566.000000       9.700000  2.057323e+06"
      ]
     },
     "execution_count": 12,
     "metadata": {},
     "output_type": "execute_result"
    }
   ],
   "source": [
    "movies.describe()"
   ]
  },
  {
   "cell_type": "markdown",
   "metadata": {},
   "source": [
    "First, let's define a function that will help with much of the plotting:"
   ]
  },
  {
   "cell_type": "code",
   "execution_count": 14,
   "metadata": {},
   "outputs": [],
   "source": [
    "def plot_numeric(name, bins):\n",
    "    sns.set()\n",
    "    ax = name.hist(bins=bins, grid=False)\n",
    "    ax.set_xlabel(name.name)\n",
    "    ax.set_ylabel('count')\n",
    "    plt.show()\n",
    "    fig = ax.get_figure()\n",
    "    fig.savefig(str(name.name) + '.png')"
   ]
  },
  {
   "cell_type": "markdown",
   "metadata": {},
   "source": [
    "##### startYear"
   ]
  },
  {
   "cell_type": "code",
   "execution_count": 15,
   "metadata": {},
   "outputs": [
    {
     "data": {
      "image/png": "[encoded data removed]",
      "text/plain": [
       "<Figure size 432x288 with 1 Axes>"
      ]
     },
     "metadata": {},
     "output_type": "display_data"
    }
   ],
   "source": [
    "plot_numeric(movies.startYear, bins=50)"
   ]
  },
  {
   "cell_type": "markdown",
   "metadata": {},
   "source": [
    "We see that the number of movies made goes up with time, unsurprisingly. The reason for the dip at the end would be because we are only at the beginning of 2019, so many movies have yet to be released. We also see a distinct bump around 1990. It's worth checking out."
   ]
  },
  {
   "cell_type": "markdown",
   "metadata": {},
   "source": [
    "##### runtimeMinutes"
   ]
  },
  {
   "cell_type": "code",
   "execution_count": 16,
   "metadata": {},
   "outputs": [
    {
     "data": {
      "image/png": "[encoded data removed]",
      "text/plain": [
       "<Figure size 432x288 with 1 Axes>"
      ]
     },
     "metadata": {},
     "output_type": "display_data"
    }
   ],
   "source": [
    "plot_numeric(movies.runtimeMinutes, bins=100)"
   ]
  },
  {
   "cell_type": "markdown",
   "metadata": {},
   "source": [
    "OK, we see that the vast majority of movies are clustered around 100 minutes. Very few exceed 200 minutes, which is over 3 hours. Let's take a look at those that do."
   ]
  },
  {
   "cell_type": "code",
   "execution_count": 17,
   "metadata": {},
   "outputs": [
    {
     "data": {
      "text/plain": [
       "(34, 10)"
      ]
     },
     "execution_count": 17,
     "metadata": {},
     "output_type": "execute_result"
    }
   ],
   "source": [
    "movies.loc[movies.runtimeMinutes>200].shape"
   ]
  },
  {
   "cell_type": "markdown",
   "metadata": {},
   "source": [
    "34 such movies. My guess is that they would be disproportionately documentaries"
   ]
  },
  {
   "cell_type": "code",
   "execution_count": 18,
   "metadata": {},
   "outputs": [
    {
     "data": {
      "text/html": [
       "<div>\n",
       "<style scoped>\n",
       "    .dataframe tbody tr th:only-of-type {\n",
       "        vertical-align: middle;\n",
       "    }\n",
       "\n",
       "    .dataframe tbody tr th {\n",
       "        vertical-align: top;\n",
       "    }\n",
       "\n",
       "    .dataframe thead th {\n",
       "        text-align: right;\n",
       "    }\n",
       "</style>\n",
       "<table border=\"1\" class=\"dataframe\">\n",
       "  <thead>\n",
       "    <tr style=\"text-align: right;\">\n",
       "      <th></th>\n",
       "      <th>primaryTitle</th>\n",
       "      <th>startYear</th>\n",
       "      <th>runtimeMinutes</th>\n",
       "      <th>genres</th>\n",
       "      <th>averageRating</th>\n",
       "      <th>numVotes</th>\n",
       "      <th>plot</th>\n",
       "      <th>plot outlines</th>\n",
       "      <th>keywords</th>\n",
       "      <th>synopsis</th>\n",
       "    </tr>\n",
       "    <tr>\n",
       "      <th>tconst</th>\n",
       "      <th></th>\n",
       "      <th></th>\n",
       "      <th></th>\n",
       "      <th></th>\n",
       "      <th></th>\n",
       "      <th></th>\n",
       "      <th></th>\n",
       "      <th></th>\n",
       "      <th></th>\n",
       "      <th></th>\n",
       "    </tr>\n",
       "  </thead>\n",
       "  <tbody>\n",
       "    <tr>\n",
       "      <th>tt0167260</th>\n",
       "      <td>The Lord of the Rings: The Return of the King</td>\n",
       "      <td>2003</td>\n",
       "      <td>201</td>\n",
       "      <td>Adventure,Drama,Fantasy</td>\n",
       "      <td>8.9</td>\n",
       "      <td>1464810</td>\n",
       "      <td>Gandalf and Aragorn lead the World of Men agai...</td>\n",
       "      <td>The final confrontation between the forces of ...</td>\n",
       "      <td>orc,battle,journey,hobbit,ring,middle-earth,ki...</td>\n",
       "      <td>In the opening scene, a flashback, two hobbits...</td>\n",
       "    </tr>\n",
       "    <tr>\n",
       "      <th>tt0071562</th>\n",
       "      <td>The Godfather: Part II</td>\n",
       "      <td>1974</td>\n",
       "      <td>202</td>\n",
       "      <td>Crime,Drama</td>\n",
       "      <td>9.0</td>\n",
       "      <td>978878</td>\n",
       "      <td>The early life and career of Vito Corleone in ...</td>\n",
       "      <td>The continuing saga of the Corleone crime fami...</td>\n",
       "      <td>revenge,corrupt-politician,bloody-body-of-chil...</td>\n",
       "      <td>The Godfather Part II presents two parallel st...</td>\n",
       "    </tr>\n",
       "    <tr>\n",
       "      <th>tt0047478</th>\n",
       "      <td>Seven Samurai</td>\n",
       "      <td>1954</td>\n",
       "      <td>207</td>\n",
       "      <td>Adventure,Drama</td>\n",
       "      <td>8.7</td>\n",
       "      <td>278097</td>\n",
       "      <td>A poor village under attack by bandits recruit...</td>\n",
       "      <td>A veteran samurai, who has fallen on hard time...</td>\n",
       "      <td>samurai,battle,village,bandit,farmer,rice,vill...</td>\n",
       "      <td>A gang of marauding bandits approaches a mount...</td>\n",
       "    </tr>\n",
       "    <tr>\n",
       "      <th>tt0087843</th>\n",
       "      <td>Once Upon a Time in America</td>\n",
       "      <td>1984</td>\n",
       "      <td>229</td>\n",
       "      <td>Crime,Drama</td>\n",
       "      <td>8.4</td>\n",
       "      <td>271739</td>\n",
       "      <td>A former Prohibition-era Jewish gangster retur...</td>\n",
       "      <td>Epic tale of a group of Jewish gangsters in Ne...</td>\n",
       "      <td>doggystyle-sex,white-panties,topless-female-nu...</td>\n",
       "      <td>The story is divided among three distinct time...</td>\n",
       "    </tr>\n",
       "    <tr>\n",
       "      <th>tt0031381</th>\n",
       "      <td>Gone with the Wind</td>\n",
       "      <td>1939</td>\n",
       "      <td>238</td>\n",
       "      <td>Drama,History,Romance</td>\n",
       "      <td>8.2</td>\n",
       "      <td>260384</td>\n",
       "      <td>A manipulative woman and a roguish man conduct...</td>\n",
       "      <td>Scarlett is a woman who can deal with a nation...</td>\n",
       "      <td>mammy,american-civil-war,narcissistic-personal...</td>\n",
       "      <td>The film opens in Tara, a cotton plantation ow...</td>\n",
       "    </tr>\n",
       "    <tr>\n",
       "      <th>tt0056172</th>\n",
       "      <td>Lawrence of Arabia</td>\n",
       "      <td>1962</td>\n",
       "      <td>216</td>\n",
       "      <td>Adventure,Biography,Drama</td>\n",
       "      <td>8.3</td>\n",
       "      <td>237626</td>\n",
       "      <td>The story of T.E. Lawrence, the English office...</td>\n",
       "      <td>Due to his knowledge of the native Bedouin tri...</td>\n",
       "      <td>ottoman-empire,british-military,arab,desert,ca...</td>\n",
       "      <td>In 1935, T. E. Lawrence (Peter O'Toole) is kil...</td>\n",
       "    </tr>\n",
       "    <tr>\n",
       "      <th>tt0052618</th>\n",
       "      <td>Ben-Hur</td>\n",
       "      <td>1959</td>\n",
       "      <td>212</td>\n",
       "      <td>Adventure,Drama,History</td>\n",
       "      <td>8.1</td>\n",
       "      <td>198631</td>\n",
       "      <td>When a Jewish prince is betrayed and sent into...</td>\n",
       "      <td>Judah Ben-Hur lives as a rich Jewish prince an...</td>\n",
       "      <td>roman-empire,homoerotic-subtext,false-accusati...</td>\n",
       "      <td>Judah Ben-Hur (Charlton Heston) is a wealthy m...</td>\n",
       "    </tr>\n",
       "    <tr>\n",
       "      <th>tt0169102</th>\n",
       "      <td>Lagaan: Once Upon a Time in India</td>\n",
       "      <td>2001</td>\n",
       "      <td>224</td>\n",
       "      <td>Adventure,Drama,Musical</td>\n",
       "      <td>8.1</td>\n",
       "      <td>91353</td>\n",
       "      <td>The people of a small village in Victorian Ind...</td>\n",
       "      <td>This is the story about the resilience shown b...</td>\n",
       "      <td>british,based-on-supposedly-true-story,cricket...</td>\n",
       "      <td>NaN</td>\n",
       "    </tr>\n",
       "    <tr>\n",
       "      <th>tt0104797</th>\n",
       "      <td>Malcolm X</td>\n",
       "      <td>1992</td>\n",
       "      <td>202</td>\n",
       "      <td>Biography,Drama,History</td>\n",
       "      <td>7.7</td>\n",
       "      <td>74709</td>\n",
       "      <td>Biographical epic of the controversial and inf...</td>\n",
       "      <td>Biograpical epic of Malcolm X, the legendary A...</td>\n",
       "      <td>islam,nation-of-islam,ku-klux-klan,african-ame...</td>\n",
       "      <td>As the opening credits roll, we hear Malcolm X...</td>\n",
       "    </tr>\n",
       "    <tr>\n",
       "      <th>tt0367110</th>\n",
       "      <td>Swades</td>\n",
       "      <td>2004</td>\n",
       "      <td>210</td>\n",
       "      <td>Drama</td>\n",
       "      <td>8.3</td>\n",
       "      <td>73531</td>\n",
       "      <td>A successful Indian scientist returns to an In...</td>\n",
       "      <td>Set in modern day India, Swades is a film that...</td>\n",
       "      <td>india,village,nasa,postmaster,childhood-nanny,...</td>\n",
       "      <td>Mohan Bhargav (Shahrukh Khan) is a GPM at NASA...</td>\n",
       "    </tr>\n",
       "    <tr>\n",
       "      <th>tt1954470</th>\n",
       "      <td>Gangs of Wasseypur</td>\n",
       "      <td>2012</td>\n",
       "      <td>321</td>\n",
       "      <td>Action,Comedy,Crime</td>\n",
       "      <td>8.2</td>\n",
       "      <td>67644</td>\n",
       "      <td>A clash between Sultan and Shahid Khan leads t...</td>\n",
       "      <td>Shahid Khan is exiled after impersonating the ...</td>\n",
       "      <td>revenge,blood,gun,abuse,gangster,violence,indi...</td>\n",
       "      <td>Towards the end of colonial India, Shahid Khan...</td>\n",
       "    </tr>\n",
       "    <tr>\n",
       "      <th>tt0049833</th>\n",
       "      <td>The Ten Commandments</td>\n",
       "      <td>1956</td>\n",
       "      <td>220</td>\n",
       "      <td>Adventure,Drama</td>\n",
       "      <td>7.9</td>\n",
       "      <td>56329</td>\n",
       "      <td>The Egyptian Prince, Moses, learns of his true...</td>\n",
       "      <td>To escape the edict of Egypt's Pharaoh, Ramese...</td>\n",
       "      <td>voice-over-narration,egypt,pharaoh,desert,bibl...</td>\n",
       "      <td>The film covers the life of Moses from his dis...</td>\n",
       "    </tr>\n",
       "    <tr>\n",
       "      <th>tt0248126</th>\n",
       "      <td>Kabhi Khushi Kabhie Gham...</td>\n",
       "      <td>2001</td>\n",
       "      <td>210</td>\n",
       "      <td>Drama,Musical,Romance</td>\n",
       "      <td>7.5</td>\n",
       "      <td>39368</td>\n",
       "      <td>After marrying a poor woman, rich Rahul is dis...</td>\n",
       "      <td>Yashvardhan Raichand lives a very wealthy life...</td>\n",
       "      <td>love,melodrama,marriage,funeral,wealth,family-...</td>\n",
       "      <td>Kabhi Khushi Kabhie Gham\\r\\r\\n\"It's All About ...</td>\n",
       "    </tr>\n",
       "    <tr>\n",
       "      <th>tt0060107</th>\n",
       "      <td>Andrei Rublev</td>\n",
       "      <td>1966</td>\n",
       "      <td>205</td>\n",
       "      <td>Biography,Drama,History</td>\n",
       "      <td>8.2</td>\n",
       "      <td>37796</td>\n",
       "      <td>The life, times and afflictions of the fifteen...</td>\n",
       "      <td>Andreiv Rublev charts the life of the great ic...</td>\n",
       "      <td>russian-orthodox-church,painter,genius,silence...</td>\n",
       "      <td>Director Andrei Tarkovsky shows the beautiful ...</td>\n",
       "    </tr>\n",
       "    <tr>\n",
       "      <th>tt0057193</th>\n",
       "      <td>It's a Mad Mad Mad Mad World</td>\n",
       "      <td>1963</td>\n",
       "      <td>205</td>\n",
       "      <td>Action,Adventure,Comedy</td>\n",
       "      <td>7.6</td>\n",
       "      <td>34133</td>\n",
       "      <td>A group of motorists hear about a crook's hidd...</td>\n",
       "      <td>The story begins during a massive traffic jam,...</td>\n",
       "      <td>road-movie,limousine-driver,taxicab,dying-word...</td>\n",
       "      <td>The film begins with an accident on a lonely f...</td>\n",
       "    </tr>\n",
       "    <tr>\n",
       "      <th>tt0116477</th>\n",
       "      <td>Hamlet</td>\n",
       "      <td>1996</td>\n",
       "      <td>242</td>\n",
       "      <td>Drama</td>\n",
       "      <td>7.8</td>\n",
       "      <td>33836</td>\n",
       "      <td>Hamlet, Prince of Denmark, returns home to fin...</td>\n",
       "      <td>Hamlet (Sir Kenneth Branagh), son of the King ...</td>\n",
       "      <td>shakespeare-play,ghost,gertrude-character,ophe...</td>\n",
       "      <td>NaN</td>\n",
       "    </tr>\n",
       "    <tr>\n",
       "      <th>tt0049261</th>\n",
       "      <td>Giant</td>\n",
       "      <td>1956</td>\n",
       "      <td>201</td>\n",
       "      <td>Drama,Western</td>\n",
       "      <td>7.7</td>\n",
       "      <td>30786</td>\n",
       "      <td>Sprawling epic covering the life of a Texas ca...</td>\n",
       "      <td>Texan rancher Bick Benedict visits a Maryland ...</td>\n",
       "      <td>rancher,epic,texas,oil,rivalry,racism,nouveaux...</td>\n",
       "      <td>In the 1920s, Jordan \"Bick\" Benedict, Jr. (Roc...</td>\n",
       "    </tr>\n",
       "    <tr>\n",
       "      <th>tt0449994</th>\n",
       "      <td>Jodhaa Akbar</td>\n",
       "      <td>2008</td>\n",
       "      <td>213</td>\n",
       "      <td>Action,Drama,History</td>\n",
       "      <td>7.6</td>\n",
       "      <td>26384</td>\n",
       "      <td>A sixteenth century love story about a marriag...</td>\n",
       "      <td>Jodhaa Akbar is a sixteenth century love story...</td>\n",
       "      <td>indian-history,marriage,rajput,emperor,princes...</td>\n",
       "      <td>Jodhaa Akbar is a sixteenth century love story...</td>\n",
       "    </tr>\n",
       "    <tr>\n",
       "      <th>tt0213890</th>\n",
       "      <td>Mohabbatein</td>\n",
       "      <td>2000</td>\n",
       "      <td>216</td>\n",
       "      <td>Drama,Musical,Romance</td>\n",
       "      <td>7.1</td>\n",
       "      <td>24429</td>\n",
       "      <td>A film about the battle between love and fear,...</td>\n",
       "      <td>National Award winner, Yash Chopra and Aditya ...</td>\n",
       "      <td>love,student,music-teacher,suicide,principal,l...</td>\n",
       "      <td>Narayan Shankar (Amitabh Bachchan) is a strict...</td>\n",
       "    </tr>\n",
       "    <tr>\n",
       "      <th>tt0107007</th>\n",
       "      <td>Gettysburg</td>\n",
       "      <td>1993</td>\n",
       "      <td>271</td>\n",
       "      <td>Drama,History,War</td>\n",
       "      <td>7.7</td>\n",
       "      <td>24122</td>\n",
       "      <td>In 1863, the Northern and Southern forces figh...</td>\n",
       "      <td>The four and 1/4 hour depiction of the histori...</td>\n",
       "      <td>american-civil-war,battle-of-gettysburg,hug,gu...</td>\n",
       "      <td>NaN</td>\n",
       "    </tr>\n",
       "    <tr>\n",
       "      <th>tt0074084</th>\n",
       "      <td>1900</td>\n",
       "      <td>1976</td>\n",
       "      <td>317</td>\n",
       "      <td>Drama,History</td>\n",
       "      <td>7.7</td>\n",
       "      <td>20104</td>\n",
       "      <td>The epic tale of a class struggle in twentieth...</td>\n",
       "      <td>Set in Italy, the film follows the lives and i...</td>\n",
       "      <td>class-struggle,socialist,land-owner,child-murd...</td>\n",
       "      <td>Born on the day of the death of renowned compo...</td>\n",
       "    </tr>\n",
       "    <tr>\n",
       "      <th>tt0346336</th>\n",
       "      <td>The Best of Youth</td>\n",
       "      <td>2003</td>\n",
       "      <td>366</td>\n",
       "      <td>Drama,Romance</td>\n",
       "      <td>8.5</td>\n",
       "      <td>18811</td>\n",
       "      <td>An Italian epic that follows the lives of two ...</td>\n",
       "      <td>Nicola and Matteo Carati are two brothers of R...</td>\n",
       "      <td>1980s,1970s,watching-tv,years-of-lead,20th-cen...</td>\n",
       "      <td>NaN</td>\n",
       "    </tr>\n",
       "    <tr>\n",
       "      <th>tt0110076</th>\n",
       "      <td>Hum Aapke Hain Koun...!</td>\n",
       "      <td>1994</td>\n",
       "      <td>206</td>\n",
       "      <td>Comedy,Drama,Musical</td>\n",
       "      <td>7.5</td>\n",
       "      <td>16584</td>\n",
       "      <td>Prem and Nisha meet and fall in love at the we...</td>\n",
       "      <td>Prem, a top student, is learning the ropes of ...</td>\n",
       "      <td>necklace,dog,wedding,marriage-ceremony,engagem...</td>\n",
       "      <td>NaN</td>\n",
       "    </tr>\n",
       "    <tr>\n",
       "      <th>tt5275892</th>\n",
       "      <td>O.J.: Made in America</td>\n",
       "      <td>2016</td>\n",
       "      <td>467</td>\n",
       "      <td>Biography,Crime,Documentary</td>\n",
       "      <td>9.0</td>\n",
       "      <td>14569</td>\n",
       "      <td>A chronicle of the rise and fall of O.J. Simps...</td>\n",
       "      <td>It is the defining cultural tale of modern Ame...</td>\n",
       "      <td>celebrity,running-back,brentwood,media-frenzy,...</td>\n",
       "      <td>NaN</td>\n",
       "    </tr>\n",
       "    <tr>\n",
       "      <th>tt0279111</th>\n",
       "      <td>Gods and Generals</td>\n",
       "      <td>2003</td>\n",
       "      <td>219</td>\n",
       "      <td>Biography,Drama,History</td>\n",
       "      <td>6.4</td>\n",
       "      <td>14424</td>\n",
       "      <td>The rise and fall of legendary war hero Thomas...</td>\n",
       "      <td>The rise and fall of legendary war hero Thomas...</td>\n",
       "      <td>george-washington-character,gen-robert-e-lee-c...</td>\n",
       "      <td>Based on the best-selling historical novel by ...</td>\n",
       "    </tr>\n",
       "    <tr>\n",
       "      <th>tt0080855</th>\n",
       "      <td>Heaven's Gate</td>\n",
       "      <td>1980</td>\n",
       "      <td>219</td>\n",
       "      <td>Adventure,Drama,Western</td>\n",
       "      <td>6.8</td>\n",
       "      <td>11978</td>\n",
       "      <td>A dramatization of the real-life Johnson Count...</td>\n",
       "      <td>Wyoming, 1890. James Averill is the Sherriff o...</td>\n",
       "      <td>shot-to-death,period-piece,cattle-ranch,rape,l...</td>\n",
       "      <td>In 1870 young men of privilege, James Averill ...</td>\n",
       "    </tr>\n",
       "    <tr>\n",
       "      <th>tt1128075</th>\n",
       "      <td>Love Exposure</td>\n",
       "      <td>2008</td>\n",
       "      <td>237</td>\n",
       "      <td>Action,Comedy,Drama</td>\n",
       "      <td>8.1</td>\n",
       "      <td>9806</td>\n",
       "      <td>A bizarre love triangle forms between a young ...</td>\n",
       "      <td>Three emotionally abused people from the fring...</td>\n",
       "      <td>upskirt,micro-mini-skirt,mini-skirt,short-skir...</td>\n",
       "      <td>Chapter 1: YuYu Honda, a young teenage Catholi...</td>\n",
       "    </tr>\n",
       "    <tr>\n",
       "      <th>tt1113829</th>\n",
       "      <td>George Harrison: Living in the Material World</td>\n",
       "      <td>2011</td>\n",
       "      <td>208</td>\n",
       "      <td>Biography,Documentary,Music</td>\n",
       "      <td>8.1</td>\n",
       "      <td>9115</td>\n",
       "      <td>Filmmaker Martin Scorsese examines the life of...</td>\n",
       "      <td>George Harrison first became known to the worl...</td>\n",
       "      <td>spirituality,hare-krishna,laughter,songwriter,...</td>\n",
       "      <td>NaN</td>\n",
       "    </tr>\n",
       "    <tr>\n",
       "      <th>tt0049934</th>\n",
       "      <td>War and Peace</td>\n",
       "      <td>1956</td>\n",
       "      <td>208</td>\n",
       "      <td>Drama,Romance,War</td>\n",
       "      <td>6.8</td>\n",
       "      <td>8069</td>\n",
       "      <td>Napoleon's (Herbert Lom's) tumultuous relation...</td>\n",
       "      <td>By 1812, Napoleon's (Herbert Lom's) forces con...</td>\n",
       "      <td>french-invasion-of-russia,year-1812,tsarist-ru...</td>\n",
       "      <td>NaN</td>\n",
       "    </tr>\n",
       "    <tr>\n",
       "      <th>tt0053804</th>\n",
       "      <td>Exodus</td>\n",
       "      <td>1960</td>\n",
       "      <td>208</td>\n",
       "      <td>Action,Drama,History</td>\n",
       "      <td>6.8</td>\n",
       "      <td>8028</td>\n",
       "      <td>The state of Israel is created in 1948, result...</td>\n",
       "      <td>The theme is the founding of the state of Isra...</td>\n",
       "      <td>israel,jewish,1940s,jewish-refugee,based-on-tr...</td>\n",
       "      <td>Nurse Katherine \"Kitty\" Fremont is an American...</td>\n",
       "    </tr>\n",
       "    <tr>\n",
       "      <th>tt0059245</th>\n",
       "      <td>The Greatest Story Ever Told</td>\n",
       "      <td>1965</td>\n",
       "      <td>225</td>\n",
       "      <td>Biography,Drama,History</td>\n",
       "      <td>6.6</td>\n",
       "      <td>7808</td>\n",
       "      <td>An all-star, large scale epic film that chroni...</td>\n",
       "      <td>\"My God, My God, why hast thou forsaken Me?\" I...</td>\n",
       "      <td>biblical-epic,epic,1st-century,religion,jerusa...</td>\n",
       "      <td>NaN</td>\n",
       "    </tr>\n",
       "    <tr>\n",
       "      <th>tt0066319</th>\n",
       "      <td>Ryan's Daughter</td>\n",
       "      <td>1970</td>\n",
       "      <td>206</td>\n",
       "      <td>Drama,Romance</td>\n",
       "      <td>7.5</td>\n",
       "      <td>7701</td>\n",
       "      <td>Set in the wake of the 1916 Easter Rising, a m...</td>\n",
       "      <td>World War I seems far away from Ireland's Ding...</td>\n",
       "      <td>village,village-idiot,beach,ireland,orgasm,lus...</td>\n",
       "      <td>The film takes place in the isolated village o...</td>\n",
       "    </tr>\n",
       "    <tr>\n",
       "      <th>tt0111341</th>\n",
       "      <td>Satantango</td>\n",
       "      <td>1994</td>\n",
       "      <td>450</td>\n",
       "      <td>Drama</td>\n",
       "      <td>8.5</td>\n",
       "      <td>7612</td>\n",
       "      <td>Plotting on a payment they are about to receiv...</td>\n",
       "      <td>In a small, dilapidated village in 1990s Hunga...</td>\n",
       "      <td>hungary,contemplative-cinema,long-take,1990s,r...</td>\n",
       "      <td>NaN</td>\n",
       "    </tr>\n",
       "    <tr>\n",
       "      <th>tt0090015</th>\n",
       "      <td>Shoah</td>\n",
       "      <td>1985</td>\n",
       "      <td>566</td>\n",
       "      <td>Documentary,History,War</td>\n",
       "      <td>8.4</td>\n",
       "      <td>7436</td>\n",
       "      <td>Claude Lanzmann's epic documentary recounts th...</td>\n",
       "      <td>Claude Lanzmann directed this 9 1/2 hour docum...</td>\n",
       "      <td>holocaust,shoah,witness,testimony,deception,au...</td>\n",
       "      <td>The primary focus of Shoah is the stories of H...</td>\n",
       "    </tr>\n",
       "  </tbody>\n",
       "</table>\n",
       "</div>"
      ],
      "text/plain": [
       "                                            primaryTitle  startYear  \\\n",
       "tconst                                                                \n",
       "tt0167260  The Lord of the Rings: The Return of the King       2003   \n",
       "tt0071562                         The Godfather: Part II       1974   \n",
       "tt0047478                                  Seven Samurai       1954   \n",
       "tt0087843                    Once Upon a Time in America       1984   \n",
       "tt0031381                             Gone with the Wind       1939   \n",
       "tt0056172                             Lawrence of Arabia       1962   \n",
       "tt0052618                                        Ben-Hur       1959   \n",
       "tt0169102              Lagaan: Once Upon a Time in India       2001   \n",
       "tt0104797                                      Malcolm X       1992   \n",
       "tt0367110                                         Swades       2004   \n",
       "tt1954470                             Gangs of Wasseypur       2012   \n",
       "tt0049833                           The Ten Commandments       1956   \n",
       "tt0248126                    Kabhi Khushi Kabhie Gham...       2001   \n",
       "tt0060107                                  Andrei Rublev       1966   \n",
       "tt0057193                   It's a Mad Mad Mad Mad World       1963   \n",
       "tt0116477                                         Hamlet       1996   \n",
       "tt0049261                                          Giant       1956   \n",
       "tt0449994                                   Jodhaa Akbar       2008   \n",
       "tt0213890                                    Mohabbatein       2000   \n",
       "tt0107007                                     Gettysburg       1993   \n",
       "tt0074084                                           1900       1976   \n",
       "tt0346336                              The Best of Youth       2003   \n",
       "tt0110076                        Hum Aapke Hain Koun...!       1994   \n",
       "tt5275892                          O.J.: Made in America       2016   \n",
       "tt0279111                              Gods and Generals       2003   \n",
       "tt0080855                                  Heaven's Gate       1980   \n",
       "tt1128075                                  Love Exposure       2008   \n",
       "tt1113829  George Harrison: Living in the Material World       2011   \n",
       "tt0049934                                  War and Peace       1956   \n",
       "tt0053804                                         Exodus       1960   \n",
       "tt0059245                   The Greatest Story Ever Told       1965   \n",
       "tt0066319                                Ryan's Daughter       1970   \n",
       "tt0111341                                     Satantango       1994   \n",
       "tt0090015                                          Shoah       1985   \n",
       "\n",
       "           runtimeMinutes                       genres  averageRating  \\\n",
       "tconst                                                                  \n",
       "tt0167260             201      Adventure,Drama,Fantasy            8.9   \n",
       "tt0071562             202                  Crime,Drama            9.0   \n",
       "tt0047478             207              Adventure,Drama            8.7   \n",
       "tt0087843             229                  Crime,Drama            8.4   \n",
       "tt0031381             238        Drama,History,Romance            8.2   \n",
       "tt0056172             216    Adventure,Biography,Drama            8.3   \n",
       "tt0052618             212      Adventure,Drama,History            8.1   \n",
       "tt0169102             224      Adventure,Drama,Musical            8.1   \n",
       "tt0104797             202      Biography,Drama,History            7.7   \n",
       "tt0367110             210                        Drama            8.3   \n",
       "tt1954470             321          Action,Comedy,Crime            8.2   \n",
       "tt0049833             220              Adventure,Drama            7.9   \n",
       "tt0248126             210        Drama,Musical,Romance            7.5   \n",
       "tt0060107             205      Biography,Drama,History            8.2   \n",
       "tt0057193             205      Action,Adventure,Comedy            7.6   \n",
       "tt0116477             242                        Drama            7.8   \n",
       "tt0049261             201                Drama,Western            7.7   \n",
       "tt0449994             213         Action,Drama,History            7.6   \n",
       "tt0213890             216        Drama,Musical,Romance            7.1   \n",
       "tt0107007             271            Drama,History,War            7.7   \n",
       "tt0074084             317                Drama,History            7.7   \n",
       "tt0346336             366                Drama,Romance            8.5   \n",
       "tt0110076             206         Comedy,Drama,Musical            7.5   \n",
       "tt5275892             467  Biography,Crime,Documentary            9.0   \n",
       "tt0279111             219      Biography,Drama,History            6.4   \n",
       "tt0080855             219      Adventure,Drama,Western            6.8   \n",
       "tt1128075             237          Action,Comedy,Drama            8.1   \n",
       "tt1113829             208  Biography,Documentary,Music            8.1   \n",
       "tt0049934             208            Drama,Romance,War            6.8   \n",
       "tt0053804             208         Action,Drama,History            6.8   \n",
       "tt0059245             225      Biography,Drama,History            6.6   \n",
       "tt0066319             206                Drama,Romance            7.5   \n",
       "tt0111341             450                        Drama            8.5   \n",
       "tt0090015             566      Documentary,History,War            8.4   \n",
       "\n",
       "           numVotes                                               plot  \\\n",
       "tconst                                                                   \n",
       "tt0167260   1464810  Gandalf and Aragorn lead the World of Men agai...   \n",
       "tt0071562    978878  The early life and career of Vito Corleone in ...   \n",
       "tt0047478    278097  A poor village under attack by bandits recruit...   \n",
       "tt0087843    271739  A former Prohibition-era Jewish gangster retur...   \n",
       "tt0031381    260384  A manipulative woman and a roguish man conduct...   \n",
       "tt0056172    237626  The story of T.E. Lawrence, the English office...   \n",
       "tt0052618    198631  When a Jewish prince is betrayed and sent into...   \n",
       "tt0169102     91353  The people of a small village in Victorian Ind...   \n",
       "tt0104797     74709  Biographical epic of the controversial and inf...   \n",
       "tt0367110     73531  A successful Indian scientist returns to an In...   \n",
       "tt1954470     67644  A clash between Sultan and Shahid Khan leads t...   \n",
       "tt0049833     56329  The Egyptian Prince, Moses, learns of his true...   \n",
       "tt0248126     39368  After marrying a poor woman, rich Rahul is dis...   \n",
       "tt0060107     37796  The life, times and afflictions of the fifteen...   \n",
       "tt0057193     34133  A group of motorists hear about a crook's hidd...   \n",
       "tt0116477     33836  Hamlet, Prince of Denmark, returns home to fin...   \n",
       "tt0049261     30786  Sprawling epic covering the life of a Texas ca...   \n",
       "tt0449994     26384  A sixteenth century love story about a marriag...   \n",
       "tt0213890     24429  A film about the battle between love and fear,...   \n",
       "tt0107007     24122  In 1863, the Northern and Southern forces figh...   \n",
       "tt0074084     20104  The epic tale of a class struggle in twentieth...   \n",
       "tt0346336     18811  An Italian epic that follows the lives of two ...   \n",
       "tt0110076     16584  Prem and Nisha meet and fall in love at the we...   \n",
       "tt5275892     14569  A chronicle of the rise and fall of O.J. Simps...   \n",
       "tt0279111     14424  The rise and fall of legendary war hero Thomas...   \n",
       "tt0080855     11978  A dramatization of the real-life Johnson Count...   \n",
       "tt1128075      9806  A bizarre love triangle forms between a young ...   \n",
       "tt1113829      9115  Filmmaker Martin Scorsese examines the life of...   \n",
       "tt0049934      8069  Napoleon's (Herbert Lom's) tumultuous relation...   \n",
       "tt0053804      8028  The state of Israel is created in 1948, result...   \n",
       "tt0059245      7808  An all-star, large scale epic film that chroni...   \n",
       "tt0066319      7701  Set in the wake of the 1916 Easter Rising, a m...   \n",
       "tt0111341      7612  Plotting on a payment they are about to receiv...   \n",
       "tt0090015      7436  Claude Lanzmann's epic documentary recounts th...   \n",
       "\n",
       "                                               plot outlines  \\\n",
       "tconst                                                         \n",
       "tt0167260  The final confrontation between the forces of ...   \n",
       "tt0071562  The continuing saga of the Corleone crime fami...   \n",
       "tt0047478  A veteran samurai, who has fallen on hard time...   \n",
       "tt0087843  Epic tale of a group of Jewish gangsters in Ne...   \n",
       "tt0031381  Scarlett is a woman who can deal with a nation...   \n",
       "tt0056172  Due to his knowledge of the native Bedouin tri...   \n",
       "tt0052618  Judah Ben-Hur lives as a rich Jewish prince an...   \n",
       "tt0169102  This is the story about the resilience shown b...   \n",
       "tt0104797  Biograpical epic of Malcolm X, the legendary A...   \n",
       "tt0367110  Set in modern day India, Swades is a film that...   \n",
       "tt1954470  Shahid Khan is exiled after impersonating the ...   \n",
       "tt0049833  To escape the edict of Egypt's Pharaoh, Ramese...   \n",
       "tt0248126  Yashvardhan Raichand lives a very wealthy life...   \n",
       "tt0060107  Andreiv Rublev charts the life of the great ic...   \n",
       "tt0057193  The story begins during a massive traffic jam,...   \n",
       "tt0116477  Hamlet (Sir Kenneth Branagh), son of the King ...   \n",
       "tt0049261  Texan rancher Bick Benedict visits a Maryland ...   \n",
       "tt0449994  Jodhaa Akbar is a sixteenth century love story...   \n",
       "tt0213890  National Award winner, Yash Chopra and Aditya ...   \n",
       "tt0107007  The four and 1/4 hour depiction of the histori...   \n",
       "tt0074084  Set in Italy, the film follows the lives and i...   \n",
       "tt0346336  Nicola and Matteo Carati are two brothers of R...   \n",
       "tt0110076  Prem, a top student, is learning the ropes of ...   \n",
       "tt5275892  It is the defining cultural tale of modern Ame...   \n",
       "tt0279111  The rise and fall of legendary war hero Thomas...   \n",
       "tt0080855  Wyoming, 1890. James Averill is the Sherriff o...   \n",
       "tt1128075  Three emotionally abused people from the fring...   \n",
       "tt1113829  George Harrison first became known to the worl...   \n",
       "tt0049934  By 1812, Napoleon's (Herbert Lom's) forces con...   \n",
       "tt0053804  The theme is the founding of the state of Isra...   \n",
       "tt0059245  \"My God, My God, why hast thou forsaken Me?\" I...   \n",
       "tt0066319  World War I seems far away from Ireland's Ding...   \n",
       "tt0111341  In a small, dilapidated village in 1990s Hunga...   \n",
       "tt0090015  Claude Lanzmann directed this 9 1/2 hour docum...   \n",
       "\n",
       "                                                    keywords  \\\n",
       "tconst                                                         \n",
       "tt0167260  orc,battle,journey,hobbit,ring,middle-earth,ki...   \n",
       "tt0071562  revenge,corrupt-politician,bloody-body-of-chil...   \n",
       "tt0047478  samurai,battle,village,bandit,farmer,rice,vill...   \n",
       "tt0087843  doggystyle-sex,white-panties,topless-female-nu...   \n",
       "tt0031381  mammy,american-civil-war,narcissistic-personal...   \n",
       "tt0056172  ottoman-empire,british-military,arab,desert,ca...   \n",
       "tt0052618  roman-empire,homoerotic-subtext,false-accusati...   \n",
       "tt0169102  british,based-on-supposedly-true-story,cricket...   \n",
       "tt0104797  islam,nation-of-islam,ku-klux-klan,african-ame...   \n",
       "tt0367110  india,village,nasa,postmaster,childhood-nanny,...   \n",
       "tt1954470  revenge,blood,gun,abuse,gangster,violence,indi...   \n",
       "tt0049833  voice-over-narration,egypt,pharaoh,desert,bibl...   \n",
       "tt0248126  love,melodrama,marriage,funeral,wealth,family-...   \n",
       "tt0060107  russian-orthodox-church,painter,genius,silence...   \n",
       "tt0057193  road-movie,limousine-driver,taxicab,dying-word...   \n",
       "tt0116477  shakespeare-play,ghost,gertrude-character,ophe...   \n",
       "tt0049261  rancher,epic,texas,oil,rivalry,racism,nouveaux...   \n",
       "tt0449994  indian-history,marriage,rajput,emperor,princes...   \n",
       "tt0213890  love,student,music-teacher,suicide,principal,l...   \n",
       "tt0107007  american-civil-war,battle-of-gettysburg,hug,gu...   \n",
       "tt0074084  class-struggle,socialist,land-owner,child-murd...   \n",
       "tt0346336  1980s,1970s,watching-tv,years-of-lead,20th-cen...   \n",
       "tt0110076  necklace,dog,wedding,marriage-ceremony,engagem...   \n",
       "tt5275892  celebrity,running-back,brentwood,media-frenzy,...   \n",
       "tt0279111  george-washington-character,gen-robert-e-lee-c...   \n",
       "tt0080855  shot-to-death,period-piece,cattle-ranch,rape,l...   \n",
       "tt1128075  upskirt,micro-mini-skirt,mini-skirt,short-skir...   \n",
       "tt1113829  spirituality,hare-krishna,laughter,songwriter,...   \n",
       "tt0049934  french-invasion-of-russia,year-1812,tsarist-ru...   \n",
       "tt0053804  israel,jewish,1940s,jewish-refugee,based-on-tr...   \n",
       "tt0059245  biblical-epic,epic,1st-century,religion,jerusa...   \n",
       "tt0066319  village,village-idiot,beach,ireland,orgasm,lus...   \n",
       "tt0111341  hungary,contemplative-cinema,long-take,1990s,r...   \n",
       "tt0090015  holocaust,shoah,witness,testimony,deception,au...   \n",
       "\n",
       "                                                    synopsis  \n",
       "tconst                                                        \n",
       "tt0167260  In the opening scene, a flashback, two hobbits...  \n",
       "tt0071562  The Godfather Part II presents two parallel st...  \n",
       "tt0047478  A gang of marauding bandits approaches a mount...  \n",
       "tt0087843  The story is divided among three distinct time...  \n",
       "tt0031381  The film opens in Tara, a cotton plantation ow...  \n",
       "tt0056172  In 1935, T. E. Lawrence (Peter O'Toole) is kil...  \n",
       "tt0052618  Judah Ben-Hur (Charlton Heston) is a wealthy m...  \n",
       "tt0169102                                                NaN  \n",
       "tt0104797  As the opening credits roll, we hear Malcolm X...  \n",
       "tt0367110  Mohan Bhargav (Shahrukh Khan) is a GPM at NASA...  \n",
       "tt1954470  Towards the end of colonial India, Shahid Khan...  \n",
       "tt0049833  The film covers the life of Moses from his dis...  \n",
       "tt0248126  Kabhi Khushi Kabhie Gham\\r\\r\\n\"It's All About ...  \n",
       "tt0060107  Director Andrei Tarkovsky shows the beautiful ...  \n",
       "tt0057193  The film begins with an accident on a lonely f...  \n",
       "tt0116477                                                NaN  \n",
       "tt0049261  In the 1920s, Jordan \"Bick\" Benedict, Jr. (Roc...  \n",
       "tt0449994  Jodhaa Akbar is a sixteenth century love story...  \n",
       "tt0213890  Narayan Shankar (Amitabh Bachchan) is a strict...  \n",
       "tt0107007                                                NaN  \n",
       "tt0074084  Born on the day of the death of renowned compo...  \n",
       "tt0346336                                                NaN  \n",
       "tt0110076                                                NaN  \n",
       "tt5275892                                                NaN  \n",
       "tt0279111  Based on the best-selling historical novel by ...  \n",
       "tt0080855  In 1870 young men of privilege, James Averill ...  \n",
       "tt1128075  Chapter 1: YuYu Honda, a young teenage Catholi...  \n",
       "tt1113829                                                NaN  \n",
       "tt0049934                                                NaN  \n",
       "tt0053804  Nurse Katherine \"Kitty\" Fremont is an American...  \n",
       "tt0059245                                                NaN  \n",
       "tt0066319  The film takes place in the isolated village o...  \n",
       "tt0111341                                                NaN  \n",
       "tt0090015  The primary focus of Shoah is the stories of H...  "
      ]
     },
     "execution_count": 18,
     "metadata": {},
     "output_type": "execute_result"
    }
   ],
   "source": [
    "movies.loc[movies.runtimeMinutes>200]"
   ]
  },
  {
   "cell_type": "markdown",
   "metadata": {},
   "source": [
    "Hard to tell at a glance. We need to wait until we process the genres column to make any such statements."
   ]
  },
  {
   "cell_type": "markdown",
   "metadata": {},
   "source": [
    "##### averageRating\t"
   ]
  },
  {
   "cell_type": "code",
   "execution_count": 19,
   "metadata": {},
   "outputs": [
    {
     "data": {
      "image/png": "[encoded data removed]",
      "text/plain": [
       "<Figure size 432x288 with 1 Axes>"
      ]
     },
     "metadata": {},
     "output_type": "display_data"
    }
   ],
   "source": [
    "plot_numeric(movies.averageRating, bins=np.arange(0.25,10.5, 0.25))"
   ]
  },
  {
   "cell_type": "markdown",
   "metadata": {},
   "source": [
    "We see most movies fall between 6 and 8 stars."
   ]
  },
  {
   "cell_type": "markdown",
   "metadata": {},
   "source": [
    "#### numVotes"
   ]
  },
  {
   "cell_type": "code",
   "execution_count": 20,
   "metadata": {},
   "outputs": [
    {
     "data": {
      "image/png": "[encoded data removed]",
      "text/plain": [
       "<Figure size 432x288 with 1 Axes>"
      ]
     },
     "metadata": {},
     "output_type": "display_data"
    }
   ],
   "source": [
    "plot_numeric(movies.numVotes, bins=100)"
   ]
  },
  {
   "cell_type": "markdown",
   "metadata": {},
   "source": [
    "Wow, this distribution is very right-skewed. Let's see how many movies have more than 500,000 votes."
   ]
  },
  {
   "cell_type": "code",
   "execution_count": 21,
   "metadata": {},
   "outputs": [
    {
     "data": {
      "text/plain": [
       "(178, 10)"
      ]
     },
     "execution_count": 21,
     "metadata": {},
     "output_type": "execute_result"
    }
   ],
   "source": [
    "movies.loc[movies.numVotes>500000].shape"
   ]
  },
  {
   "cell_type": "markdown",
   "metadata": {},
   "source": [
    "Only 178. These must be the greats."
   ]
  },
  {
   "cell_type": "code",
   "execution_count": 22,
   "metadata": {},
   "outputs": [
    {
     "name": "stdout",
     "output_type": "stream",
     "text": [
      "<class 'pandas.core.frame.DataFrame'>\n",
      "Index: 10000 entries, tt0111161 to tt0110365\n",
      "Data columns (total 10 columns):\n",
      "primaryTitle      10000 non-null object\n",
      "startYear         10000 non-null int64\n",
      "runtimeMinutes    10000 non-null int64\n",
      "genres            10000 non-null object\n",
      "averageRating     10000 non-null float64\n",
      "numVotes          10000 non-null int64\n",
      "plot              10000 non-null object\n",
      "plot outlines     10000 non-null object\n",
      "keywords          9877 non-null object\n",
      "synopsis          6059 non-null object\n",
      "dtypes: float64(1), int64(3), object(6)\n",
      "memory usage: 1.2+ MB\n"
     ]
    }
   ],
   "source": [
    "movies.info()"
   ]
  },
  {
   "cell_type": "markdown",
   "metadata": {},
   "source": [
    "#### 2 Features at a Time"
   ]
  },
  {
   "cell_type": "markdown",
   "metadata": {},
   "source": [
    "First, let's take a look at the correlations between our numeric features."
   ]
  },
  {
   "cell_type": "code",
   "execution_count": 23,
   "metadata": {},
   "outputs": [
    {
     "data": {
      "image/png": "[encoded data removed]",
      "text/plain": [
       "<Figure size 432x288 with 1 Axes>"
      ]
     },
     "metadata": {},
     "output_type": "display_data"
    }
   ],
   "source": [
    "y = [2,4,6,8,10,12,14,16,18,20]\n",
    "x = np.arange(10)\n",
    "fig = plt.figure()\n",
    "ax = plt.subplot(111)\n",
    "ax.plot(x, y, label='$y = numbers')\n",
    "plt.title('Legend inside')\n",
    "ax.legend()\n",
    "#plt.show()\n",
    " \n",
    "fig.savefig('plot.png')"
   ]
  },
  {
   "cell_type": "code",
   "execution_count": 24,
   "metadata": {},
   "outputs": [
    {
     "data": {
      "image/png": "[encoded data removed]",
      "text/plain": [
       "<Figure size 432x288 with 2 Axes>"
      ]
     },
     "metadata": {},
     "output_type": "display_data"
    }
   ],
   "source": [
    "fig = plt.figure()\n",
    "ax = plt.subplot(111)\n",
    "corr = movies.corr()\n",
    "ax = sns.heatmap(corr)\n",
    "plt.show()\n",
    "fig.savefig('heatmap.png')\n",
    "\n",
    "#plt.savefig('heatmap.png')"
   ]
  },
  {
   "cell_type": "markdown",
   "metadata": {},
   "source": [
    "We don't see any correlations that are too high. It looks like startYear and averageRating are negatively correlated, meaning more recent movies are more likely to be rated lower. Let's look at the numbers."
   ]
  },
  {
   "cell_type": "code",
   "execution_count": 25,
   "metadata": {},
   "outputs": [],
   "source": [
    "corr_triu = corr.where(~np.tril(np.ones(corr.shape)).astype(np.bool))\n",
    "corr_triu = corr_triu.stack()\n",
    "corr_triu.name = 'Pearson Correlation Coefficient'\n",
    "corr_triu.index.names = ['Feature 1', 'Feature 2']"
   ]
  },
  {
   "cell_type": "code",
   "execution_count": 26,
   "metadata": {},
   "outputs": [
    {
     "data": {
      "text/plain": [
       "Feature 1       Feature 2     \n",
       "runtimeMinutes  averageRating     0.314285\n",
       "averageRating   numVotes          0.254650\n",
       "runtimeMinutes  numVotes          0.196031\n",
       "startYear       numVotes          0.083236\n",
       "                runtimeMinutes    0.007503\n",
       "                averageRating    -0.292108\n",
       "Name: Pearson Correlation Coefficient, dtype: float64"
      ]
     },
     "execution_count": 26,
     "metadata": {},
     "output_type": "execute_result"
    }
   ],
   "source": [
    "corr_triu.sort_values(ascending=False)"
   ]
  },
  {
   "cell_type": "markdown",
   "metadata": {},
   "source": [
    "We see some interesting numbers here. Let's investigate them with some graphs."
   ]
  },
  {
   "cell_type": "markdown",
   "metadata": {},
   "source": [
    "To that end, let's define a helpful plotting function first, that also outputs useful information:"
   ]
  },
  {
   "cell_type": "code",
   "execution_count": 27,
   "metadata": {},
   "outputs": [],
   "source": [
    "from numpy.polynomial.polynomial import polyfit\n",
    "sns.set()\n",
    "def plot_features(x,y):\n",
    "    plt.plot(x, y, '.')\n",
    "    b,m = polyfit(x, y, 1)\n",
    "    plt.plot(x, b +(m*x), '-', color='orange')\n",
    "    #plt.plot(np.unique(x), np.poly1d(np.polyfit(x,y,1))(np.unique(x)), color='orange') #another way of plotting the line\n",
    "    plt.xlabel(x.name)\n",
    "    plt.ylabel(y.name)\n",
    "    plt.show()\n",
    "    print(\"The intercept for these points is: %s\" %\"{:,}\".format(round(b,2)))\n",
    "    print(\"The slope of these points is: %s\" %\"{:,}\".format(round(m,2)))\n",
    "    beginning_value = b + (m*np.unique(x)[0])\n",
    "    end_value = b + (m*np.unique(x)[-1])\n",
    "    print(\"The line ranges from %s in %.2f to %s in %.2f for a difference of %s\" %(\"{:,}\".format(round(beginning_value,2)), \n",
    "                                                                                   np.unique(x)[0], \n",
    "                                                          \"{:,}\".format(round(end_value,2)), \n",
    "                                                                                   np.unique(x)[-1], \n",
    "                                                          \"{:,}\".format(round(end_value - beginning_value,2))))\n",
    "    print(\"Pearson Correlation between %s and %s: %f\" %(x.name, y.name, x.corr(y)))\n",
    "    #return b,m"
   ]
  },
  {
   "cell_type": "markdown",
   "metadata": {},
   "source": [
    "##### startYear and runtimeMinutes"
   ]
  },
  {
   "cell_type": "markdown",
   "metadata": {},
   "source": [
    "Let us examine if there is any relationship between these 2 variables. They are both integer valued, so let's try a scatter chart and overlay the line of best fit on top."
   ]
  },
  {
   "cell_type": "code",
   "execution_count": 28,
   "metadata": {},
   "outputs": [
    {
     "data": {
      "image/png": "[encoded data removed]",
      "text/plain": [
       "<Figure size 432x288 with 1 Axes>"
      ]
     },
     "metadata": {},
     "output_type": "display_data"
    },
    {
     "name": "stdout",
     "output_type": "stream",
     "text": [
      "The intercept for these points is: 90.24\n",
      "The slope of these points is: 0.01\n",
      "The line ranges from 108.05 in 1915.00 to 109.02 in 2019.00 for a difference of 0.97\n",
      "Pearson Correlation between startYear and runtimeMinutes: 0.007503\n"
     ]
    }
   ],
   "source": [
    "plot_features(movies.startYear, movies.runtimeMinutes)"
   ]
  },
  {
   "cell_type": "markdown",
   "metadata": {},
   "source": [
    "The line seems pretty flat, so there doesn't seen to be much of a relationship. "
   ]
  },
  {
   "cell_type": "markdown",
   "metadata": {},
   "source": [
    "We are more interested in the slope here which is about 0.009. This means that for every year going forward from 1915 to 2019, movies get about 0.009 minutes longer or about 0.54 seconds longer. So it's not really significant. The intercept of about 90.24 means that if we were to extrapolate into the past, a movie made in the year 0 should be about 90 minutes long. The more useful starting point is in 1915, the year of the earliest movie in our dataset. We see that the values at 1915 of 108.05 and 109.02 in 2019 differ by less than a minutes. Finally, we see that the correlation between the 2 features is almost 0. So we can discard the relathionship here."
   ]
  },
  {
   "cell_type": "markdown",
   "metadata": {},
   "source": [
    "##### startYear and averageRating"
   ]
  },
  {
   "cell_type": "code",
   "execution_count": 29,
   "metadata": {},
   "outputs": [
    {
     "data": {
      "image/png": "[encoded data removed]",
      "text/plain": [
       "<Figure size 432x288 with 1 Axes>"
      ]
     },
     "metadata": {},
     "output_type": "display_data"
    },
    {
     "name": "stdout",
     "output_type": "stream",
     "text": [
      "The intercept for these points is: 40.48\n",
      "The slope of these points is: -0.02\n",
      "The line ranges from 8.07 in 1915.00 to 6.31 in 2019.00 for a difference of -1.76\n",
      "Pearson Correlation between startYear and averageRating: -0.292108\n"
     ]
    }
   ],
   "source": [
    "plot_features(movies.startYear, movies.averageRating)"
   ]
  },
  {
   "cell_type": "markdown",
   "metadata": {},
   "source": [
    "Wow, definately seems to be a negative relationship here. With each passing year, the line says that a movie should get about 0.017 stars less than if it had been produced in the previous year. Over the time span we are dealing with, this translates to about 1.75 stars fewer in the end than in the beginning, a practically (as opposed to statistically) significant amount. We observe that the negative correlation backs this up as well. Finally, we see that a hypothetical movie made in year 0 could have been expected to get about 40 stars. Clearly a missed opportunity for those living at the time."
   ]
  },
  {
   "cell_type": "markdown",
   "metadata": {},
   "source": [
    "##### startYear and numVotes"
   ]
  },
  {
   "cell_type": "code",
   "execution_count": 30,
   "metadata": {},
   "outputs": [
    {
     "data": {
      "image/png": "[encoded data removed]",
      "text/plain": [
       "<Figure size 432x288 with 1 Axes>"
      ]
     },
     "metadata": {},
     "output_type": "display_data"
    },
    {
     "name": "stdout",
     "output_type": "stream",
     "text": [
      "The intercept for these points is: -1,112,669.52\n",
      "The slope of these points is: 590.0\n",
      "The line ranges from 17,184.95 in 1915.00 to 78,545.2 in 2019.00 for a difference of 61,360.24\n",
      "Pearson Correlation between startYear and numVotes: 0.083236\n"
     ]
    }
   ],
   "source": [
    "plot_features(movies.startYear, movies.numVotes)"
   ]
  },
  {
   "cell_type": "markdown",
   "metadata": {},
   "source": [
    "OK, so we see a small correlation to start with, but one that is there. With every year that passes, a movie gets about 590 additional votes, and this translated to about 60,000 additional votes between movies made in 1915 and those made in 2019. What we do see however, is that the vast majority of movies in our dataset from recent times still receive comparitively few votes and that there are a few movies (i.e. 'the greats') that get a huge number of votes. So let's show this."
   ]
  },
  {
   "cell_type": "markdown",
   "metadata": {},
   "source": [
    "First, let's separate the movies into different decades."
   ]
  },
  {
   "cell_type": "code",
   "execution_count": 31,
   "metadata": {},
   "outputs": [
    {
     "data": {
      "text/plain": [
       "decade\n",
       "1910       3\n",
       "1920      32\n",
       "1930      92\n",
       "1940     157\n",
       "1950     240\n",
       "1960     323\n",
       "1970     463\n",
       "1980     895\n",
       "1990    1604\n",
       "2000    2937\n",
       "2010    3254\n",
       "dtype: int64"
      ]
     },
     "execution_count": 31,
     "metadata": {},
     "output_type": "execute_result"
    }
   ],
   "source": [
    "movies['decade'] = movies['startYear'].apply(lambda x: int(str(x)[:3] + str(0)))\n",
    "movies.groupby('decade').agg('size')"
   ]
  },
  {
   "cell_type": "markdown",
   "metadata": {},
   "source": [
    "So we see that the number of movies increases with each decade. Makes sense."
   ]
  },
  {
   "cell_type": "code",
   "execution_count": 32,
   "metadata": {},
   "outputs": [],
   "source": [
    "decades_and_votes = movies[['decade', 'numVotes']].copy()"
   ]
  },
  {
   "cell_type": "code",
   "execution_count": 33,
   "metadata": {},
   "outputs": [
    {
     "data": {
      "text/plain": [
       "count     10000.000\n",
       "mean      66587.738\n",
       "std      127725.373\n",
       "min        6554.000\n",
       "25%       11031.750\n",
       "50%       22381.500\n",
       "75%       64556.500\n",
       "max     2057323.000\n",
       "Name: numVotes, dtype: float64"
      ]
     },
     "execution_count": 33,
     "metadata": {},
     "output_type": "execute_result"
    }
   ],
   "source": [
    "pd.set_option('display.float_format', lambda x: '%.3f' % x)\n",
    "movies.numVotes.describe()"
   ]
  },
  {
   "cell_type": "markdown",
   "metadata": {},
   "source": [
    "Let's split by 0-50,000, 50,000 - 100,000, 100,000 - 500,000, and 500,000+."
   ]
  },
  {
   "cell_type": "code",
   "execution_count": 34,
   "metadata": {},
   "outputs": [],
   "source": [
    "decades_and_votes['Votes Range'] = pd.cut(decades_and_votes.numVotes, bins=[0, 50000, 100000, 500000, decades_and_votes.numVotes[0]], \n",
    "       labels=['0-50,000', '50,000-100,000', '100,000-500,000', '500,000+'])"
   ]
  },
  {
   "cell_type": "code",
   "execution_count": 35,
   "metadata": {},
   "outputs": [
    {
     "data": {
      "text/html": [
       "<div>\n",
       "<style scoped>\n",
       "    .dataframe tbody tr th:only-of-type {\n",
       "        vertical-align: middle;\n",
       "    }\n",
       "\n",
       "    .dataframe tbody tr th {\n",
       "        vertical-align: top;\n",
       "    }\n",
       "\n",
       "    .dataframe thead tr th {\n",
       "        text-align: left;\n",
       "    }\n",
       "\n",
       "    .dataframe thead tr:last-of-type th {\n",
       "        text-align: right;\n",
       "    }\n",
       "</style>\n",
       "<table border=\"1\" class=\"dataframe\">\n",
       "  <thead>\n",
       "    <tr>\n",
       "      <th></th>\n",
       "      <th colspan=\"5\" halign=\"left\">numVotes</th>\n",
       "    </tr>\n",
       "    <tr>\n",
       "      <th>Votes Range</th>\n",
       "      <th>0-50,000</th>\n",
       "      <th>50,000-100,000</th>\n",
       "      <th>100,000-500,000</th>\n",
       "      <th>500,000+</th>\n",
       "      <th>All</th>\n",
       "    </tr>\n",
       "    <tr>\n",
       "      <th>decade</th>\n",
       "      <th></th>\n",
       "      <th></th>\n",
       "      <th></th>\n",
       "      <th></th>\n",
       "      <th></th>\n",
       "    </tr>\n",
       "  </thead>\n",
       "  <tbody>\n",
       "    <tr>\n",
       "      <th>1910</th>\n",
       "      <td>100.000</td>\n",
       "      <td>0.000</td>\n",
       "      <td>0.000</td>\n",
       "      <td>0.000</td>\n",
       "      <td>100.000</td>\n",
       "    </tr>\n",
       "    <tr>\n",
       "      <th>1920</th>\n",
       "      <td>84.375</td>\n",
       "      <td>12.500</td>\n",
       "      <td>3.125</td>\n",
       "      <td>0.000</td>\n",
       "      <td>100.000</td>\n",
       "    </tr>\n",
       "    <tr>\n",
       "      <th>1930</th>\n",
       "      <td>85.870</td>\n",
       "      <td>7.609</td>\n",
       "      <td>6.522</td>\n",
       "      <td>0.000</td>\n",
       "      <td>100.000</td>\n",
       "    </tr>\n",
       "    <tr>\n",
       "      <th>1940</th>\n",
       "      <td>85.987</td>\n",
       "      <td>5.096</td>\n",
       "      <td>8.917</td>\n",
       "      <td>0.000</td>\n",
       "      <td>100.000</td>\n",
       "    </tr>\n",
       "    <tr>\n",
       "      <th>1950</th>\n",
       "      <td>81.667</td>\n",
       "      <td>8.750</td>\n",
       "      <td>9.167</td>\n",
       "      <td>0.417</td>\n",
       "      <td>100.000</td>\n",
       "    </tr>\n",
       "    <tr>\n",
       "      <th>1960</th>\n",
       "      <td>83.282</td>\n",
       "      <td>8.359</td>\n",
       "      <td>7.430</td>\n",
       "      <td>0.929</td>\n",
       "      <td>100.000</td>\n",
       "    </tr>\n",
       "    <tr>\n",
       "      <th>1970</th>\n",
       "      <td>83.585</td>\n",
       "      <td>7.775</td>\n",
       "      <td>6.695</td>\n",
       "      <td>1.944</td>\n",
       "      <td>100.000</td>\n",
       "    </tr>\n",
       "    <tr>\n",
       "      <th>1980</th>\n",
       "      <td>76.872</td>\n",
       "      <td>11.732</td>\n",
       "      <td>10.056</td>\n",
       "      <td>1.341</td>\n",
       "      <td>100.000</td>\n",
       "    </tr>\n",
       "    <tr>\n",
       "      <th>1990</th>\n",
       "      <td>70.511</td>\n",
       "      <td>13.840</td>\n",
       "      <td>13.591</td>\n",
       "      <td>2.057</td>\n",
       "      <td>100.000</td>\n",
       "    </tr>\n",
       "    <tr>\n",
       "      <th>2000</th>\n",
       "      <td>63.807</td>\n",
       "      <td>15.730</td>\n",
       "      <td>18.488</td>\n",
       "      <td>1.975</td>\n",
       "      <td>100.000</td>\n",
       "    </tr>\n",
       "    <tr>\n",
       "      <th>2010</th>\n",
       "      <td>68.162</td>\n",
       "      <td>13.491</td>\n",
       "      <td>16.441</td>\n",
       "      <td>1.905</td>\n",
       "      <td>100.000</td>\n",
       "    </tr>\n",
       "    <tr>\n",
       "      <th>Totals</th>\n",
       "      <td>70.070</td>\n",
       "      <td>13.310</td>\n",
       "      <td>14.840</td>\n",
       "      <td>1.780</td>\n",
       "      <td>100.000</td>\n",
       "    </tr>\n",
       "  </tbody>\n",
       "</table>\n",
       "</div>"
      ],
      "text/plain": [
       "            numVotes                                                \n",
       "Votes Range 0-50,000 50,000-100,000 100,000-500,000 500,000+     All\n",
       "decade                                                              \n",
       "1910         100.000          0.000           0.000    0.000 100.000\n",
       "1920          84.375         12.500           3.125    0.000 100.000\n",
       "1930          85.870          7.609           6.522    0.000 100.000\n",
       "1940          85.987          5.096           8.917    0.000 100.000\n",
       "1950          81.667          8.750           9.167    0.417 100.000\n",
       "1960          83.282          8.359           7.430    0.929 100.000\n",
       "1970          83.585          7.775           6.695    1.944 100.000\n",
       "1980          76.872         11.732          10.056    1.341 100.000\n",
       "1990          70.511         13.840          13.591    2.057 100.000\n",
       "2000          63.807         15.730          18.488    1.975 100.000\n",
       "2010          68.162         13.491          16.441    1.905 100.000\n",
       "Totals        70.070         13.310          14.840    1.780 100.000"
      ]
     },
     "execution_count": 35,
     "metadata": {},
     "output_type": "execute_result"
    }
   ],
   "source": [
    "decades_and_votes_pivot = decades_and_votes.pivot_table(index='decade', columns='Votes Range', aggfunc=np.size, fill_value=0, margins=True)\n",
    "decades_and_votes_pivot.drop('All', axis=0, inplace=True)\n",
    "decades_and_votes_pivot.loc['Totals'] = decades_and_votes_pivot.sum(axis=0)\n",
    "decades_and_votes_pivot.iloc[:,0:5].div(decades_and_votes_pivot.iloc[:,4], axis=0) * 100"
   ]
  },
  {
   "cell_type": "markdown",
   "metadata": {},
   "source": [
    "Awesome. We see that the percentage of movies with greater than 500,000 votes in recent decades is very small, although these movies must have an outsized impact on the magnitude of our slope. The number of movies with 50,000 or fewer votes is still very large although it has been coming down with time. So it is fair to say that more recent movies are more likely to have more votes. This is likely beause more people watch movies today and they likely watch modern movies."
   ]
  },
  {
   "cell_type": "markdown",
   "metadata": {},
   "source": [
    "##### runtimeMinutes and averageRating"
   ]
  },
  {
   "cell_type": "code",
   "execution_count": 36,
   "metadata": {},
   "outputs": [
    {
     "data": {
      "image/png": "[encoded data removed]",
      "text/plain": [
       "<Figure size 432x288 with 1 Axes>"
      ]
     },
     "metadata": {},
     "output_type": "display_data"
    },
    {
     "name": "stdout",
     "output_type": "stream",
     "text": [
      "The intercept for these points is: 5.06\n",
      "The slope of these points is: 0.01\n",
      "The line ranges from 5.72 in 45.00 to 13.37 in 566.00 for a difference of 7.65\n",
      "Pearson Correlation between runtimeMinutes and averageRating: 0.314285\n"
     ]
    }
   ],
   "source": [
    "plot_features(movies.runtimeMinutes, movies.averageRating)"
   ]
  },
  {
   "cell_type": "markdown",
   "metadata": {},
   "source": [
    "There does seem to be a relationship between longer runtimes and higher ratings in our dataset. Although the vast majority of movies fall between 100 and 200 minutes, we can see that as we go from 100 to 200, the ratings get higher. Furthermore, no movie that is longer than 200 minutes has a rating below 6. The correlation coefficient of about 0.3 confirms this. It is actually the highest correlation among any 2 of our numerical features. The slope indicates that for every 1 minute increase in movie runtime, we can expect a movie to be rated about 0.015 stars higher. A possible reason is that longer movies have better developed plots."
   ]
  },
  {
   "cell_type": "markdown",
   "metadata": {},
   "source": [
    "##### runtimeMinutes and numVotes"
   ]
  },
  {
   "cell_type": "code",
   "execution_count": 37,
   "metadata": {},
   "outputs": [
    {
     "data": {
      "image/png": "[encoded data removed]",
      "text/plain": [
       "<Figure size 432x288 with 1 Axes>"
      ]
     },
     "metadata": {},
     "output_type": "display_data"
    },
    {
     "name": "stdout",
     "output_type": "stream",
     "text": [
      "The intercept for these points is: -55,402.71\n",
      "The slope of these points is: 1,120.9\n",
      "The line ranges from -4,962.26 in 45.00 to 579,026.06 in 566.00 for a difference of 583,988.32\n",
      "Pearson Correlation between runtimeMinutes and numVotes: 0.196031\n"
     ]
    }
   ],
   "source": [
    "plot_features(movies.runtimeMinutes, movies.numVotes)"
   ]
  },
  {
   "cell_type": "markdown",
   "metadata": {},
   "source": [
    "Let's flip the axes to make it more interpretable."
   ]
  },
  {
   "cell_type": "code",
   "execution_count": 38,
   "metadata": {},
   "outputs": [
    {
     "data": {
      "image/png": "[encoded data removed]",
      "text/plain": [
       "<Figure size 432x288 with 1 Axes>"
      ]
     },
     "metadata": {},
     "output_type": "display_data"
    },
    {
     "name": "stdout",
     "output_type": "stream",
     "text": [
      "The intercept for these points is: 106.55\n",
      "The slope of these points is: 0.0\n",
      "The line ranges from 106.77 in 6554.00 to 177.08 in 2057323.00 for a difference of 70.31\n",
      "Pearson Correlation between numVotes and runtimeMinutes: 0.196031\n"
     ]
    }
   ],
   "source": [
    "plot_features(movies.numVotes, movies.runtimeMinutes)"
   ]
  },
  {
   "cell_type": "markdown",
   "metadata": {},
   "source": [
    "We see a nice relationship between these features. More votes is associated with longer runtimes. The quickest explanation is that longer runtimes are associated with higher ratings which are associated with higher votes. This is not dispositive though."
   ]
  },
  {
   "cell_type": "markdown",
   "metadata": {},
   "source": [
    "##### averageRating and numVotes"
   ]
  },
  {
   "cell_type": "code",
   "execution_count": 39,
   "metadata": {},
   "outputs": [
    {
     "data": {
      "image/png": "[encoded data removed]",
      "text/plain": [
       "<Figure size 432x288 with 1 Axes>"
      ]
     },
     "metadata": {},
     "output_type": "display_data"
    },
    {
     "name": "stdout",
     "output_type": "stream",
     "text": [
      "The intercept for these points is: -140,807.11\n",
      "The slope of these points is: 31,160.16\n",
      "The line ranges from -100,298.9 in 1.30 to 161,446.43 in 9.70 for a difference of 261,745.33\n",
      "Pearson Correlation between averageRating and numVotes: 0.254650\n"
     ]
    }
   ],
   "source": [
    "plot_features(movies.averageRating, movies.numVotes)"
   ]
  },
  {
   "cell_type": "markdown",
   "metadata": {},
   "source": [
    "There is a clear relationship here between ratings and votes with higher ratings being correlated with more votes and vice versa. Because the strong negative intercept is hard to interpret, let's put averageRating on the y-axis and numVotes on the x-axis."
   ]
  },
  {
   "cell_type": "code",
   "execution_count": 40,
   "metadata": {},
   "outputs": [
    {
     "data": {
      "image/png": "[encoded data removed]",
      "text/plain": [
       "<Figure size 432x288 with 1 Axes>"
      ]
     },
     "metadata": {},
     "output_type": "display_data"
    },
    {
     "name": "stdout",
     "output_type": "stream",
     "text": [
      "The intercept for these points is: 6.52\n",
      "The slope of these points is: 0.0\n",
      "The line ranges from 6.53 in 6554.00 to 10.8 in 2057323.00 for a difference of 4.27\n",
      "Pearson Correlation between numVotes and averageRating: 0.254650\n"
     ]
    }
   ],
   "source": [
    "plot_features(movies.numVotes, movies.averageRating)"
   ]
  },
  {
   "cell_type": "markdown",
   "metadata": {},
   "source": [
    "This looks better. The intercept of 6.52 means we can expect a movie with 0 votes to have about a 6.5 rating. We see the slope as 0 because it is very small so our rounding in the plot_features function rounds it to 0. Let's get the precise number."
   ]
  },
  {
   "cell_type": "code",
   "execution_count": 41,
   "metadata": {},
   "outputs": [
    {
     "data": {
      "text/plain": [
       "2.081081718506996e-06"
      ]
     },
     "execution_count": 41,
     "metadata": {},
     "output_type": "execute_result"
    }
   ],
   "source": [
    "b,m = polyfit(movies.numVotes, movies.averageRating, 1)\n",
    "m"
   ]
  },
  {
   "cell_type": "markdown",
   "metadata": {},
   "source": [
    "So very small indeed. But the relationship between the variables is there. A natural reason for it would be that people are more inclined to watch and then rate high quality movies."
   ]
  },
  {
   "cell_type": "markdown",
   "metadata": {},
   "source": [
    "We have examined only our numeric features thus far. Let's take a look at our only categorical data: the genres column."
   ]
  },
  {
   "cell_type": "markdown",
   "metadata": {},
   "source": [
    "### Categorical Features: Genres"
   ]
  },
  {
   "cell_type": "code",
   "execution_count": 42,
   "metadata": {},
   "outputs": [
    {
     "data": {
      "text/plain": [
       "Comedy,Drama,Romance              491\n",
       "Drama                             451\n",
       "Comedy,Drama                      404\n",
       "Drama,Romance                     358\n",
       "Comedy                            333\n",
       "Comedy,Romance                    273\n",
       "Action,Crime,Drama                267\n",
       "Crime,Drama,Thriller              205\n",
       "Adventure,Animation,Comedy        169\n",
       "Action,Comedy,Crime               168\n",
       "Crime,Drama,Mystery               158\n",
       "Action,Crime,Thriller             146\n",
       "Action,Adventure,Comedy           142\n",
       "Horror                            137\n",
       "Drama,Thriller                    136\n",
       "Crime,Drama                       134\n",
       "Horror,Thriller                   133\n",
       "Horror,Mystery,Thriller           123\n",
       "Action,Adventure,Sci-Fi           120\n",
       "Biography,Drama,History           114\n",
       "Comedy,Crime,Drama                113\n",
       "Action,Adventure,Drama            106\n",
       "Comedy,Crime                       99\n",
       "Action,Adventure,Fantasy           95\n",
       "Biography,Drama                    82\n",
       "Action,Adventure,Animation         75\n",
       "Biography,Crime,Drama              73\n",
       "Action,Drama,Thriller              73\n",
       "Drama,War                          73\n",
       "Documentary                        70\n",
       "                                 ... \n",
       "Biography,Documentary,Thriller      1\n",
       "Documentary,News                    1\n",
       "Adventure,Romance,Sci-Fi            1\n",
       "Documentary,Drama,History           1\n",
       "Adventure,Crime,Horror              1\n",
       "Crime,Mystery                       1\n",
       "Animation,Drama,War                 1\n",
       "Action,Adventure,Documentary        1\n",
       "Action,Comedy,History               1\n",
       "Biography,History,Thriller          1\n",
       "Horror,Romance                      1\n",
       "Fantasy                             1\n",
       "Action,Animation,Romance            1\n",
       "Documentary,Mystery                 1\n",
       "Action,Comedy,War                   1\n",
       "Action,Mystery,Romance              1\n",
       "Animation,Biography,Crime           1\n",
       "Crime,Drama,Western                 1\n",
       "Horror,Musical,Sci-Fi               1\n",
       "Crime,Documentary,News              1\n",
       "Animation,History                   1\n",
       "Comedy,Fantasy,Musical              1\n",
       "Action,Romance,Western              1\n",
       "Action,Sport,Thriller               1\n",
       "Adventure,Family,Romance            1\n",
       "Biography,Drama,Mystery             1\n",
       "Crime,Thriller,War                  1\n",
       "Crime,Mystery,Romance               1\n",
       "Adventure,Fantasy,Romance           1\n",
       "Action,Fantasy,Western              1\n",
       "Name: genres, Length: 488, dtype: int64"
      ]
     },
     "execution_count": 42,
     "metadata": {},
     "output_type": "execute_result"
    }
   ],
   "source": [
    "movies['genres'].value_counts()"
   ]
  },
  {
   "cell_type": "markdown",
   "metadata": {},
   "source": [
    "A quick check shows us that 'Comedy,Drama,Romance' is the most common genre. But this is obviously not exactly what we are looking for. We need to see how often each label appears **on its own**."
   ]
  },
  {
   "cell_type": "code",
   "execution_count": 43,
   "metadata": {},
   "outputs": [],
   "source": [
    "genres = movies['genres']\n",
    "genres = genres.tolist()"
   ]
  },
  {
   "cell_type": "code",
   "execution_count": 44,
   "metadata": {},
   "outputs": [],
   "source": [
    "from collections import Counter\n",
    "\n",
    "genre_counter = Counter()\n",
    "genre_list = list()\n",
    "\n",
    "for genre in genres:\n",
    "    genres_split = genre.split(',')\n",
    "    for genre_again in genres_split:\n",
    "        genre_list.append(genre_again)\n",
    "        genre_counter[genre_again] += 1 "
   ]
  },
  {
   "cell_type": "code",
   "execution_count": 45,
   "metadata": {},
   "outputs": [
    {
     "data": {
      "text/plain": [
       "{'Drama': 5506,\n",
       " 'Comedy': 3689,\n",
       " 'Action': 2210,\n",
       " 'Crime': 1972,\n",
       " 'Romance': 1803,\n",
       " 'Thriller': 1624,\n",
       " 'Adventure': 1553,\n",
       " 'Horror': 1226,\n",
       " 'Mystery': 900,\n",
       " 'Fantasy': 717,\n",
       " 'Sci-Fi': 680,\n",
       " 'Biography': 627,\n",
       " 'Family': 512,\n",
       " 'Animation': 437,\n",
       " 'History': 346,\n",
       " 'Music': 311,\n",
       " 'War': 252,\n",
       " 'Documentary': 230,\n",
       " 'Sport': 220,\n",
       " 'Musical': 144,\n",
       " 'Western': 120,\n",
       " 'Film-Noir': 61,\n",
       " 'News': 3}"
      ]
     },
     "execution_count": 45,
     "metadata": {},
     "output_type": "execute_result"
    }
   ],
   "source": [
    "genre_counts = dict(genre_counter.most_common())\n",
    "genre_counts"
   ]
  },
  {
   "cell_type": "markdown",
   "metadata": {},
   "source": [
    "We see that Drama, Comedy, and Action are the most common genres among the top 10,000 movies. Let's vizualize this."
   ]
  },
  {
   "cell_type": "code",
   "execution_count": 46,
   "metadata": {},
   "outputs": [
    {
     "data": {
      "image/png": "[encoded data removed]",
      "text/plain": [
       "<Figure size 1152x432 with 1 Axes>"
      ]
     },
     "metadata": {},
     "output_type": "display_data"
    }
   ],
   "source": [
    "fig, ax = plt.subplots(1,1, figsize=(16,6))\n",
    "plt.bar(genre_counts.keys(), genre_counts.values())\n",
    "plt.xlabel('genres')\n",
    "plt.ylabel('counts')\n",
    "plt.xticks(rotation=45)\n",
    "plt.show()\n",
    "fig.savefig('genres1.png')"
   ]
  },
  {
   "cell_type": "markdown",
   "metadata": {},
   "source": [
    "Let's do the same chart by percentages:"
   ]
  },
  {
   "cell_type": "code",
   "execution_count": 47,
   "metadata": {},
   "outputs": [],
   "source": [
    "genre_sum = sum(genre_counter.values())\n",
    "genre_percentages = {k: v / genre_sum for k, v in genre_counts.items()}"
   ]
  },
  {
   "cell_type": "code",
   "execution_count": 48,
   "metadata": {},
   "outputs": [
    {
     "data": {
      "image/png": "[encoded data removed]",
      "text/plain": [
       "<Figure size 1152x432 with 1 Axes>"
      ]
     },
     "metadata": {},
     "output_type": "display_data"
    }
   ],
   "source": [
    "fig, ax = plt.subplots(1,1, figsize=(16,6))\n",
    "plt.bar(genre_percentages.keys(), genre_percentages.values())\n",
    "plt.xlabel('genres')\n",
    "plt.ylabel('counts')\n",
    "plt.xticks(rotation=45)\n",
    "plt.show()"
   ]
  },
  {
   "cell_type": "code",
   "execution_count": 49,
   "metadata": {},
   "outputs": [
    {
     "data": {
      "image/png": "[encoded data removed]",
      "text/plain": [
       "<Figure size 864x864 with 1 Axes>"
      ]
     },
     "metadata": {},
     "output_type": "display_data"
    }
   ],
   "source": [
    "plt.pie(genre_percentages.values(), labels=genre_percentages.keys(), textprops={'fontsize':10})\n",
    "fig = plt.gcf()\n",
    "fig.set_size_inches(12,12) # or (4,4) or (5,5) or whatever\n",
    "plt.show()\n",
    "fig.savefig('genres2.png')\n",
    "#autopct='%1.1f%%'"
   ]
  },
  {
   "cell_type": "markdown",
   "metadata": {},
   "source": [
    "Moving on: Another question we might have is to what extent different genres are related to one another. Let's explore this."
   ]
  },
  {
   "cell_type": "code",
   "execution_count": 50,
   "metadata": {},
   "outputs": [],
   "source": [
    "from sklearn.feature_extraction.text import CountVectorizer # Allows us to one-hot-encode Genre category\n",
    "genre_categories = list(genre_counts.keys()) # Get this list of genres\n",
    "pattern = \"(?u)\\\\b[\\\\w-]+\\\\b\"  #Regex pattern to include '-' in words we search for so we can include 'Sci-Fi' and 'Film-Noir'\n",
    "cv = CountVectorizer(vocabulary=genre_categories, lowercase=False, token_pattern=pattern) \n",
    "# Feed CountVectorizer the list of genres, set lowercase to False because genres are in uppercase, and give it the regex pattern\n",
    "\n",
    "# Create our dataframe from the genres category setting default value to 0 representing the fact that that genre is not \n",
    "# associated with a given movie\n",
    "genres = pd.SparseDataFrame(cv.fit_transform(movies['genres']), \n",
    "                       movies['genres'].index,\n",
    "                       cv.get_feature_names(), \n",
    "                       default_fill_value=0)\n",
    "genres = pd.DataFrame(genres)"
   ]
  },
  {
   "cell_type": "code",
   "execution_count": 51,
   "metadata": {},
   "outputs": [
    {
     "data": {
      "text/plain": [
       "3    6189\n",
       "2    2765\n",
       "1    1046\n",
       "dtype: int64"
      ]
     },
     "execution_count": 51,
     "metadata": {},
     "output_type": "execute_result"
    }
   ],
   "source": [
    "genres.sum(axis=1).value_counts()"
   ]
  },
  {
   "cell_type": "markdown",
   "metadata": {},
   "source": [
    "Here we see the breakdown of the number of genres associated with movies. The majority of movies fit 3 genres. More than a quarter are tagged with 2 genres and only about 10% of movies are tagged with only 1 genre. A natural question to ask is what genres appear most often together, so let's try and answer that."
   ]
  },
  {
   "cell_type": "markdown",
   "metadata": {},
   "source": [
    "First, let's plot the correlations:"
   ]
  },
  {
   "cell_type": "code",
   "execution_count": 52,
   "metadata": {},
   "outputs": [
    {
     "data": {
      "image/png": "[encoded data removed]",
      "text/plain": [
       "<Figure size 432x288 with 2 Axes>"
      ]
     },
     "metadata": {},
     "output_type": "display_data"
    }
   ],
   "source": [
    "corr = genres.corr()\n",
    "sns.heatmap(corr)\n",
    "plt.show()"
   ]
  },
  {
   "cell_type": "markdown",
   "metadata": {},
   "source": [
    "We see some orange amidst the dark purple, but nothing too bright. Let's look at the actual numbers for more insight."
   ]
  },
  {
   "cell_type": "code",
   "execution_count": 53,
   "metadata": {},
   "outputs": [],
   "source": [
    "corr_triu = corr.where(~np.tril(np.ones(corr.shape)).astype(np.bool))\n",
    "corr_triu = corr_triu.stack()\n",
    "corr_triu.name = 'Pearson Correlation Coefficient'\n",
    "corr_triu.index.names = ['Genre 1', 'Genre 2']"
   ]
  },
  {
   "cell_type": "markdown",
   "metadata": {},
   "source": [
    "##### What Genres are most positively correlated?"
   ]
  },
  {
   "cell_type": "code",
   "execution_count": 54,
   "metadata": {},
   "outputs": [
    {
     "data": {
      "text/html": [
       "<div>\n",
       "<style scoped>\n",
       "    .dataframe tbody tr th:only-of-type {\n",
       "        vertical-align: middle;\n",
       "    }\n",
       "\n",
       "    .dataframe tbody tr th {\n",
       "        vertical-align: top;\n",
       "    }\n",
       "\n",
       "    .dataframe thead th {\n",
       "        text-align: right;\n",
       "    }\n",
       "</style>\n",
       "<table border=\"1\" class=\"dataframe\">\n",
       "  <thead>\n",
       "    <tr style=\"text-align: right;\">\n",
       "      <th></th>\n",
       "      <th></th>\n",
       "      <th>Pearson Correlation Coefficient</th>\n",
       "    </tr>\n",
       "    <tr>\n",
       "      <th>Genre 1</th>\n",
       "      <th>Genre 2</th>\n",
       "      <th></th>\n",
       "    </tr>\n",
       "  </thead>\n",
       "  <tbody>\n",
       "    <tr>\n",
       "      <th>Adventure</th>\n",
       "      <th>Animation</th>\n",
       "      <td>0.318</td>\n",
       "    </tr>\n",
       "    <tr>\n",
       "      <th>Action</th>\n",
       "      <th>Adventure</th>\n",
       "      <td>0.274</td>\n",
       "    </tr>\n",
       "    <tr>\n",
       "      <th>Biography</th>\n",
       "      <th>History</th>\n",
       "      <td>0.217</td>\n",
       "    </tr>\n",
       "  </tbody>\n",
       "</table>\n",
       "</div>"
      ],
      "text/plain": [
       "                     Pearson Correlation Coefficient\n",
       "Genre 1   Genre 2                                   \n",
       "Adventure Animation                            0.318\n",
       "Action    Adventure                            0.274\n",
       "Biography History                              0.217"
      ]
     },
     "execution_count": 54,
     "metadata": {},
     "output_type": "execute_result"
    }
   ],
   "source": [
    "corr_triu[(corr_triu) > 0.2].to_frame().sort_values(by='Pearson Correlation Coefficient', ascending=False)"
   ]
  },
  {
   "cell_type": "markdown",
   "metadata": {},
   "source": [
    "We see that Adventure and Animation, Action and Adventure, and Biography and History are genres that are fairly correlated with each other. These facts are unsurprising. We are using a benchmark of 0.2 to define what is significantly correlated."
   ]
  },
  {
   "cell_type": "markdown",
   "metadata": {},
   "source": [
    "##### What Genres are most negatively correlated?"
   ]
  },
  {
   "cell_type": "code",
   "execution_count": 55,
   "metadata": {},
   "outputs": [
    {
     "data": {
      "text/html": [
       "<div>\n",
       "<style scoped>\n",
       "    .dataframe tbody tr th:only-of-type {\n",
       "        vertical-align: middle;\n",
       "    }\n",
       "\n",
       "    .dataframe tbody tr th {\n",
       "        vertical-align: top;\n",
       "    }\n",
       "\n",
       "    .dataframe thead th {\n",
       "        text-align: right;\n",
       "    }\n",
       "</style>\n",
       "<table border=\"1\" class=\"dataframe\">\n",
       "  <thead>\n",
       "    <tr style=\"text-align: right;\">\n",
       "      <th></th>\n",
       "      <th></th>\n",
       "      <th>Pearson Correlation Coefficient</th>\n",
       "    </tr>\n",
       "    <tr>\n",
       "      <th>Genre 1</th>\n",
       "      <th>Genre 2</th>\n",
       "      <th></th>\n",
       "    </tr>\n",
       "  </thead>\n",
       "  <tbody>\n",
       "    <tr>\n",
       "      <th rowspan=\"4\" valign=\"top\">Drama</th>\n",
       "      <th>Comedy</th>\n",
       "      <td>-0.245</td>\n",
       "    </tr>\n",
       "    <tr>\n",
       "      <th>Action</th>\n",
       "      <td>-0.246</td>\n",
       "    </tr>\n",
       "    <tr>\n",
       "      <th>Adventure</th>\n",
       "      <td>-0.259</td>\n",
       "    </tr>\n",
       "    <tr>\n",
       "      <th>Horror</th>\n",
       "      <td>-0.229</td>\n",
       "    </tr>\n",
       "    <tr>\n",
       "      <th>Comedy</th>\n",
       "      <th>Thriller</th>\n",
       "      <td>-0.297</td>\n",
       "    </tr>\n",
       "    <tr>\n",
       "      <th>Action</th>\n",
       "      <th>Romance</th>\n",
       "      <td>-0.208</td>\n",
       "    </tr>\n",
       "  </tbody>\n",
       "</table>\n",
       "</div>"
      ],
      "text/plain": [
       "                   Pearson Correlation Coefficient\n",
       "Genre 1 Genre 2                                   \n",
       "Drama   Comedy                              -0.245\n",
       "        Action                              -0.246\n",
       "        Adventure                           -0.259\n",
       "        Horror                              -0.229\n",
       "Comedy  Thriller                            -0.297\n",
       "Action  Romance                             -0.208"
      ]
     },
     "execution_count": 55,
     "metadata": {},
     "output_type": "execute_result"
    }
   ],
   "source": [
    "corr_triu[(corr_triu) < -0.2].to_frame()"
   ]
  },
  {
   "cell_type": "markdown",
   "metadata": {},
   "source": [
    "We see that Drama is negatively correlated with a bunch of other genres (Comedy, Action, Adventure and Horror). It seems like the Drama genre likes to 'hog' the movies it is tagged to, that is, it doesn't like to share tags with other movies. We  also see that Comedy and Thriller and Action and Romance are negatively correlated, which is unsurprising since those genres can be described as opposites."
   ]
  },
  {
   "cell_type": "markdown",
   "metadata": {},
   "source": [
    "Let's see if Drama is positively correlated with any other genre"
   ]
  },
  {
   "cell_type": "code",
   "execution_count": 56,
   "metadata": {},
   "outputs": [
    {
     "data": {
      "text/plain": [
       "Drama          1.000\n",
       "Biography      0.158\n",
       "Romance        0.148\n",
       "History        0.136\n",
       "War            0.085\n",
       "Music          0.044\n",
       "Film-Noir      0.035\n",
       "Crime          0.021\n",
       "Sport          0.020\n",
       "Musical        0.001\n",
       "News          -0.019\n",
       "Western       -0.022\n",
       "Mystery       -0.029\n",
       "Fantasy       -0.111\n",
       "Family        -0.114\n",
       "Thriller      -0.122\n",
       "Documentary   -0.128\n",
       "Animation     -0.163\n",
       "Sci-Fi        -0.172\n",
       "Horror        -0.229\n",
       "Comedy        -0.245\n",
       "Action        -0.246\n",
       "Adventure     -0.259\n",
       "Name: Drama, dtype: float64"
      ]
     },
     "execution_count": 56,
     "metadata": {},
     "output_type": "execute_result"
    }
   ],
   "source": [
    "corr['Drama'].sort_values(ascending=False)"
   ]
  },
  {
   "cell_type": "markdown",
   "metadata": {},
   "source": [
    "We see that Drama is positively correlated with a few other genres, but is mostly negatively correlated with other genres. Let's now look at what percentage of the time each genre appears on its own, by genre."
   ]
  },
  {
   "cell_type": "code",
   "execution_count": 57,
   "metadata": {},
   "outputs": [],
   "source": [
    "genres['number_of_genres'] = genres.sum(axis=1)"
   ]
  },
  {
   "cell_type": "code",
   "execution_count": 58,
   "metadata": {},
   "outputs": [],
   "source": [
    "# Old code: The code in the next cell achieves the same result in fewer lines\n",
    "\n",
    "# pivots = []\n",
    "# for column in genres.columns[0:-1]:\n",
    "#     column = pd.DataFrame(genres[column])\n",
    "#     columns = column.join(genres.number_of_genres)\n",
    "#     pivot = pd.pivot_table(columns, values=columns.columns[0], columns='number_of_genres', aggfunc=np.sum)\n",
    "#     pivots.append(pivot)\n",
    "\n",
    "# pivots_df = pd.concat(pivots)\n",
    "# pivots_df['totals'] = pivots_df.sum(axis=1)\n",
    "# pivots_df.loc['Total'] = pivots_df.sum()"
   ]
  },
  {
   "cell_type": "code",
   "execution_count": 59,
   "metadata": {},
   "outputs": [
    {
     "data": {
      "text/html": [
       "<div>\n",
       "<style scoped>\n",
       "    .dataframe tbody tr th:only-of-type {\n",
       "        vertical-align: middle;\n",
       "    }\n",
       "\n",
       "    .dataframe tbody tr th {\n",
       "        vertical-align: top;\n",
       "    }\n",
       "\n",
       "    .dataframe thead th {\n",
       "        text-align: right;\n",
       "    }\n",
       "</style>\n",
       "<table border=\"1\" class=\"dataframe\">\n",
       "  <thead>\n",
       "    <tr style=\"text-align: right;\">\n",
       "      <th>number_of_genres</th>\n",
       "      <th>1</th>\n",
       "      <th>2</th>\n",
       "      <th>3</th>\n",
       "      <th>totals</th>\n",
       "    </tr>\n",
       "  </thead>\n",
       "  <tbody>\n",
       "    <tr>\n",
       "      <th>Drama</th>\n",
       "      <td>451</td>\n",
       "      <td>1481</td>\n",
       "      <td>3574</td>\n",
       "      <td>5506</td>\n",
       "    </tr>\n",
       "    <tr>\n",
       "      <th>Comedy</th>\n",
       "      <td>333</td>\n",
       "      <td>1108</td>\n",
       "      <td>2248</td>\n",
       "      <td>3689</td>\n",
       "    </tr>\n",
       "    <tr>\n",
       "      <th>Action</th>\n",
       "      <td>9</td>\n",
       "      <td>230</td>\n",
       "      <td>1971</td>\n",
       "      <td>2210</td>\n",
       "    </tr>\n",
       "    <tr>\n",
       "      <th>Crime</th>\n",
       "      <td>1</td>\n",
       "      <td>284</td>\n",
       "      <td>1687</td>\n",
       "      <td>1972</td>\n",
       "    </tr>\n",
       "    <tr>\n",
       "      <th>Romance</th>\n",
       "      <td>1</td>\n",
       "      <td>646</td>\n",
       "      <td>1156</td>\n",
       "      <td>1803</td>\n",
       "    </tr>\n",
       "    <tr>\n",
       "      <th>Thriller</th>\n",
       "      <td>22</td>\n",
       "      <td>449</td>\n",
       "      <td>1153</td>\n",
       "      <td>1624</td>\n",
       "    </tr>\n",
       "    <tr>\n",
       "      <th>Adventure</th>\n",
       "      <td>1</td>\n",
       "      <td>98</td>\n",
       "      <td>1454</td>\n",
       "      <td>1553</td>\n",
       "    </tr>\n",
       "    <tr>\n",
       "      <th>Horror</th>\n",
       "      <td>137</td>\n",
       "      <td>324</td>\n",
       "      <td>765</td>\n",
       "      <td>1226</td>\n",
       "    </tr>\n",
       "    <tr>\n",
       "      <th>Mystery</th>\n",
       "      <td>0</td>\n",
       "      <td>108</td>\n",
       "      <td>792</td>\n",
       "      <td>900</td>\n",
       "    </tr>\n",
       "    <tr>\n",
       "      <th>Fantasy</th>\n",
       "      <td>1</td>\n",
       "      <td>74</td>\n",
       "      <td>642</td>\n",
       "      <td>717</td>\n",
       "    </tr>\n",
       "    <tr>\n",
       "      <th>Sci-Fi</th>\n",
       "      <td>0</td>\n",
       "      <td>129</td>\n",
       "      <td>551</td>\n",
       "      <td>680</td>\n",
       "    </tr>\n",
       "    <tr>\n",
       "      <th>Biography</th>\n",
       "      <td>0</td>\n",
       "      <td>95</td>\n",
       "      <td>532</td>\n",
       "      <td>627</td>\n",
       "    </tr>\n",
       "    <tr>\n",
       "      <th>Family</th>\n",
       "      <td>0</td>\n",
       "      <td>60</td>\n",
       "      <td>452</td>\n",
       "      <td>512</td>\n",
       "    </tr>\n",
       "    <tr>\n",
       "      <th>Animation</th>\n",
       "      <td>0</td>\n",
       "      <td>6</td>\n",
       "      <td>431</td>\n",
       "      <td>437</td>\n",
       "    </tr>\n",
       "    <tr>\n",
       "      <th>History</th>\n",
       "      <td>0</td>\n",
       "      <td>32</td>\n",
       "      <td>314</td>\n",
       "      <td>346</td>\n",
       "    </tr>\n",
       "    <tr>\n",
       "      <th>Music</th>\n",
       "      <td>1</td>\n",
       "      <td>87</td>\n",
       "      <td>223</td>\n",
       "      <td>311</td>\n",
       "    </tr>\n",
       "    <tr>\n",
       "      <th>War</th>\n",
       "      <td>0</td>\n",
       "      <td>90</td>\n",
       "      <td>162</td>\n",
       "      <td>252</td>\n",
       "    </tr>\n",
       "    <tr>\n",
       "      <th>Documentary</th>\n",
       "      <td>70</td>\n",
       "      <td>82</td>\n",
       "      <td>78</td>\n",
       "      <td>230</td>\n",
       "    </tr>\n",
       "    <tr>\n",
       "      <th>Sport</th>\n",
       "      <td>0</td>\n",
       "      <td>78</td>\n",
       "      <td>142</td>\n",
       "      <td>220</td>\n",
       "    </tr>\n",
       "    <tr>\n",
       "      <th>Musical</th>\n",
       "      <td>0</td>\n",
       "      <td>13</td>\n",
       "      <td>131</td>\n",
       "      <td>144</td>\n",
       "    </tr>\n",
       "    <tr>\n",
       "      <th>Western</th>\n",
       "      <td>19</td>\n",
       "      <td>44</td>\n",
       "      <td>57</td>\n",
       "      <td>120</td>\n",
       "    </tr>\n",
       "    <tr>\n",
       "      <th>Film-Noir</th>\n",
       "      <td>0</td>\n",
       "      <td>11</td>\n",
       "      <td>50</td>\n",
       "      <td>61</td>\n",
       "    </tr>\n",
       "    <tr>\n",
       "      <th>News</th>\n",
       "      <td>0</td>\n",
       "      <td>1</td>\n",
       "      <td>2</td>\n",
       "      <td>3</td>\n",
       "    </tr>\n",
       "    <tr>\n",
       "      <th>Total</th>\n",
       "      <td>1046</td>\n",
       "      <td>5530</td>\n",
       "      <td>18567</td>\n",
       "      <td>25143</td>\n",
       "    </tr>\n",
       "  </tbody>\n",
       "</table>\n",
       "</div>"
      ],
      "text/plain": [
       "number_of_genres     1     2      3  totals\n",
       "Drama              451  1481   3574    5506\n",
       "Comedy             333  1108   2248    3689\n",
       "Action               9   230   1971    2210\n",
       "Crime                1   284   1687    1972\n",
       "Romance              1   646   1156    1803\n",
       "Thriller            22   449   1153    1624\n",
       "Adventure            1    98   1454    1553\n",
       "Horror             137   324    765    1226\n",
       "Mystery              0   108    792     900\n",
       "Fantasy              1    74    642     717\n",
       "Sci-Fi               0   129    551     680\n",
       "Biography            0    95    532     627\n",
       "Family               0    60    452     512\n",
       "Animation            0     6    431     437\n",
       "History              0    32    314     346\n",
       "Music                1    87    223     311\n",
       "War                  0    90    162     252\n",
       "Documentary         70    82     78     230\n",
       "Sport                0    78    142     220\n",
       "Musical              0    13    131     144\n",
       "Western             19    44     57     120\n",
       "Film-Noir            0    11     50      61\n",
       "News                 0     1      2       3\n",
       "Total             1046  5530  18567   25143"
      ]
     },
     "execution_count": 59,
     "metadata": {},
     "output_type": "execute_result"
    }
   ],
   "source": [
    "pivots_df = genres.pivot_table(columns='number_of_genres', aggfunc='sum')\n",
    "pivots_df['totals'] = pivots_df.sum(axis=1)\n",
    "pivots_df.sort_values(by='totals', ascending=False, inplace=True)\n",
    "pivots_df.loc['Total'] = pivots_df.sum()\n",
    "pivots_df"
   ]
  },
  {
   "cell_type": "markdown",
   "metadata": {},
   "source": [
    "We see the number of times each genre label appeared, broken down by whether the label was on its own (1), with another label (2) or with 2 other labels (3). We are more interested in seeing the percentage of times that a genre label was on its own, so let's find that. To be clear, what we are finding now is the percentage occurence for a label appearing on its own, with another label or with 2 other labels when we know that genre label is applied. That is, the denominator would be the 'totals' column in pivots_df"
   ]
  },
  {
   "cell_type": "code",
   "execution_count": 60,
   "metadata": {},
   "outputs": [
    {
     "data": {
      "text/html": [
       "<div>\n",
       "<style scoped>\n",
       "    .dataframe tbody tr th:only-of-type {\n",
       "        vertical-align: middle;\n",
       "    }\n",
       "\n",
       "    .dataframe tbody tr th {\n",
       "        vertical-align: top;\n",
       "    }\n",
       "\n",
       "    .dataframe thead th {\n",
       "        text-align: right;\n",
       "    }\n",
       "</style>\n",
       "<table border=\"1\" class=\"dataframe\">\n",
       "  <thead>\n",
       "    <tr style=\"text-align: right;\">\n",
       "      <th>number_of_genres</th>\n",
       "      <th>1</th>\n",
       "      <th>2</th>\n",
       "      <th>3</th>\n",
       "    </tr>\n",
       "  </thead>\n",
       "  <tbody>\n",
       "    <tr>\n",
       "      <th>Drama</th>\n",
       "      <td>8.191</td>\n",
       "      <td>26.898</td>\n",
       "      <td>64.911</td>\n",
       "    </tr>\n",
       "    <tr>\n",
       "      <th>Comedy</th>\n",
       "      <td>9.027</td>\n",
       "      <td>30.035</td>\n",
       "      <td>60.938</td>\n",
       "    </tr>\n",
       "    <tr>\n",
       "      <th>Action</th>\n",
       "      <td>0.407</td>\n",
       "      <td>10.407</td>\n",
       "      <td>89.186</td>\n",
       "    </tr>\n",
       "    <tr>\n",
       "      <th>Crime</th>\n",
       "      <td>0.051</td>\n",
       "      <td>14.402</td>\n",
       "      <td>85.548</td>\n",
       "    </tr>\n",
       "    <tr>\n",
       "      <th>Romance</th>\n",
       "      <td>0.055</td>\n",
       "      <td>35.829</td>\n",
       "      <td>64.115</td>\n",
       "    </tr>\n",
       "    <tr>\n",
       "      <th>Thriller</th>\n",
       "      <td>1.355</td>\n",
       "      <td>27.648</td>\n",
       "      <td>70.998</td>\n",
       "    </tr>\n",
       "    <tr>\n",
       "      <th>Adventure</th>\n",
       "      <td>0.064</td>\n",
       "      <td>6.310</td>\n",
       "      <td>93.625</td>\n",
       "    </tr>\n",
       "    <tr>\n",
       "      <th>Horror</th>\n",
       "      <td>11.175</td>\n",
       "      <td>26.427</td>\n",
       "      <td>62.398</td>\n",
       "    </tr>\n",
       "    <tr>\n",
       "      <th>Mystery</th>\n",
       "      <td>0.000</td>\n",
       "      <td>12.000</td>\n",
       "      <td>88.000</td>\n",
       "    </tr>\n",
       "    <tr>\n",
       "      <th>Fantasy</th>\n",
       "      <td>0.139</td>\n",
       "      <td>10.321</td>\n",
       "      <td>89.540</td>\n",
       "    </tr>\n",
       "    <tr>\n",
       "      <th>Sci-Fi</th>\n",
       "      <td>0.000</td>\n",
       "      <td>18.971</td>\n",
       "      <td>81.029</td>\n",
       "    </tr>\n",
       "    <tr>\n",
       "      <th>Biography</th>\n",
       "      <td>0.000</td>\n",
       "      <td>15.152</td>\n",
       "      <td>84.848</td>\n",
       "    </tr>\n",
       "    <tr>\n",
       "      <th>Family</th>\n",
       "      <td>0.000</td>\n",
       "      <td>11.719</td>\n",
       "      <td>88.281</td>\n",
       "    </tr>\n",
       "    <tr>\n",
       "      <th>Animation</th>\n",
       "      <td>0.000</td>\n",
       "      <td>1.373</td>\n",
       "      <td>98.627</td>\n",
       "    </tr>\n",
       "    <tr>\n",
       "      <th>History</th>\n",
       "      <td>0.000</td>\n",
       "      <td>9.249</td>\n",
       "      <td>90.751</td>\n",
       "    </tr>\n",
       "    <tr>\n",
       "      <th>Music</th>\n",
       "      <td>0.322</td>\n",
       "      <td>27.974</td>\n",
       "      <td>71.704</td>\n",
       "    </tr>\n",
       "    <tr>\n",
       "      <th>War</th>\n",
       "      <td>0.000</td>\n",
       "      <td>35.714</td>\n",
       "      <td>64.286</td>\n",
       "    </tr>\n",
       "    <tr>\n",
       "      <th>Documentary</th>\n",
       "      <td>30.435</td>\n",
       "      <td>35.652</td>\n",
       "      <td>33.913</td>\n",
       "    </tr>\n",
       "    <tr>\n",
       "      <th>Sport</th>\n",
       "      <td>0.000</td>\n",
       "      <td>35.455</td>\n",
       "      <td>64.545</td>\n",
       "    </tr>\n",
       "    <tr>\n",
       "      <th>Musical</th>\n",
       "      <td>0.000</td>\n",
       "      <td>9.028</td>\n",
       "      <td>90.972</td>\n",
       "    </tr>\n",
       "    <tr>\n",
       "      <th>Western</th>\n",
       "      <td>15.833</td>\n",
       "      <td>36.667</td>\n",
       "      <td>47.500</td>\n",
       "    </tr>\n",
       "    <tr>\n",
       "      <th>Film-Noir</th>\n",
       "      <td>0.000</td>\n",
       "      <td>18.033</td>\n",
       "      <td>81.967</td>\n",
       "    </tr>\n",
       "    <tr>\n",
       "      <th>News</th>\n",
       "      <td>0.000</td>\n",
       "      <td>33.333</td>\n",
       "      <td>66.667</td>\n",
       "    </tr>\n",
       "    <tr>\n",
       "      <th>Total</th>\n",
       "      <td>4.160</td>\n",
       "      <td>21.994</td>\n",
       "      <td>73.846</td>\n",
       "    </tr>\n",
       "  </tbody>\n",
       "</table>\n",
       "</div>"
      ],
      "text/plain": [
       "number_of_genres      1      2      3\n",
       "Drama             8.191 26.898 64.911\n",
       "Comedy            9.027 30.035 60.938\n",
       "Action            0.407 10.407 89.186\n",
       "Crime             0.051 14.402 85.548\n",
       "Romance           0.055 35.829 64.115\n",
       "Thriller          1.355 27.648 70.998\n",
       "Adventure         0.064  6.310 93.625\n",
       "Horror           11.175 26.427 62.398\n",
       "Mystery           0.000 12.000 88.000\n",
       "Fantasy           0.139 10.321 89.540\n",
       "Sci-Fi            0.000 18.971 81.029\n",
       "Biography         0.000 15.152 84.848\n",
       "Family            0.000 11.719 88.281\n",
       "Animation         0.000  1.373 98.627\n",
       "History           0.000  9.249 90.751\n",
       "Music             0.322 27.974 71.704\n",
       "War               0.000 35.714 64.286\n",
       "Documentary      30.435 35.652 33.913\n",
       "Sport             0.000 35.455 64.545\n",
       "Musical           0.000  9.028 90.972\n",
       "Western          15.833 36.667 47.500\n",
       "Film-Noir         0.000 18.033 81.967\n",
       "News              0.000 33.333 66.667\n",
       "Total             4.160 21.994 73.846"
      ]
     },
     "execution_count": 60,
     "metadata": {},
     "output_type": "execute_result"
    }
   ],
   "source": [
    "percentages_by_genre = pivots_df.loc[:,[1,2,3]].div(pivots_df['totals'], axis=0)\n",
    "percentages_by_genre = percentages_by_genre * 100\n",
    "#percentages_by_genre['totals'] = percentages_by_genre.sum(axis=1) # just adds a 4th column that is 100 (%) for each row\n",
    "percentages_by_genre"
   ]
  },
  {
   "cell_type": "code",
   "execution_count": 61,
   "metadata": {},
   "outputs": [
    {
     "data": {
      "text/html": [
       "<div>\n",
       "<style scoped>\n",
       "    .dataframe tbody tr th:only-of-type {\n",
       "        vertical-align: middle;\n",
       "    }\n",
       "\n",
       "    .dataframe tbody tr th {\n",
       "        vertical-align: top;\n",
       "    }\n",
       "\n",
       "    .dataframe thead th {\n",
       "        text-align: right;\n",
       "    }\n",
       "</style>\n",
       "<table border=\"1\" class=\"dataframe\">\n",
       "  <thead>\n",
       "    <tr style=\"text-align: right;\">\n",
       "      <th>number_of_genres</th>\n",
       "      <th>1</th>\n",
       "      <th>2</th>\n",
       "      <th>3</th>\n",
       "    </tr>\n",
       "  </thead>\n",
       "  <tbody>\n",
       "    <tr>\n",
       "      <th>count</th>\n",
       "      <td>24.000</td>\n",
       "      <td>24.000</td>\n",
       "      <td>24.000</td>\n",
       "    </tr>\n",
       "    <tr>\n",
       "      <th>mean</th>\n",
       "      <td>3.384</td>\n",
       "      <td>21.275</td>\n",
       "      <td>75.341</td>\n",
       "    </tr>\n",
       "    <tr>\n",
       "      <th>std</th>\n",
       "      <td>7.208</td>\n",
       "      <td>11.155</td>\n",
       "      <td>15.880</td>\n",
       "    </tr>\n",
       "    <tr>\n",
       "      <th>min</th>\n",
       "      <td>0.000</td>\n",
       "      <td>1.373</td>\n",
       "      <td>33.913</td>\n",
       "    </tr>\n",
       "    <tr>\n",
       "      <th>25%</th>\n",
       "      <td>0.000</td>\n",
       "      <td>11.391</td>\n",
       "      <td>64.481</td>\n",
       "    </tr>\n",
       "    <tr>\n",
       "      <th>50%</th>\n",
       "      <td>0.053</td>\n",
       "      <td>20.482</td>\n",
       "      <td>77.438</td>\n",
       "    </tr>\n",
       "    <tr>\n",
       "      <th>75%</th>\n",
       "      <td>2.056</td>\n",
       "      <td>30.860</td>\n",
       "      <td>88.507</td>\n",
       "    </tr>\n",
       "    <tr>\n",
       "      <th>max</th>\n",
       "      <td>30.435</td>\n",
       "      <td>36.667</td>\n",
       "      <td>98.627</td>\n",
       "    </tr>\n",
       "  </tbody>\n",
       "</table>\n",
       "</div>"
      ],
      "text/plain": [
       "number_of_genres      1      2      3\n",
       "count            24.000 24.000 24.000\n",
       "mean              3.384 21.275 75.341\n",
       "std               7.208 11.155 15.880\n",
       "min               0.000  1.373 33.913\n",
       "25%               0.000 11.391 64.481\n",
       "50%               0.053 20.482 77.438\n",
       "75%               2.056 30.860 88.507\n",
       "max              30.435 36.667 98.627"
      ]
     },
     "execution_count": 61,
     "metadata": {},
     "output_type": "execute_result"
    }
   ],
   "source": [
    "percentages_by_genre.describe()"
   ]
  },
  {
   "cell_type": "markdown",
   "metadata": {},
   "source": [
    "Documentaries and Westerns are most likely to appear alone. By contrast, most other genre labels never or rarely appear alone. This is made clear with the describe method. The mean is about 3.4 and the 75th percentile is about 2.1, so they are pretty low."
   ]
  },
  {
   "cell_type": "markdown",
   "metadata": {},
   "source": [
    "There is nothing too special to say about the 2 column. By contrast, in the 3 column in percentages_by_genre, we see that Animation appears almost 99% of the time that its label is applied. Let's take a look there."
   ]
  },
  {
   "cell_type": "code",
   "execution_count": 62,
   "metadata": {},
   "outputs": [],
   "source": [
    "animation = genres.loc[(genres.Animation == 1), genres.columns[0:-1]]"
   ]
  },
  {
   "cell_type": "code",
   "execution_count": 63,
   "metadata": {},
   "outputs": [
    {
     "data": {
      "text/plain": [
       "Animation     1.000\n",
       "Adventure     0.693\n",
       "Comedy        0.503\n",
       "Action        0.252\n",
       "Family        0.174\n",
       "Drama         0.172\n",
       "Fantasy       0.080\n",
       "Sci-Fi        0.032\n",
       "Crime         0.025\n",
       "Romance       0.014\n",
       "Biography     0.011\n",
       "Horror        0.009\n",
       "Musical       0.007\n",
       "Mystery       0.005\n",
       "History       0.002\n",
       "War           0.002\n",
       "Thriller      0.002\n",
       "Documentary   0.002\n",
       "Film-Noir     0.000\n",
       "Music         0.000\n",
       "Sport         0.000\n",
       "Western       0.000\n",
       "News          0.000\n",
       "dtype: float64"
      ]
     },
     "execution_count": 63,
     "metadata": {},
     "output_type": "execute_result"
    }
   ],
   "source": [
    "(animation.sum() / animation.sum()['Animation']).sort_values(ascending=False)"
   ]
  },
  {
   "cell_type": "markdown",
   "metadata": {},
   "source": [
    "So we see that every time the animation label appears, about 69% of the time it is accompanied by the Adventure label. This would explain why they have the highest correlation of any 2 genres. The same approach can be used to find which genres appear most often with any given genre."
   ]
  },
  {
   "cell_type": "markdown",
   "metadata": {},
   "source": [
    "For completeness, we show a table of the percentage of times each genre appears in our dataset broken down by number of genres. So for example, movies with only the Drama label appear about 1.79% of the time in our dataset."
   ]
  },
  {
   "cell_type": "code",
   "execution_count": 64,
   "metadata": {},
   "outputs": [
    {
     "data": {
      "text/html": [
       "<div>\n",
       "<style scoped>\n",
       "    .dataframe tbody tr th:only-of-type {\n",
       "        vertical-align: middle;\n",
       "    }\n",
       "\n",
       "    .dataframe tbody tr th {\n",
       "        vertical-align: top;\n",
       "    }\n",
       "\n",
       "    .dataframe thead th {\n",
       "        text-align: right;\n",
       "    }\n",
       "</style>\n",
       "<table border=\"1\" class=\"dataframe\">\n",
       "  <thead>\n",
       "    <tr style=\"text-align: right;\">\n",
       "      <th>number_of_genres</th>\n",
       "      <th>1</th>\n",
       "      <th>2</th>\n",
       "      <th>3</th>\n",
       "      <th>totals</th>\n",
       "    </tr>\n",
       "  </thead>\n",
       "  <tbody>\n",
       "    <tr>\n",
       "      <th>Drama</th>\n",
       "      <td>1.794</td>\n",
       "      <td>5.890</td>\n",
       "      <td>14.215</td>\n",
       "      <td>21.899</td>\n",
       "    </tr>\n",
       "    <tr>\n",
       "      <th>Comedy</th>\n",
       "      <td>1.324</td>\n",
       "      <td>4.407</td>\n",
       "      <td>8.941</td>\n",
       "      <td>14.672</td>\n",
       "    </tr>\n",
       "    <tr>\n",
       "      <th>Action</th>\n",
       "      <td>0.036</td>\n",
       "      <td>0.915</td>\n",
       "      <td>7.839</td>\n",
       "      <td>8.790</td>\n",
       "    </tr>\n",
       "    <tr>\n",
       "      <th>Crime</th>\n",
       "      <td>0.004</td>\n",
       "      <td>1.130</td>\n",
       "      <td>6.710</td>\n",
       "      <td>7.843</td>\n",
       "    </tr>\n",
       "    <tr>\n",
       "      <th>Romance</th>\n",
       "      <td>0.004</td>\n",
       "      <td>2.569</td>\n",
       "      <td>4.598</td>\n",
       "      <td>7.171</td>\n",
       "    </tr>\n",
       "    <tr>\n",
       "      <th>Thriller</th>\n",
       "      <td>0.087</td>\n",
       "      <td>1.786</td>\n",
       "      <td>4.586</td>\n",
       "      <td>6.459</td>\n",
       "    </tr>\n",
       "    <tr>\n",
       "      <th>Adventure</th>\n",
       "      <td>0.004</td>\n",
       "      <td>0.390</td>\n",
       "      <td>5.783</td>\n",
       "      <td>6.177</td>\n",
       "    </tr>\n",
       "    <tr>\n",
       "      <th>Horror</th>\n",
       "      <td>0.545</td>\n",
       "      <td>1.289</td>\n",
       "      <td>3.043</td>\n",
       "      <td>4.876</td>\n",
       "    </tr>\n",
       "    <tr>\n",
       "      <th>Mystery</th>\n",
       "      <td>0.000</td>\n",
       "      <td>0.430</td>\n",
       "      <td>3.150</td>\n",
       "      <td>3.580</td>\n",
       "    </tr>\n",
       "    <tr>\n",
       "      <th>Fantasy</th>\n",
       "      <td>0.004</td>\n",
       "      <td>0.294</td>\n",
       "      <td>2.553</td>\n",
       "      <td>2.852</td>\n",
       "    </tr>\n",
       "    <tr>\n",
       "      <th>Sci-Fi</th>\n",
       "      <td>0.000</td>\n",
       "      <td>0.513</td>\n",
       "      <td>2.191</td>\n",
       "      <td>2.705</td>\n",
       "    </tr>\n",
       "    <tr>\n",
       "      <th>Biography</th>\n",
       "      <td>0.000</td>\n",
       "      <td>0.378</td>\n",
       "      <td>2.116</td>\n",
       "      <td>2.494</td>\n",
       "    </tr>\n",
       "    <tr>\n",
       "      <th>Family</th>\n",
       "      <td>0.000</td>\n",
       "      <td>0.239</td>\n",
       "      <td>1.798</td>\n",
       "      <td>2.036</td>\n",
       "    </tr>\n",
       "    <tr>\n",
       "      <th>Animation</th>\n",
       "      <td>0.000</td>\n",
       "      <td>0.024</td>\n",
       "      <td>1.714</td>\n",
       "      <td>1.738</td>\n",
       "    </tr>\n",
       "    <tr>\n",
       "      <th>History</th>\n",
       "      <td>0.000</td>\n",
       "      <td>0.127</td>\n",
       "      <td>1.249</td>\n",
       "      <td>1.376</td>\n",
       "    </tr>\n",
       "    <tr>\n",
       "      <th>Music</th>\n",
       "      <td>0.004</td>\n",
       "      <td>0.346</td>\n",
       "      <td>0.887</td>\n",
       "      <td>1.237</td>\n",
       "    </tr>\n",
       "    <tr>\n",
       "      <th>War</th>\n",
       "      <td>0.000</td>\n",
       "      <td>0.358</td>\n",
       "      <td>0.644</td>\n",
       "      <td>1.002</td>\n",
       "    </tr>\n",
       "    <tr>\n",
       "      <th>Documentary</th>\n",
       "      <td>0.278</td>\n",
       "      <td>0.326</td>\n",
       "      <td>0.310</td>\n",
       "      <td>0.915</td>\n",
       "    </tr>\n",
       "    <tr>\n",
       "      <th>Sport</th>\n",
       "      <td>0.000</td>\n",
       "      <td>0.310</td>\n",
       "      <td>0.565</td>\n",
       "      <td>0.875</td>\n",
       "    </tr>\n",
       "    <tr>\n",
       "      <th>Musical</th>\n",
       "      <td>0.000</td>\n",
       "      <td>0.052</td>\n",
       "      <td>0.521</td>\n",
       "      <td>0.573</td>\n",
       "    </tr>\n",
       "    <tr>\n",
       "      <th>Western</th>\n",
       "      <td>0.076</td>\n",
       "      <td>0.175</td>\n",
       "      <td>0.227</td>\n",
       "      <td>0.477</td>\n",
       "    </tr>\n",
       "    <tr>\n",
       "      <th>Film-Noir</th>\n",
       "      <td>0.000</td>\n",
       "      <td>0.044</td>\n",
       "      <td>0.199</td>\n",
       "      <td>0.243</td>\n",
       "    </tr>\n",
       "    <tr>\n",
       "      <th>News</th>\n",
       "      <td>0.000</td>\n",
       "      <td>0.004</td>\n",
       "      <td>0.008</td>\n",
       "      <td>0.012</td>\n",
       "    </tr>\n",
       "  </tbody>\n",
       "</table>\n",
       "</div>"
      ],
      "text/plain": [
       "number_of_genres     1     2      3  totals\n",
       "Drama            1.794 5.890 14.215  21.899\n",
       "Comedy           1.324 4.407  8.941  14.672\n",
       "Action           0.036 0.915  7.839   8.790\n",
       "Crime            0.004 1.130  6.710   7.843\n",
       "Romance          0.004 2.569  4.598   7.171\n",
       "Thriller         0.087 1.786  4.586   6.459\n",
       "Adventure        0.004 0.390  5.783   6.177\n",
       "Horror           0.545 1.289  3.043   4.876\n",
       "Mystery          0.000 0.430  3.150   3.580\n",
       "Fantasy          0.004 0.294  2.553   2.852\n",
       "Sci-Fi           0.000 0.513  2.191   2.705\n",
       "Biography        0.000 0.378  2.116   2.494\n",
       "Family           0.000 0.239  1.798   2.036\n",
       "Animation        0.000 0.024  1.714   1.738\n",
       "History          0.000 0.127  1.249   1.376\n",
       "Music            0.004 0.346  0.887   1.237\n",
       "War              0.000 0.358  0.644   1.002\n",
       "Documentary      0.278 0.326  0.310   0.915\n",
       "Sport            0.000 0.310  0.565   0.875\n",
       "Musical          0.000 0.052  0.521   0.573\n",
       "Western          0.076 0.175  0.227   0.477\n",
       "Film-Noir        0.000 0.044  0.199   0.243\n",
       "News             0.000 0.004  0.008   0.012"
      ]
     },
     "execution_count": 64,
     "metadata": {},
     "output_type": "execute_result"
    }
   ],
   "source": [
    "percentages_by_genre_totals = (pivots_df / genres.sum()['number_of_genres']) * 100\n",
    "percentages_by_genre_totals.iloc[0:-1,:]"
   ]
  },
  {
   "cell_type": "markdown",
   "metadata": {},
   "source": [
    "### Text Features: plot, plot outlines, keywords, synopsis"
   ]
  },
  {
   "cell_type": "markdown",
   "metadata": {},
   "source": [
    "NLP Fundamentals in Python:  \n",
    "1. Regular Expressions and Word Tokenization\n",
    "    1. Introduction to Regular Expressions\n",
    "    2. Word Tokenization with NLTK\n",
    "    3. Advanced tokenization with NLTK and regex\n",
    "    4. Charting word lengths with NLTK\n",
    "2. Simple Topic Identification\n",
    "    1. Word Counts with bag-of-words\n",
    "    2. Simple text preprocessing\n",
    "    3. Introduction to Gensim\n",
    "    4. Tf-idf with Gensim\n",
    "3. Named-entity Recognition\n",
    "4. Building a \"fake news\" classifier"
   ]
  },
  {
   "cell_type": "markdown",
   "metadata": {},
   "source": [
    "Let's begin by creating a dataframe with just the columns we need."
   ]
  },
  {
   "cell_type": "code",
   "execution_count": 65,
   "metadata": {},
   "outputs": [],
   "source": [
    "text_cols = movies[['plot', 'plot outlines', 'keywords', 'synopsis']]"
   ]
  },
  {
   "cell_type": "code",
   "execution_count": 66,
   "metadata": {},
   "outputs": [
    {
     "name": "stdout",
     "output_type": "stream",
     "text": [
      "<class 'pandas.core.frame.DataFrame'>\n",
      "Index: 10000 entries, tt0111161 to tt0110365\n",
      "Data columns (total 4 columns):\n",
      "plot             10000 non-null object\n",
      "plot outlines    10000 non-null object\n",
      "keywords         9877 non-null object\n",
      "synopsis         6059 non-null object\n",
      "dtypes: object(4)\n",
      "memory usage: 710.6+ KB\n"
     ]
    }
   ],
   "source": [
    "text_cols.info()"
   ]
  },
  {
   "cell_type": "markdown",
   "metadata": {},
   "source": [
    "Again, we note that we are missing values in the synopsis and keywords columns"
   ]
  },
  {
   "cell_type": "markdown",
   "metadata": {},
   "source": [
    "To start, let's get the average length of each column by number of characters to know what we are dealing with."
   ]
  },
  {
   "cell_type": "code",
   "execution_count": 67,
   "metadata": {},
   "outputs": [
    {
     "name": "stdout",
     "output_type": "stream",
     "text": [
      "plot: 177.802\n",
      "plot outlines: 586.338\n",
      "keywords: 1585.197\n",
      "synopsis: 7080.901\n"
     ]
    }
   ],
   "source": [
    "for col in text_cols.columns:\n",
    "    print(\"%s: %.3f\" %(col,np.mean(text_cols[col].str.len())) )"
   ]
  },
  {
   "cell_type": "markdown",
   "metadata": {},
   "source": [
    "We see that synopsis is by far the longest on average, followed by keywords, followed by plot outline, followed by plot. This matches our expectations since in creating the dataset we noticed that synopsis contains paragraphs describing the movie scene by scene, keywords contains may keywords describing the movie, plot outline is gerenally around a paragraph of description about the movie, and plot is generally a sentence or two."
   ]
  },
  {
   "cell_type": "markdown",
   "metadata": {},
   "source": [
    "Let's dry a different manner of getting the plot lengths."
   ]
  },
  {
   "cell_type": "code",
   "execution_count": 68,
   "metadata": {},
   "outputs": [
    {
     "data": {
      "text/plain": [
       "plot             177.802\n",
       "plot outlines    586.338\n",
       "keywords        1565.736\n",
       "synopsis        4291.500\n",
       "dtype: float64"
      ]
     },
     "execution_count": 68,
     "metadata": {},
     "output_type": "execute_result"
    }
   ],
   "source": [
    "all_lengths = text_cols.applymap(lambda x: len(str(x))) # get length of every string in a dataframe\n",
    "all_lengths.mean()"
   ]
  },
  {
   "cell_type": "markdown",
   "metadata": {},
   "source": [
    "We see that when we use the applymap function we get different results, but only for the keywords and synopsis columns. My guess would be that the difference is due to the nans we have in the keywords and synopsis columns. With applymap we are converting them to strings, so they bring down the average, whereas they are not counted with the first method. To confirm this, we can replace all the NaNs with the average values for the columns. But we will not do that here because it is not that important."
   ]
  },
  {
   "cell_type": "markdown",
   "metadata": {},
   "source": [
    "At this point, we make the decision to just use plot outline and keywords in our model, at least for now. We use plot outline instead of plot because there is more information there; we use plot outline instead of synopsis because synopsis might contain too much information; and we use keywords because they might have a lot of value."
   ]
  },
  {
   "cell_type": "code",
   "execution_count": 69,
   "metadata": {},
   "outputs": [],
   "source": [
    "plots_and_keywords = text_cols[['plot outlines', 'keywords']]"
   ]
  },
  {
   "cell_type": "markdown",
   "metadata": {},
   "source": [
    "Let's begin by plotting the distributions of the number of words for both plot outlines and keywords. Then we will plot the distributions of length of words for both columns."
   ]
  },
  {
   "cell_type": "code",
   "execution_count": 70,
   "metadata": {},
   "outputs": [],
   "source": [
    "import re\n",
    "import nltk\n",
    "from nltk.tokenize import word_tokenize, sent_tokenize"
   ]
  },
  {
   "cell_type": "markdown",
   "metadata": {},
   "source": [
    "Let's get a histogram of the number of words in every plot outline:"
   ]
  },
  {
   "cell_type": "code",
   "execution_count": 71,
   "metadata": {},
   "outputs": [
    {
     "data": {
      "image/png": "[encoded data removed]",
      "text/plain": [
       "<Figure size 432x288 with 1 Axes>"
      ]
     },
     "metadata": {},
     "output_type": "display_data"
    }
   ],
   "source": [
    "number_of_words = []\n",
    "for plot in plots_and_keywords['plot outlines']:\n",
    "    plot = word_tokenize(plot)\n",
    "    number_of_words.append(len(plot))\n",
    "\n",
    "plt.hist(number_of_words)\n",
    "plt.xlabel('number of words in plot outline')\n",
    "plt.ylabel('number of movies')\n",
    "plt.show()"
   ]
  },
  {
   "cell_type": "markdown",
   "metadata": {},
   "source": [
    "It doesn't look like too many values are above 500. Let us count how many."
   ]
  },
  {
   "cell_type": "code",
   "execution_count": 72,
   "metadata": {},
   "outputs": [
    {
     "data": {
      "text/plain": [
       "16"
      ]
     },
     "execution_count": 72,
     "metadata": {},
     "output_type": "execute_result"
    }
   ],
   "source": [
    "(pd.Series(number_of_words) > 500).sum()"
   ]
  },
  {
   "cell_type": "markdown",
   "metadata": {},
   "source": [
    "Only 16. So let's redo the histogram but with the range only extending to 500 for better clarity."
   ]
  },
  {
   "cell_type": "code",
   "execution_count": 73,
   "metadata": {},
   "outputs": [
    {
     "data": {
      "image/png": "[encoded data removed]",
      "text/plain": [
       "<Figure size 432x288 with 1 Axes>"
      ]
     },
     "metadata": {},
     "output_type": "display_data"
    }
   ],
   "source": [
    "plt.hist(number_of_words, range=(0,500)) # doing because only 16 values are greater than 500\n",
    "plt.xlabel('number of words in plot outline')\n",
    "plt.ylabel('number of movies')\n",
    "plt.show()"
   ]
  },
  {
   "cell_type": "markdown",
   "metadata": {},
   "source": [
    "So the majority of plot outlines are between 50 and 150 words"
   ]
  },
  {
   "cell_type": "markdown",
   "metadata": {},
   "source": [
    "Let's do the same analysis for keywords."
   ]
  },
  {
   "cell_type": "markdown",
   "metadata": {},
   "source": [
    "First, we need to get rid of the nans."
   ]
  },
  {
   "cell_type": "code",
   "execution_count": 74,
   "metadata": {},
   "outputs": [],
   "source": [
    "plots_and_keywords = plots_and_keywords[plots_and_keywords.keywords.notnull()]"
   ]
  },
  {
   "cell_type": "code",
   "execution_count": 75,
   "metadata": {},
   "outputs": [
    {
     "data": {
      "image/png": "[encoded data removed]",
      "text/plain": [
       "<Figure size 432x288 with 1 Axes>"
      ]
     },
     "metadata": {},
     "output_type": "display_data"
    }
   ],
   "source": [
    "number_of_keywords = []\n",
    "for keywords in plots_and_keywords['keywords']:\n",
    "    n_keywords = len(keywords.split(','))\n",
    "    number_of_keywords.append(n_keywords)\n",
    "\n",
    "plt.hist(number_of_keywords)\n",
    "plt.xlabel('number of words in keywords column')\n",
    "plt.ylabel('number of movies')\n",
    "plt.show()"
   ]
  },
  {
   "cell_type": "markdown",
   "metadata": {},
   "source": [
    "So we see the number of keywords is slightly more than the number of words in plot outlines. "
   ]
  },
  {
   "cell_type": "code",
   "execution_count": 76,
   "metadata": {},
   "outputs": [
    {
     "data": {
      "text/plain": [
       "867"
      ]
     },
     "execution_count": 76,
     "metadata": {},
     "output_type": "execute_result"
    }
   ],
   "source": [
    "max(number_of_keywords)"
   ]
  },
  {
   "cell_type": "markdown",
   "metadata": {},
   "source": [
    "The max number of keywords is 867. Let's see how many movies have more than 600 keywords."
   ]
  },
  {
   "cell_type": "code",
   "execution_count": 77,
   "metadata": {},
   "outputs": [
    {
     "data": {
      "text/plain": [
       "(19,)"
      ]
     },
     "execution_count": 77,
     "metadata": {},
     "output_type": "execute_result"
    }
   ],
   "source": [
    "pd.Series(number_of_keywords)[pd.Series(number_of_keywords) >= 600].shape"
   ]
  },
  {
   "cell_type": "markdown",
   "metadata": {},
   "source": [
    "So only 19. Let's Change the range to a maximum of 600."
   ]
  },
  {
   "cell_type": "code",
   "execution_count": 78,
   "metadata": {},
   "outputs": [
    {
     "data": {
      "image/png": "[encoded data removed]",
      "text/plain": [
       "<Figure size 432x288 with 1 Axes>"
      ]
     },
     "metadata": {},
     "output_type": "display_data"
    }
   ],
   "source": [
    "plt.hist(number_of_keywords, range=(0,600))\n",
    "plt.xlabel('number of words in keywords column')\n",
    "plt.ylabel('number of movies')\n",
    "plt.show()"
   ]
  },
  {
   "cell_type": "markdown",
   "metadata": {},
   "source": [
    "Let's compare the distributions for keywords and plot outlines."
   ]
  },
  {
   "cell_type": "code",
   "execution_count": 79,
   "metadata": {},
   "outputs": [
    {
     "data": {
      "text/plain": [
       "count   9877.000\n",
       "mean     121.934\n",
       "std       98.428\n",
       "min        1.000\n",
       "25%       50.000\n",
       "50%       95.000\n",
       "75%      170.000\n",
       "max      867.000\n",
       "dtype: float64"
      ]
     },
     "execution_count": 79,
     "metadata": {},
     "output_type": "execute_result"
    }
   ],
   "source": [
    "pd.Series(number_of_keywords).describe()"
   ]
  },
  {
   "cell_type": "code",
   "execution_count": 80,
   "metadata": {},
   "outputs": [
    {
     "data": {
      "text/plain": [
       "count   10000.000\n",
       "mean      114.791\n",
       "std        73.099\n",
       "min         9.000\n",
       "25%        67.000\n",
       "50%        98.000\n",
       "75%       141.000\n",
       "max      1020.000\n",
       "dtype: float64"
      ]
     },
     "execution_count": 80,
     "metadata": {},
     "output_type": "execute_result"
    }
   ],
   "source": [
    "pd.Series(number_of_words).describe()"
   ]
  },
  {
   "cell_type": "markdown",
   "metadata": {},
   "source": [
    "We see that the mean for keywords is slightly greater than the mean for words in plot outlines. This is misleading however, since most keywords tend to be compound words (e.g. \"dc-comics\"). This was why the number of characters for keywords is far greater than for plot outlines. Additionally, the words in keywords are more sophisticated than in plot outlines (because for one, there are no stop words among the keywords)."
   ]
  },
  {
   "cell_type": "markdown",
   "metadata": {},
   "source": [
    "Now let's find the length's of words for both columns."
   ]
  },
  {
   "cell_type": "code",
   "execution_count": 81,
   "metadata": {},
   "outputs": [
    {
     "data": {
      "image/png": "[encoded data removed]",
      "text/plain": [
       "<Figure size 432x288 with 1 Axes>"
      ]
     },
     "metadata": {},
     "output_type": "display_data"
    }
   ],
   "source": [
    "word_lengths = []\n",
    "for plot in plots_and_keywords['plot outlines']:\n",
    "    plot = word_tokenize(plot)\n",
    "    for word in plot:\n",
    "        word_lengths.append(len(word))\n",
    "\n",
    "plt.hist(word_lengths)\n",
    "plt.xlabel('length of words in plot outline by number of characters')\n",
    "plt.ylabel('number of words')\n",
    "plt.show()"
   ]
  },
  {
   "cell_type": "code",
   "execution_count": 82,
   "metadata": {},
   "outputs": [
    {
     "data": {
      "image/png": "[encoded data removed]",
      "text/plain": [
       "<Figure size 432x288 with 1 Axes>"
      ]
     },
     "metadata": {},
     "output_type": "display_data"
    }
   ],
   "source": [
    "keyword_lengths = []\n",
    "for keywords in plots_and_keywords['keywords']:\n",
    "    keywords = keywords.split(',')\n",
    "    for keyword in keywords:\n",
    "        keyword_lengths.append(len(keyword))\n",
    "        \n",
    "plt.hist(keyword_lengths)\n",
    "plt.xlabel('length of words in keywords by number of characters')\n",
    "plt.ylabel('number of words')\n",
    "plt.show()"
   ]
  },
  {
   "cell_type": "markdown",
   "metadata": {},
   "source": [
    "So we see that they keywords are longer than the words in the plot outlines. Here, we recounted the same words in each column numerous times. But we can see how the keywords are longer than the words the in plot outlines. "
   ]
  },
  {
   "cell_type": "markdown",
   "metadata": {},
   "source": [
    "Moving on."
   ]
  },
  {
   "cell_type": "markdown",
   "metadata": {},
   "source": [
    "Next, let's get most the most common words for plot outlines and keywords."
   ]
  },
  {
   "cell_type": "markdown",
   "metadata": {},
   "source": [
    "Let's find the most common words for both plot outlines and keywords."
   ]
  },
  {
   "cell_type": "code",
   "execution_count": 83,
   "metadata": {},
   "outputs": [
    {
     "name": "stdout",
     "output_type": "stream",
     "text": [
      "[nltk_data] Downloading package stopwords to\n",
      "[nltk_data]     C:\\Users\\gideo\\AppData\\Roaming\\nltk_data...\n",
      "[nltk_data]   Package stopwords is already up-to-date!\n"
     ]
    }
   ],
   "source": [
    "import re\n",
    "import nltk\n",
    "nltk.download('stopwords')\n",
    "from nltk.corpus import stopwords\n",
    "from nltk.stem import WordNetLemmatizer\n",
    "# Create functions for making alpha, removing stop words, and lemmatizing\n",
    "def make_alpha(doc):\n",
    "    # Retain alphabetic words: alpha_only\n",
    "    alpha_only = [t for t in doc if t.isalpha()]    \n",
    "    return(alpha_only)\n",
    "def remove_stops(doc):\n",
    "    no_stops = [t for t in doc if t not in stopwords.words('english')]\n",
    "    return(no_stops)\n",
    "def lemmatize(doc):\n",
    "    wordnet_lemmatizer = WordNetLemmatizer()\n",
    "    lemmatized = [wordnet_lemmatizer.lemmatize(t) for t in doc]\n",
    "    return(lemmatized)\n",
    "def no_commas(doc):\n",
    "    no_commas = [t for t in doc if t!=',']\n",
    "    return(no_commas)"
   ]
  },
  {
   "cell_type": "code",
   "execution_count": 84,
   "metadata": {},
   "outputs": [],
   "source": [
    "plot_outlines = plots_and_keywords['plot outlines'].tolist()"
   ]
  },
  {
   "cell_type": "code",
   "execution_count": 85,
   "metadata": {},
   "outputs": [
    {
     "name": "stderr",
     "output_type": "stream",
     "text": [
      "C:\\Users\\gideo\\Anaconda3\\lib\\site-packages\\gensim\\utils.py:1197: UserWarning: detected Windows; aliasing chunkize to chunkize_serial\n",
      "  warnings.warn(\"detected Windows; aliasing chunkize to chunkize_serial\")\n"
     ]
    },
    {
     "name": "stdout",
     "output_type": "stream",
     "text": [
      "life 3993\n",
      "one 3004\n",
      "find 2946\n",
      "get 2461\n",
      "new 2222\n"
     ]
    }
   ],
   "source": [
    "# plot_outlines = [word_tokenize(outline.lower()) for outline in plot_outlines] #lowecase the words and tokenize them\n",
    "# plot_outlines = [make_alpha(outline) for outline in plot_outlines] \n",
    "# plot_outlines = [remove_stops(outline) for outline in plot_outlines] \n",
    "# plot_outlines = [lemmatize(outline) for outline in plot_outlines] \n",
    "\n",
    "# import csv\n",
    "# with open('plot_outlines.csv', 'w') as csvFile:\n",
    "#     writer = csv.writer(csvFile)\n",
    "#     writer.writerows(plot_outlines)\n",
    "# csvFile.close()\n",
    "\n",
    "import csv\n",
    "with open('plot_outlines.csv', 'r') as f:\n",
    "    reader = csv.reader(f)\n",
    "    plot_outlines = list(reader)\n",
    "\n",
    "from gensim.corpora.dictionary import Dictionary\n",
    "dictionary_outlines = Dictionary(plot_outlines)\n",
    "corpus = [dictionary_outlines.doc2bow(outline) for outline in plot_outlines]\n",
    "\n",
    "# Create the defaultdict: total_word_count\n",
    "# This dictionary contains every word ID and its corresponding number of times it appears in the corpus\n",
    "from collections import defaultdict\n",
    "import itertools\n",
    "total_word_count = defaultdict(int)\n",
    "for word_id, word_count in itertools.chain.from_iterable(corpus):\n",
    "    total_word_count[word_id] += word_count\n",
    "\n",
    "# Create a sorted list from the defaultdict: sorted_word_count\n",
    "sorted_word_count = sorted(total_word_count.items(), key=lambda w: w[1], reverse=True)\n",
    "\n",
    "# Print the top 20 words across all documents alongside the count\n",
    "for word_id, word_count in sorted_word_count[:5]:\n",
    "    print(dictionary_outlines.get(word_id), word_count)"
   ]
  },
  {
   "cell_type": "code",
   "execution_count": 86,
   "metadata": {},
   "outputs": [
    {
     "name": "stdout",
     "output_type": "stream",
     "text": [
      "murder 3455\n",
      "death 3156\n",
      "blood 2825\n",
      "husband-wife-relationship 2724\n",
      "violence 2678\n"
     ]
    }
   ],
   "source": [
    "# keywords = plots_and_keywords['keywords'].tolist()\n",
    "# keywords = [word_tokenize(keyword.lower()) for keyword in keywords]\n",
    "# keywords = [no_commas(kw) for kw in keywords]\n",
    "\n",
    "# import csv\n",
    "# with open('keywords.csv', 'w') as csvFile:\n",
    "#     writer = csv.writer(csvFile)\n",
    "#     writer.writerows(keywords)\n",
    "# csvFile.close()\n",
    "\n",
    "import csv\n",
    "with open('keywords.csv', 'r') as f:\n",
    "    reader = csv.reader(f)\n",
    "    keywords = list(reader)\n",
    "\n",
    "from gensim.corpora.dictionary import Dictionary\n",
    "dictionary_keywords = Dictionary(keywords)\n",
    "corpus = [dictionary_keywords.doc2bow(keyword) for keyword in keywords]\n",
    "\n",
    "# Create the defaultdict: total_word_count\n",
    "# This dictionary contains every word ID and its corresponding number of times it appears in the corpus\n",
    "from collections import defaultdict\n",
    "import itertools\n",
    "total_word_count = defaultdict(int)\n",
    "for word_id, word_count in itertools.chain.from_iterable(corpus):\n",
    "    total_word_count[word_id] += word_count\n",
    "\n",
    "# Create a sorted list from the defaultdict: sorted_word_count\n",
    "sorted_word_count = sorted(total_word_count.items(), key=lambda w: w[1], reverse=True)\n",
    "\n",
    "# Print the top 20 words across all documents alongside the count\n",
    "for word_id, word_count in sorted_word_count[:5]:\n",
    "    print(dictionary_keywords.get(word_id), word_count)"
   ]
  },
  {
   "cell_type": "markdown",
   "metadata": {},
   "source": [
    "We see that the words used in keywords are most complicated and descriptive than the most common words from plot outlines, which are more commonly used words."
   ]
  }
 ],
 "metadata": {
  "kernelspec": {
   "display_name": "Python 3",
   "language": "python",
   "name": "python3"
  },
  "language_info": {
   "codemirror_mode": {
    "name": "ipython",
    "version": 3
   },
   "file_extension": ".py",
   "mimetype": "text/x-python",
   "name": "python",
   "nbconvert_exporter": "python",
   "pygments_lexer": "ipython3",
   "version": "3.7.6"
  }
 },
 "nbformat": 4,
 "nbformat_minor": 4
}
