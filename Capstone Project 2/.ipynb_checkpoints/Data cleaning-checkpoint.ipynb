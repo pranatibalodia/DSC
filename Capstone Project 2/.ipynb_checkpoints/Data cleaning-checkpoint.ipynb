{
 "cells": [
  {
   "cell_type": "code",
   "execution_count": 3,
   "metadata": {},
   "outputs": [],
   "source": [
    "# Import libraries\n",
    "import pandas as pd\n",
    "import numpy as np"
   ]
  },
  {
   "cell_type": "code",
   "execution_count": 5,
   "metadata": {},
   "outputs": [
    {
     "name": "stderr",
     "output_type": "stream",
     "text": [
      "C:\\Users\\gideo\\Anaconda3\\lib\\site-packages\\IPython\\core\\interactiveshell.py:2785: DtypeWarning: Columns (5) have mixed types. Specify dtype option on import or set low_memory=False.\n",
      "  interactivity=interactivity, compiler=compiler, result=result)\n"
     ]
    }
   ],
   "source": [
    "# Import 3 tables from IMDb datasets that we need\n",
    "title_basics = pd.read_csv('data/title.basics.tsv.gz', sep='\\t', header=0)\n",
    "title_crew = pd.read_csv('data/title.crew.tsv.gz', sep='\\t', header=0)\n",
    "title_ratings = pd.read_csv('data/title.ratings.tsv.gz', sep='\\t', header=0)"
   ]
  },
  {
   "cell_type": "code",
   "execution_count": 6,
   "metadata": {},
   "outputs": [],
   "source": [
    "# Select only movies from the title_basics table, and convert the start years to numeric type\n",
    "movies = title_basics[(title_basics.titleType == 'movie')].copy()\n",
    "movies = movies[pd.to_numeric(movies['startYear'], errors='coerce').notnull()]\n",
    "movies.startYear = pd.to_numeric(movies.startYear)"
   ]
  },
  {
   "cell_type": "code",
   "execution_count": 7,
   "metadata": {},
   "outputs": [],
   "source": [
    "# Set the indicies for our 3 tables to the IMDb key for movies\n",
    "movies.set_index('tconst', inplace=True)\n",
    "title_crew.set_index('tconst', inplace=True)\n",
    "title_ratings.set_index('tconst', inplace=True)"
   ]
  },
  {
   "cell_type": "code",
   "execution_count": 8,
   "metadata": {},
   "outputs": [],
   "source": [
    "# Joint the 3 tables by tconst, the IMDb key for all movies\n",
    "movies_crew = movies.join(title_crew, how='inner')\n",
    "movies_crew_rating = movies_crew.join(title_ratings, how='inner')"
   ]
  },
  {
   "cell_type": "code",
   "execution_count": 9,
   "metadata": {},
   "outputs": [
    {
     "data": {
      "text/html": [
       "<div>\n",
       "<style scoped>\n",
       "    .dataframe tbody tr th:only-of-type {\n",
       "        vertical-align: middle;\n",
       "    }\n",
       "\n",
       "    .dataframe tbody tr th {\n",
       "        vertical-align: top;\n",
       "    }\n",
       "\n",
       "    .dataframe thead th {\n",
       "        text-align: right;\n",
       "    }\n",
       "</style>\n",
       "<table border=\"1\" class=\"dataframe\">\n",
       "  <thead>\n",
       "    <tr style=\"text-align: right;\">\n",
       "      <th></th>\n",
       "      <th>titleType</th>\n",
       "      <th>primaryTitle</th>\n",
       "      <th>originalTitle</th>\n",
       "      <th>isAdult</th>\n",
       "      <th>startYear</th>\n",
       "      <th>endYear</th>\n",
       "      <th>runtimeMinutes</th>\n",
       "      <th>genres</th>\n",
       "      <th>directors</th>\n",
       "      <th>writers</th>\n",
       "      <th>averageRating</th>\n",
       "      <th>numVotes</th>\n",
       "    </tr>\n",
       "    <tr>\n",
       "      <th>tconst</th>\n",
       "      <th></th>\n",
       "      <th></th>\n",
       "      <th></th>\n",
       "      <th></th>\n",
       "      <th></th>\n",
       "      <th></th>\n",
       "      <th></th>\n",
       "      <th></th>\n",
       "      <th></th>\n",
       "      <th></th>\n",
       "      <th></th>\n",
       "      <th></th>\n",
       "    </tr>\n",
       "  </thead>\n",
       "  <tbody>\n",
       "    <tr>\n",
       "      <th>tt0111161</th>\n",
       "      <td>movie</td>\n",
       "      <td>The Shawshank Redemption</td>\n",
       "      <td>The Shawshank Redemption</td>\n",
       "      <td>0</td>\n",
       "      <td>1994</td>\n",
       "      <td>\\N</td>\n",
       "      <td>142</td>\n",
       "      <td>Drama</td>\n",
       "      <td>nm0001104</td>\n",
       "      <td>nm0000175,nm0001104</td>\n",
       "      <td>9.3</td>\n",
       "      <td>2057323</td>\n",
       "    </tr>\n",
       "  </tbody>\n",
       "</table>\n",
       "</div>"
      ],
      "text/plain": [
       "          titleType              primaryTitle             originalTitle  \\\n",
       "tconst                                                                    \n",
       "tt0111161     movie  The Shawshank Redemption  The Shawshank Redemption   \n",
       "\n",
       "           isAdult  startYear endYear runtimeMinutes genres  directors  \\\n",
       "tconst                                                                   \n",
       "tt0111161        0       1994      \\N            142  Drama  nm0001104   \n",
       "\n",
       "                       writers  averageRating  numVotes  \n",
       "tconst                                                   \n",
       "tt0111161  nm0000175,nm0001104            9.3   2057323  "
      ]
     },
     "execution_count": 9,
     "metadata": {},
     "output_type": "execute_result"
    }
   ],
   "source": [
    "# Example row from our new dataframe displaying information for 'The Shawshank Redemption'\n",
    "movies_crew_rating[movies_crew_rating.primaryTitle == 'The Shawshank Redemption']"
   ]
  },
  {
   "cell_type": "markdown",
   "metadata": {},
   "source": [
    "**Note**: We can get the actual names (as opposed to their IDs on IMDb) of the writers and directors through the name_basics table. We can also get this information from the IMDbPY API."
   ]
  },
  {
   "cell_type": "markdown",
   "metadata": {},
   "source": [
    "Some movies have multiple directors (and almost every movie has multiple writers). So we would need to account for this in order to get the name in movies_crew_rating, if that is something we need. Currently, we don't need the actual names of directors and writers so we will not apply the needed logic."
   ]
  },
  {
   "cell_type": "code",
   "execution_count": 10,
   "metadata": {},
   "outputs": [],
   "source": [
    "# Take only the top 10,000 movies, where we rank movies by the number of votes they have received\n",
    "top_10000_movies = movies_crew_rating.sort_values(by='numVotes', ascending=False)[:10000]\n",
    "movies_index = top_10000_movies.index"
   ]
  },
  {
   "cell_type": "code",
   "execution_count": 11,
   "metadata": {},
   "outputs": [],
   "source": [
    "from tqdm import tqdm\n",
    "from time import sleep\n",
    "from imdb import IMDb\n",
    "\n",
    "ia = IMDb()"
   ]
  },
  {
   "cell_type": "markdown",
   "metadata": {},
   "source": [
    "##### Code to get plot summaries "
   ]
  },
  {
   "cell_type": "markdown",
   "metadata": {},
   "source": [
    "We have already executed this code, so it is commented out. In the code that follows, we load the results into dataframe called 'plots'."
   ]
  },
  {
   "cell_type": "code",
   "execution_count": 11,
   "metadata": {},
   "outputs": [],
   "source": [
    "# Load our plots for the CSV\n",
    "plots = pd.read_csv('movies.csv')\n",
    "plots.rename(columns={'Unnamed: 0':'tconst'}, inplace=True)\n",
    "plots.set_index('tconst', inplace=True)"
   ]
  },
  {
   "cell_type": "code",
   "execution_count": 12,
   "metadata": {},
   "outputs": [],
   "source": [
    "# Merge plot into our movies table\n",
    "movies = top_10000_movies.join(plots, how='inner')"
   ]
  },
  {
   "cell_type": "code",
   "execution_count": 13,
   "metadata": {},
   "outputs": [],
   "source": [
    "movies.drop(labels=['titleType', 'originalTitle', 'isAdult', 'endYear'], axis='columns', inplace=True) "
   ]
  },
  {
   "cell_type": "markdown",
   "metadata": {},
   "source": [
    "##### Code to get Plot Outlines"
   ]
  },
  {
   "cell_type": "markdown",
   "metadata": {},
   "source": [
    "Try and implement the below code by writing directly to a CSV instead of using pandas and possiby even dicts (i.e. can we write to a CSV directly?)"
   ]
  },
  {
   "cell_type": "code",
   "execution_count": 14,
   "metadata": {},
   "outputs": [
    {
     "name": "stderr",
     "output_type": "stream",
     "text": [
      "100%|██████████| 10000/10000 [8:35:19<00:00,  2.93s/it]  \n"
     ]
    }
   ],
   "source": [
    "plot_outlines= {}\n",
    "\n",
    "for movie_index in tqdm(movies_index):\n",
    "    sleep(1.5)\n",
    "    movie = ia.get_movie(movie_index[2:])\n",
    "    try:\n",
    "        plot_outlines[movie_index] = movie['plot outline']\n",
    "    except:\n",
    "        plot_outlines[movie_index] = ''\n",
    "\n",
    "## Convert out dictionary to a Dataframe and raname our column to 'plot'\n",
    "\n",
    "plot_outlines = pd.DataFrame.from_dict(plot_outlines, orient='index')\n",
    "plot_outlines.rename(columns={0:'plot'}, inplace=True)\n",
    "\n",
    "## Save the plots to a CSV\n",
    "plot_outlines.to_csv(path_or_buf='plot_outlines.csv')"
   ]
  },
  {
   "cell_type": "code",
   "execution_count": 39,
   "metadata": {},
   "outputs": [],
   "source": [
    "# Load our plot outlies for the CSV\n",
    "plot_outlines = pd.read_csv('plot_outlines.csv')\n",
    "plot_outlines.rename(columns={'Unnamed: 0':'tconst'}, inplace=True)\n",
    "plot_outlines.set_index('tconst', inplace=True)\n",
    "plot_outlines.rename(columns={'plot':'plot outlines'}, inplace=True)"
   ]
  },
  {
   "cell_type": "code",
   "execution_count": 55,
   "metadata": {},
   "outputs": [],
   "source": [
    "# Join to our table\n",
    "movies = movies.join(plot_outlines, how='inner')\n",
    "# Save our dataframe \n",
    "movies.to_csv(path_or_buf='movies0.csv')"
   ]
  },
  {
   "cell_type": "markdown",
   "metadata": {},
   "source": [
    "##### Get Keywords"
   ]
  },
  {
   "cell_type": "code",
   "execution_count": 126,
   "metadata": {},
   "outputs": [],
   "source": [
    "keywords_dict = {}\n",
    "for movie_index in tqdm(movies_index):\n",
    "    sleep(1)\n",
    "    try:\n",
    "        keywords_dict[movie_index] = ia.get_movie_keywords(movie_index[2:])['data']['keywords']\n",
    "    except:\n",
    "        keywords_dict[movie_index] = ''   \n",
    "        \n",
    "keywords = pd.DataFrame(dict([ (k,pd.Series(v)) for k,v in keywords_dict.items() ])).transpose()\n",
    "keywords = keywords.apply(lambda x: ','.join(x.dropna()), axis=1)\n",
    "keywords = pd.DataFrame(keywords)\n",
    "keywords.rename(columns={0:'keywords'}, inplace=True)\n",
    "\n",
    "## Save the plots to a CSV\n",
    "keywords.to_csv(path_or_buf='keywords.csv')"
   ]
  },
  {
   "cell_type": "code",
   "execution_count": 129,
   "metadata": {},
   "outputs": [],
   "source": [
    "# Load our plot outlies for the CSV\n",
    "keywords = pd.read_csv('keywords.csv')\n",
    "keywords.rename(columns={'Unnamed: 0':'tconst'}, inplace=True)\n",
    "keywords.set_index('tconst', inplace=True)"
   ]
  },
  {
   "cell_type": "code",
   "execution_count": 139,
   "metadata": {},
   "outputs": [],
   "source": [
    "# Join to our table\n",
    "movies = movies.join(keywords, how='inner')\n",
    "# Save our dataframe \n",
    "movies.to_csv(path_or_buf='movies0.csv')"
   ]
  },
  {
   "cell_type": "markdown",
   "metadata": {},
   "source": [
    "##### Get Synopses"
   ]
  },
  {
   "cell_type": "code",
   "execution_count": 13,
   "metadata": {},
   "outputs": [
    {
     "name": "stderr",
     "output_type": "stream",
     "text": [
      "100%|██████████| 10000/10000 [9:57:49<00:00,  3.40s/it]  \n"
     ]
    }
   ],
   "source": [
    "synopses_dict = {}\n",
    "for movie_index in tqdm(movies_index):\n",
    "    sleep(2)\n",
    "    try:\n",
    "        synopses_dict[movie_index] = ia.get_movie(movie_index[2:])['synopsis']\n",
    "    except:\n",
    "        synopses_dict[movie_index] = ''   \n",
    "\n",
    "## Convert out dictionary to a Dataframe and raname our column to 'synopsis'\n",
    "synopses = pd.DataFrame.from_dict(synopses_dict).transpose()\n",
    "synopses.rename(columns={0:'synopsis'}, inplace=True)\n",
    "\n",
    "## Save the plots to a CSV\n",
    "synopses.to_csv(path_or_buf='synopses.csv')"
   ]
  },
  {
   "cell_type": "code",
   "execution_count": 24,
   "metadata": {},
   "outputs": [],
   "source": [
    "# Load synopses \n",
    "synopses = pd.read_csv('synopses.csv')\n",
    "synopses.rename(columns={'Unnamed: 0':'tconst'}, inplace=True)\n",
    "synopses.set_index('tconst', inplace=True)"
   ]
  },
  {
   "cell_type": "code",
   "execution_count": 63,
   "metadata": {},
   "outputs": [],
   "source": [
    "# Join to our table\n",
    "movies = movies.join(synopses, how='inner')\n",
    "# Save our dataframe \n",
    "movies.to_csv(path_or_buf='movies0.csv')"
   ]
  }
 ],
 "metadata": {
  "kernelspec": {
   "display_name": "Python 3",
   "language": "python",
   "name": "python3"
  },
  "language_info": {
   "codemirror_mode": {
    "name": "ipython",
    "version": 3
   },
   "file_extension": ".py",
   "mimetype": "text/x-python",
   "name": "python",
   "nbconvert_exporter": "python",
   "pygments_lexer": "ipython3",
   "version": "3.7.6"
  }
 },
 "nbformat": 4,
 "nbformat_minor": 4
}
